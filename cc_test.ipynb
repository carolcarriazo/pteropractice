{
 "cells": [
  {
   "cell_type": "markdown",
   "metadata": {},
   "source": [
    "#Cross Correlation: Slow and Fast"
   ]
  },
  {
   "cell_type": "markdown",
   "metadata": {},
   "source": [
    "*Basic Idea:* The cross correlation is a measure of the similarity between two functions with various lag or shift inserted between the two functions. The cross correlation could be called the \"sliding inner product\": it is calculated by shifting one function relative to the other by various amounts, multiplying the two functions together (after the shift) and summing the products. When the two functions are shifted such that they are most similar, the sum of the products will be a sum of squared terms, often resulting in a peak of the cross correlation function. \n",
    "\n",
    "Useful link: <http://www.ee.ic.ac.uk/hp/staff/dmb/courses/E1Fourier/00800_Correlation.pdf>"
   ]
  },
  {
   "cell_type": "markdown",
   "metadata": {},
   "source": [
    "##1. Let's make a star scene"
   ]
  },
  {
   "cell_type": "code",
<<<<<<< HEAD
   "execution_count": 49,
=======
   "execution_count": 88,
>>>>>>> 1d61394271450685a9041ea4f50a33c78155d24f
   "metadata": {
    "collapsed": false
   },
   "outputs": [
    {
     "name": "stdout",
     "output_type": "stream",
     "text": [
      "Using matplotlib backend: MacOSX\n",
      "Populating the interactive namespace from numpy and matplotlib\n"
     ]
    }
   ],
   "source": [
    "%pylab"
   ]
  },
  {
   "cell_type": "code",
<<<<<<< HEAD
   "execution_count": 50,
=======
   "execution_count": 89,
>>>>>>> 1d61394271450685a9041ea4f50a33c78155d24f
   "metadata": {
    "collapsed": true
   },
   "outputs": [],
   "source": [
    "npts = 256"
   ]
  },
  {
   "cell_type": "code",
<<<<<<< HEAD
   "execution_count": 51,
=======
   "execution_count": 90,
>>>>>>> 1d61394271450685a9041ea4f50a33c78155d24f
   "metadata": {
    "collapsed": true
   },
   "outputs": [],
   "source": [
    "y,x = indices((npts,npts))"
   ]
  },
  {
   "cell_type": "code",
<<<<<<< HEAD
   "execution_count": 52,
=======
   "execution_count": 91,
>>>>>>> 1d61394271450685a9041ea4f50a33c78155d24f
   "metadata": {
    "collapsed": true
   },
   "outputs": [],
   "source": [
    "import time"
   ]
  },
  {
   "cell_type": "code",
<<<<<<< HEAD
   "execution_count": 53,
=======
   "execution_count": 92,
>>>>>>> 1d61394271450685a9041ea4f50a33c78155d24f
   "metadata": {
    "collapsed": true
   },
   "outputs": [],
   "source": [
    "xc = array([82, 61, 21.])\n",
    "yc = array([75, 55, 99])\n",
    "amp = array([12, 4, 18]) # assign centers and amplitudes for three \"stars\""
   ]
  },
  {
   "cell_type": "code",
<<<<<<< HEAD
   "execution_count": 54,
=======
   "execution_count": 93,
>>>>>>> 1d61394271450685a9041ea4f50a33c78155d24f
   "metadata": {
    "collapsed": true
   },
   "outputs": [],
   "source": [
    "f0 = 0.0 * y # cheezy way to allocate an array of zeros"
   ]
  },
  {
   "cell_type": "code",
<<<<<<< HEAD
   "execution_count": 55,
=======
   "execution_count": 94,
>>>>>>> 1d61394271450685a9041ea4f50a33c78155d24f
   "metadata": {
    "collapsed": true
   },
   "outputs": [],
   "source": [
    "for i in range(3):\n",
    "    f0 += amp[i]*exp(-(((x-xc[i])**2 + (y-yc[i])**2)/10.))"
   ]
  },
  {
   "cell_type": "code",
<<<<<<< HEAD
   "execution_count": 56,
=======
   "execution_count": 95,
>>>>>>> 1d61394271450685a9041ea4f50a33c78155d24f
   "metadata": {
    "collapsed": false
   },
   "outputs": [
    {
     "data": {
      "text/plain": [
<<<<<<< HEAD
       "<matplotlib.image.AxesImage at 0x10d049350>"
      ]
     },
     "execution_count": 56,
=======
       "<matplotlib.image.AxesImage at 0x115a0f350>"
      ]
     },
     "execution_count": 95,
>>>>>>> 1d61394271450685a9041ea4f50a33c78155d24f
     "metadata": {},
     "output_type": "execute_result"
    }
   ],
   "source": [
    "imshow(f0, interpolation = \"nearest\")"
   ]
  },
  {
   "cell_type": "code",
<<<<<<< HEAD
   "execution_count": 57,
=======
   "execution_count": 96,
>>>>>>> 1d61394271450685a9041ea4f50a33c78155d24f
   "metadata": {
    "collapsed": false
   },
   "outputs": [],
   "source": [
    "xShift = 22\n",
    "yShift = 6\n",
    "f1 = roll(roll(f0, yShift, axis=0), xShift, axis=1) # Can only shift by integer amounts"
   ]
  },
  {
   "cell_type": "code",
<<<<<<< HEAD
   "execution_count": 58,
=======
   "execution_count": 97,
>>>>>>> 1d61394271450685a9041ea4f50a33c78155d24f
   "metadata": {
    "collapsed": false
   },
   "outputs": [
    {
     "data": {
      "text/plain": [
<<<<<<< HEAD
       "<matplotlib.figure.Figure at 0x10d33ee10>"
      ]
     },
     "execution_count": 58,
=======
       "<matplotlib.figure.Figure at 0x116dafa90>"
      ]
     },
     "execution_count": 97,
>>>>>>> 1d61394271450685a9041ea4f50a33c78155d24f
     "metadata": {},
     "output_type": "execute_result"
    }
   ],
   "source": [
    "figure(2)"
   ]
  },
  {
   "cell_type": "code",
<<<<<<< HEAD
   "execution_count": 59,
=======
   "execution_count": 98,
>>>>>>> 1d61394271450685a9041ea4f50a33c78155d24f
   "metadata": {
    "collapsed": false
   },
   "outputs": [
    {
     "data": {
      "text/plain": [
<<<<<<< HEAD
       "<matplotlib.image.AxesImage at 0x10cff4210>"
      ]
     },
     "execution_count": 59,
=======
       "<matplotlib.image.AxesImage at 0x1159c6850>"
      ]
     },
     "execution_count": 98,
>>>>>>> 1d61394271450685a9041ea4f50a33c78155d24f
     "metadata": {},
     "output_type": "execute_result"
    }
   ],
   "source": [
    "imshow(f1, interpolation = \"nearest\")"
   ]
  },
  {
   "cell_type": "markdown",
   "metadata": {},
   "source": [
    "##2. Get the cross correlation function - the slow way"
   ]
  },
  {
   "cell_type": "code",
<<<<<<< HEAD
   "execution_count": 60,
=======
   "execution_count": 99,
>>>>>>> 1d61394271450685a9041ea4f50a33c78155d24f
   "metadata": {
    "collapsed": true
   },
   "outputs": [],
   "source": [
    "cc_slow = y*0.0"
   ]
  },
  {
   "cell_type": "code",
<<<<<<< HEAD
   "execution_count": 61,
   "metadata": {
    "collapsed": true
   },
   "outputs": [],
   "source": [
    "t0 = time.time() # get current time"
   ]
  },
  {
   "cell_type": "code",
   "execution_count": 62,
=======
   "execution_count": 101,
>>>>>>> 1d61394271450685a9041ea4f50a33c78155d24f
   "metadata": {
    "collapsed": false
   },
   "outputs": [],
   "source": [
<<<<<<< HEAD
    "for iy in range(npts):\n",
    "    for ix in range(npts):\n",
    "        cc_slow[iy, ix] = sum(f0 * roll(roll(f1, iy, axis=0), ix, axis=1))"
   ]
  },
  {
   "cell_type": "code",
   "execution_count": 63,
   "metadata": {
    "collapsed": true
   },
   "outputs": [],
   "source": [
=======
    "t0 = time.time() # get current time\n",
    "for iy in range(npts):\n",
    "    for ix in range(npts):\n",
    "        cc_slow[iy, ix] = sum(f0 * roll(roll(f1, iy, axis=0), ix, axis=1))\n",
>>>>>>> 1d61394271450685a9041ea4f50a33c78155d24f
    "t_slow = time.time() - t0"
   ]
  },
  {
   "cell_type": "code",
<<<<<<< HEAD
   "execution_count": 64,
=======
   "execution_count": 103,
>>>>>>> 1d61394271450685a9041ea4f50a33c78155d24f
   "metadata": {
    "collapsed": false
   },
   "outputs": [
    {
     "data": {
      "text/plain": [
<<<<<<< HEAD
       "<matplotlib.figure.Figure at 0x10fa92c90>"
      ]
     },
     "execution_count": 64,
=======
       "<matplotlib.figure.Figure at 0x116ebd890>"
      ]
     },
     "execution_count": 103,
>>>>>>> 1d61394271450685a9041ea4f50a33c78155d24f
     "metadata": {},
     "output_type": "execute_result"
    }
   ],
   "source": [
    "figure(3)"
   ]
  },
  {
   "cell_type": "code",
<<<<<<< HEAD
   "execution_count": 65,
=======
   "execution_count": 104,
>>>>>>> 1d61394271450685a9041ea4f50a33c78155d24f
   "metadata": {
    "collapsed": false
   },
   "outputs": [
    {
     "data": {
      "text/plain": [
<<<<<<< HEAD
       "<matplotlib.image.AxesImage at 0x10fb08fd0>"
      ]
     },
     "execution_count": 65,
=======
       "<matplotlib.image.AxesImage at 0x1170da790>"
      ]
     },
     "execution_count": 104,
>>>>>>> 1d61394271450685a9041ea4f50a33c78155d24f
     "metadata": {},
     "output_type": "execute_result"
    }
   ],
   "source": [
    "imshow(cc_slow, interpolation = \"nearest\")"
   ]
  },
  {
   "cell_type": "code",
<<<<<<< HEAD
   "execution_count": 66,
=======
   "execution_count": 105,
>>>>>>> 1d61394271450685a9041ea4f50a33c78155d24f
   "metadata": {
    "collapsed": false
   },
   "outputs": [
    {
     "data": {
      "text/plain": [
       "(6, 22)"
      ]
     },
<<<<<<< HEAD
     "execution_count": 66,
=======
     "execution_count": 105,
>>>>>>> 1d61394271450685a9041ea4f50a33c78155d24f
     "metadata": {},
     "output_type": "execute_result"
    }
   ],
   "source": [
    "yMax, xMax = divmod(cc_slow.argmax(), npts)\n",
    "npts-yMax, npts-xMax"
   ]
  },
  {
   "cell_type": "markdown",
   "metadata": {},
   "source": [
    "##3. And the fast way, with FFTs"
   ]
  },
  {
   "cell_type": "code",
<<<<<<< HEAD
   "execution_count": 67,
   "metadata": {
    "collapsed": true
   },
   "outputs": [],
   "source": [
    "t0 = time.time() # get current time"
   ]
  },
  {
   "cell_type": "code",
   "execution_count": 68,
=======
   "execution_count": 107,
>>>>>>> 1d61394271450685a9041ea4f50a33c78155d24f
   "metadata": {
    "collapsed": false
   },
   "outputs": [],
   "source": [
<<<<<<< HEAD
    "cc_fast = ifft2(fft2(f0) * conj(fft2(f1)))"
   ]
  },
  {
   "cell_type": "code",
   "execution_count": 69,
   "metadata": {
    "collapsed": true
   },
   "outputs": [],
   "source": [
=======
    "t0 = time.time() # get current time\n",
    "cc_fast = ifft2(fft2(f0) * conj(fft2(f1)))\n",
>>>>>>> 1d61394271450685a9041ea4f50a33c78155d24f
    "t_fast = time.time() - t0"
   ]
  },
  {
   "cell_type": "code",
<<<<<<< HEAD
   "execution_count": 70,
=======
   "execution_count": 109,
>>>>>>> 1d61394271450685a9041ea4f50a33c78155d24f
   "metadata": {
    "collapsed": false
   },
   "outputs": [
    {
     "data": {
      "text/plain": [
<<<<<<< HEAD
       "<matplotlib.figure.Figure at 0x111023250>"
      ]
     },
     "execution_count": 70,
=======
       "<matplotlib.figure.Figure at 0x117218d50>"
      ]
     },
     "execution_count": 109,
>>>>>>> 1d61394271450685a9041ea4f50a33c78155d24f
     "metadata": {},
     "output_type": "execute_result"
    }
   ],
   "source": [
    "figure(4)"
   ]
  },
  {
   "cell_type": "code",
<<<<<<< HEAD
   "execution_count": 71,
=======
   "execution_count": 110,
>>>>>>> 1d61394271450685a9041ea4f50a33c78155d24f
   "metadata": {
    "collapsed": false
   },
   "outputs": [
    {
     "data": {
      "text/plain": [
<<<<<<< HEAD
       "<matplotlib.image.AxesImage at 0x1116bafd0>"
      ]
     },
     "execution_count": 71,
=======
       "<matplotlib.image.AxesImage at 0x112091a90>"
      ]
     },
     "execution_count": 110,
>>>>>>> 1d61394271450685a9041ea4f50a33c78155d24f
     "metadata": {},
     "output_type": "execute_result"
    }
   ],
   "source": [
    "imshow(cc_fast.real, interpolation = \"nearest\")"
   ]
  },
  {
   "cell_type": "code",
<<<<<<< HEAD
   "execution_count": 72,
=======
   "execution_count": 111,
>>>>>>> 1d61394271450685a9041ea4f50a33c78155d24f
   "metadata": {
    "collapsed": false
   },
   "outputs": [
    {
<<<<<<< HEAD
     "name": "stdout",
     "output_type": "stream",
     "text": [
      "18.5476121902 0.0982699394226\n"
     ]
    }
   ],
   "source": [
    "print t_slow, t_fast"
=======
     "data": {
      "text/plain": [
       "(16.70168900489807, 0.10072898864746094)"
      ]
     },
     "execution_count": 111,
     "metadata": {},
     "output_type": "execute_result"
    }
   ],
   "source": [
    "t_slow, t_fast"
>>>>>>> 1d61394271450685a9041ea4f50a33c78155d24f
   ]
  }
 ],
 "metadata": {
  "kernelspec": {
   "display_name": "Python 2",
   "language": "python",
   "name": "python2"
  },
  "language_info": {
   "codemirror_mode": {
    "name": "ipython",
    "version": 2
   },
   "file_extension": ".py",
   "mimetype": "text/x-python",
   "name": "python",
   "nbconvert_exporter": "python",
   "pygments_lexer": "ipython2",
   "version": "2.7.10"
  }
 },
 "nbformat": 4,
 "nbformat_minor": 0
}
