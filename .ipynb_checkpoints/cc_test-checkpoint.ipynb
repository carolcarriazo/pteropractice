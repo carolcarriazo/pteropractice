{
 "cells": [
  {
   "cell_type": "markdown",
   "metadata": {},
   "source": [
    "#Cross Correlation: Slow and Fast"
   ]
  },
  {
   "cell_type": "markdown",
   "metadata": {},
   "source": [
    "*Basic Idea:* The cross correlation is a measure of the similarity between two functions with various lag or shift inserted between the two functions. The cross correlation could be called the \"sliding inner product\": it is calculated by shifting one function relative to the other by various amounts, multiplying the two functions together (after the shift) and summing the products. When the two functions are shifted such that they are most similar, the sum of the products will be a sum of squared terms, often resulting in a peak of the cross correlation function. \n",
    "\n",
    "Useful link: <http://www.ee.ic.ac.uk/hp/staff/dmb/courses/E1Fourier/00800_Correlation.pdf>"
   ]
  },
  {
   "cell_type": "markdown",
   "metadata": {},
   "source": [
    "##1. Let's make a star scene"
   ]
  },
  {
   "cell_type": "code",
<<<<<<< HEAD
   "execution_count": 88,
=======
   "execution_count": 1,
>>>>>>> 546726cb1fc7206ff62e3d8aa42fdb0a3964a039
   "metadata": {
    "collapsed": false
   },
   "outputs": [
    {
     "name": "stdout",
     "output_type": "stream",
     "text": [
      "Using matplotlib backend: MacOSX\n",
      "Populating the interactive namespace from numpy and matplotlib\n"
     ]
    }
   ],
   "source": [
    "%pylab"
   ]
  },
  {
   "cell_type": "code",
<<<<<<< HEAD
   "execution_count": 89,
=======
   "execution_count": 2,
>>>>>>> 546726cb1fc7206ff62e3d8aa42fdb0a3964a039
   "metadata": {
    "collapsed": true
   },
   "outputs": [],
   "source": [
    "npts = 256"
   ]
  },
  {
   "cell_type": "code",
<<<<<<< HEAD
   "execution_count": 90,
=======
   "execution_count": 3,
>>>>>>> 546726cb1fc7206ff62e3d8aa42fdb0a3964a039
   "metadata": {
    "collapsed": true
   },
   "outputs": [],
   "source": [
    "y,x = indices((npts,npts))"
   ]
  },
  {
   "cell_type": "code",
<<<<<<< HEAD
   "execution_count": 91,
=======
   "execution_count": 4,
>>>>>>> 546726cb1fc7206ff62e3d8aa42fdb0a3964a039
   "metadata": {
    "collapsed": true
   },
   "outputs": [],
   "source": [
    "import time"
   ]
  },
  {
   "cell_type": "code",
<<<<<<< HEAD
   "execution_count": 92,
=======
   "execution_count": 5,
>>>>>>> 546726cb1fc7206ff62e3d8aa42fdb0a3964a039
   "metadata": {
    "collapsed": true
   },
   "outputs": [],
   "source": [
    "xc = array([82, 61, 21.])\n",
    "yc = array([75, 55, 99])\n",
    "amp = array([12, 4, 18]) # assign centers and amplitudes for three \"stars\""
   ]
  },
  {
   "cell_type": "code",
<<<<<<< HEAD
   "execution_count": 93,
=======
   "execution_count": 6,
>>>>>>> 546726cb1fc7206ff62e3d8aa42fdb0a3964a039
   "metadata": {
    "collapsed": true
   },
   "outputs": [],
   "source": [
    "f0 = 0.0 * y # cheezy way to allocate an array of zeros"
   ]
  },
  {
   "cell_type": "code",
<<<<<<< HEAD
   "execution_count": 94,
=======
   "execution_count": 7,
>>>>>>> 546726cb1fc7206ff62e3d8aa42fdb0a3964a039
   "metadata": {
    "collapsed": true
   },
   "outputs": [],
   "source": [
    "for i in range(3):\n",
    "    f0 += amp[i]*exp(-(((x-xc[i])**2 + (y-yc[i])**2)/10.))"
   ]
  },
  {
   "cell_type": "code",
<<<<<<< HEAD
   "execution_count": 95,
=======
   "execution_count": 8,
>>>>>>> 546726cb1fc7206ff62e3d8aa42fdb0a3964a039
   "metadata": {
    "collapsed": false
   },
   "outputs": [
    {
     "data": {
      "text/plain": [
<<<<<<< HEAD
       "<matplotlib.image.AxesImage at 0x115a0f350>"
      ]
     },
     "execution_count": 95,
=======
       "<matplotlib.image.AxesImage at 0x10a814f90>"
      ]
     },
     "execution_count": 8,
>>>>>>> 546726cb1fc7206ff62e3d8aa42fdb0a3964a039
     "metadata": {},
     "output_type": "execute_result"
    }
   ],
   "source": [
    "imshow(f0, interpolation = \"nearest\")"
   ]
  },
  {
   "cell_type": "code",
<<<<<<< HEAD
   "execution_count": 96,
=======
   "execution_count": 9,
>>>>>>> 546726cb1fc7206ff62e3d8aa42fdb0a3964a039
   "metadata": {
    "collapsed": false
   },
   "outputs": [],
   "source": [
    "xShift = 22\n",
    "yShift = 6\n",
    "f1 = roll(roll(f0, yShift, axis=0), xShift, axis=1) # Can only shift by integer amounts"
   ]
  },
  {
   "cell_type": "code",
<<<<<<< HEAD
   "execution_count": 97,
=======
   "execution_count": 10,
>>>>>>> 546726cb1fc7206ff62e3d8aa42fdb0a3964a039
   "metadata": {
    "collapsed": false
   },
   "outputs": [
    {
     "data": {
      "text/plain": [
<<<<<<< HEAD
       "<matplotlib.figure.Figure at 0x116dafa90>"
      ]
     },
     "execution_count": 97,
=======
       "<matplotlib.figure.Figure at 0x10c22b790>"
      ]
     },
     "execution_count": 10,
>>>>>>> 546726cb1fc7206ff62e3d8aa42fdb0a3964a039
     "metadata": {},
     "output_type": "execute_result"
    }
   ],
   "source": [
    "figure(2)"
   ]
  },
  {
   "cell_type": "code",
<<<<<<< HEAD
   "execution_count": 98,
=======
   "execution_count": 11,
>>>>>>> 546726cb1fc7206ff62e3d8aa42fdb0a3964a039
   "metadata": {
    "collapsed": false
   },
   "outputs": [
    {
     "data": {
      "text/plain": [
<<<<<<< HEAD
       "<matplotlib.image.AxesImage at 0x1159c6850>"
      ]
     },
     "execution_count": 98,
=======
       "<matplotlib.image.AxesImage at 0x10c481990>"
      ]
     },
     "execution_count": 11,
>>>>>>> 546726cb1fc7206ff62e3d8aa42fdb0a3964a039
     "metadata": {},
     "output_type": "execute_result"
    }
   ],
   "source": [
    "imshow(f1, interpolation = \"nearest\")"
   ]
  },
  {
   "cell_type": "markdown",
   "metadata": {},
   "source": [
    "##2. Get the cross correlation function - the slow way"
   ]
  },
  {
   "cell_type": "code",
<<<<<<< HEAD
   "execution_count": 99,
=======
   "execution_count": 12,
>>>>>>> 546726cb1fc7206ff62e3d8aa42fdb0a3964a039
   "metadata": {
    "collapsed": true
   },
   "outputs": [],
   "source": [
    "cc_slow = y*0.0"
   ]
  },
  {
   "cell_type": "code",
<<<<<<< HEAD
   "execution_count": 101,
=======
   "execution_count": 13,
>>>>>>> 546726cb1fc7206ff62e3d8aa42fdb0a3964a039
   "metadata": {
    "collapsed": false
   },
   "outputs": [],
   "source": [
    "t0 = time.time() # get current time\n",
    "for iy in range(npts):\n",
    "    for ix in range(npts):\n",
    "        cc_slow[iy, ix] = sum(f0 * roll(roll(f1, iy, axis=0), ix, axis=1))\n",
    "t_slow = time.time() - t0"
   ]
  },
  {
   "cell_type": "code",
<<<<<<< HEAD
   "execution_count": 103,
=======
   "execution_count": 14,
>>>>>>> 546726cb1fc7206ff62e3d8aa42fdb0a3964a039
   "metadata": {
    "collapsed": false
   },
   "outputs": [
    {
     "data": {
      "text/plain": [
<<<<<<< HEAD
       "<matplotlib.figure.Figure at 0x116ebd890>"
      ]
     },
     "execution_count": 103,
=======
       "<matplotlib.figure.Figure at 0x10c490f10>"
      ]
     },
     "execution_count": 14,
>>>>>>> 546726cb1fc7206ff62e3d8aa42fdb0a3964a039
     "metadata": {},
     "output_type": "execute_result"
    }
   ],
   "source": [
    "figure(3)"
   ]
  },
  {
   "cell_type": "code",
<<<<<<< HEAD
   "execution_count": 104,
=======
   "execution_count": 15,
>>>>>>> 546726cb1fc7206ff62e3d8aa42fdb0a3964a039
   "metadata": {
    "collapsed": false
   },
   "outputs": [
    {
     "data": {
      "text/plain": [
<<<<<<< HEAD
       "<matplotlib.image.AxesImage at 0x1170da790>"
      ]
     },
     "execution_count": 104,
=======
       "<matplotlib.image.AxesImage at 0x1083cdd90>"
      ]
     },
     "execution_count": 15,
>>>>>>> 546726cb1fc7206ff62e3d8aa42fdb0a3964a039
     "metadata": {},
     "output_type": "execute_result"
    }
   ],
   "source": [
    "imshow(cc_slow, interpolation = \"nearest\")"
   ]
  },
  {
   "cell_type": "code",
<<<<<<< HEAD
   "execution_count": 105,
=======
   "execution_count": 16,
>>>>>>> 546726cb1fc7206ff62e3d8aa42fdb0a3964a039
   "metadata": {
    "collapsed": false
   },
   "outputs": [
    {
     "data": {
      "text/plain": [
       "(6, 22)"
      ]
     },
<<<<<<< HEAD
     "execution_count": 105,
=======
     "execution_count": 16,
>>>>>>> 546726cb1fc7206ff62e3d8aa42fdb0a3964a039
     "metadata": {},
     "output_type": "execute_result"
    }
   ],
   "source": [
    "yMax, xMax = divmod(cc_slow.argmax(), npts)\n",
    "npts-yMax, npts-xMax"
   ]
  },
  {
   "cell_type": "markdown",
   "metadata": {},
   "source": [
    "##3. And the fast way, with FFTs"
   ]
  },
  {
   "cell_type": "code",
<<<<<<< HEAD
   "execution_count": 107,
=======
   "execution_count": 17,
>>>>>>> 546726cb1fc7206ff62e3d8aa42fdb0a3964a039
   "metadata": {
    "collapsed": false
   },
   "outputs": [],
   "source": [
    "t0 = time.time() # get current time\n",
    "cc_fast = ifft2(fft2(f0) * conj(fft2(f1)))\n",
    "t_fast = time.time() - t0"
   ]
  },
  {
   "cell_type": "code",
<<<<<<< HEAD
   "execution_count": 109,
=======
   "execution_count": 18,
>>>>>>> 546726cb1fc7206ff62e3d8aa42fdb0a3964a039
   "metadata": {
    "collapsed": false
   },
   "outputs": [
    {
     "data": {
      "text/plain": [
<<<<<<< HEAD
       "<matplotlib.figure.Figure at 0x117218d50>"
      ]
     },
     "execution_count": 109,
=======
       "<matplotlib.figure.Figure at 0x1083e80d0>"
      ]
     },
     "execution_count": 18,
>>>>>>> 546726cb1fc7206ff62e3d8aa42fdb0a3964a039
     "metadata": {},
     "output_type": "execute_result"
    }
   ],
   "source": [
    "figure(4)"
   ]
  },
  {
   "cell_type": "code",
<<<<<<< HEAD
   "execution_count": 110,
=======
   "execution_count": 19,
>>>>>>> 546726cb1fc7206ff62e3d8aa42fdb0a3964a039
   "metadata": {
    "collapsed": false
   },
   "outputs": [
    {
     "data": {
      "text/plain": [
<<<<<<< HEAD
       "<matplotlib.image.AxesImage at 0x112091a90>"
      ]
     },
     "execution_count": 110,
=======
       "<matplotlib.image.AxesImage at 0x10cfbf650>"
      ]
     },
     "execution_count": 19,
>>>>>>> 546726cb1fc7206ff62e3d8aa42fdb0a3964a039
     "metadata": {},
     "output_type": "execute_result"
    }
   ],
   "source": [
    "imshow(cc_fast.real, interpolation = \"nearest\")"
   ]
  },
  {
   "cell_type": "code",
<<<<<<< HEAD
   "execution_count": 111,
=======
   "execution_count": 20,
>>>>>>> 546726cb1fc7206ff62e3d8aa42fdb0a3964a039
   "metadata": {
    "collapsed": false
   },
   "outputs": [
    {
     "data": {
      "text/plain": [
<<<<<<< HEAD
       "(16.70168900489807, 0.10072898864746094)"
      ]
     },
     "execution_count": 111,
=======
       "(22.052374839782715, 0.020689964294433594)"
      ]
     },
     "execution_count": 20,
>>>>>>> 546726cb1fc7206ff62e3d8aa42fdb0a3964a039
     "metadata": {},
     "output_type": "execute_result"
    }
   ],
   "source": [
    "t_slow, t_fast"
   ]
  }
 ],
 "metadata": {
  "kernelspec": {
   "display_name": "Python 2",
   "language": "python",
   "name": "python2"
  },
  "language_info": {
   "codemirror_mode": {
    "name": "ipython",
    "version": 2
   },
   "file_extension": ".py",
   "mimetype": "text/x-python",
   "name": "python",
   "nbconvert_exporter": "python",
   "pygments_lexer": "ipython2",
<<<<<<< HEAD
   "version": "2.7.10"
=======
   "version": "2.7.9"
>>>>>>> 546726cb1fc7206ff62e3d8aa42fdb0a3964a039
  }
 },
 "nbformat": 4,
 "nbformat_minor": 0
}
