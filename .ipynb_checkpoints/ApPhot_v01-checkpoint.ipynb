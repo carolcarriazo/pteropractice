{
 "cells": [
  {
   "cell_type": "markdown",
   "metadata": {},
   "source": [
    "\n",
    "\n",
    "\n",
    "\n",
    "\n",
    "\n",
    "\n",
    "#Aperture Photometry"
   ]
  },
  {
   "cell_type": "markdown",
   "metadata": {},
   "source": [
    "EFY, SWRI, 4-JUN-2015\n",
    "\n",
    "BASIC IDEA:\n",
    "The goal of aperture photometry is to estimate a star's brightness in your image. It works this way:\n",
    "\n",
    "- Estimate the position of the star center (the \"centroid\").\n",
    "- Add up all of the signal within a certain radius of the star center. This is your \"aperture.\"\n",
    "- Estimate the background level in a ring around the aperture. Subtract the background level to get the source counts."
   ]
  },
  {
   "cell_type": "markdown",
   "metadata": {},
   "source": [
    "##STEP 0: Let's make some fake data"
   ]
  },
  {
   "cell_type": "code",
<<<<<<< HEAD
   "execution_count": 2,
=======
   "execution_count": 4,
>>>>>>> 546726cb1fc7206ff62e3d8aa42fdb0a3964a039
   "metadata": {
    "collapsed": false
   },
   "outputs": [
    {
     "name": "stdout",
     "output_type": "stream",
     "text": [
      "Using matplotlib backend: MacOSX\n",
      "Populating the interactive namespace from numpy and matplotlib\n"
     ]
    }
   ],
   "source": [
<<<<<<< HEAD
    "%pylab \n",
    "from scipy.signal import resample"
=======
    "%pylab "
>>>>>>> 546726cb1fc7206ff62e3d8aa42fdb0a3964a039
   ]
  },
  {
   "cell_type": "code",
<<<<<<< HEAD
   "execution_count": 3,
=======
   "execution_count": 5,
>>>>>>> 546726cb1fc7206ff62e3d8aa42fdb0a3964a039
   "metadata": {
    "collapsed": true
   },
   "outputs": [],
   "source": [
    "#Always start with %pylab to get numpy and matplotlib into our namespace"
   ]
  },
  {
   "cell_type": "code",
<<<<<<< HEAD
   "execution_count": 4,
=======
   "execution_count": 6,
>>>>>>> 546726cb1fc7206ff62e3d8aa42fdb0a3964a039
   "metadata": {
    "collapsed": true
   },
   "outputs": [],
   "source": [
    "xc = 65.2 # We'll put a fake star at (xc, yc)"
   ]
  },
  {
   "cell_type": "code",
<<<<<<< HEAD
   "execution_count": 5,
=======
   "execution_count": 7,
>>>>>>> 546726cb1fc7206ff62e3d8aa42fdb0a3964a039
   "metadata": {
    "collapsed": false
   },
   "outputs": [],
   "source": [
    "65.2 # We'll put a fake star at (xc, yc)\n",
    "yc = 122.7\n",
    "npts = 256 #Size of our arrays\n",
    "yVal, xVal = indices((256,256)) #Make two arrays containing y and x index values"
   ]
  },
  {
   "cell_type": "code",
<<<<<<< HEAD
   "execution_count": 6,
=======
   "execution_count": 8,
>>>>>>> 546726cb1fc7206ff62e3d8aa42fdb0a3964a039
   "metadata": {
    "collapsed": true
   },
   "outputs": [],
   "source": [
    "npts = 256 #Size of our arrays"
   ]
  },
  {
   "cell_type": "code",
<<<<<<< HEAD
   "execution_count": 8,
   "metadata": {
    "collapsed": false
   },
   "outputs": [],
   "source": [
    "yVal, xVal = indices((256,256)) #Make two arrays containing y and x index values\n"
=======
   "execution_count": 9,
   "metadata": {
    "collapsed": true
   },
   "outputs": [],
   "source": [
    "yVal, xVal = indices((256,256)) #Make two arrays containing y and x index values"
>>>>>>> 546726cb1fc7206ff62e3d8aa42fdb0a3964a039
   ]
  },
  {
   "cell_type": "markdown",
   "metadata": {},
   "source": [
    "Equation for a gaussian (in radius):\n",
    "\n",
    "$G(r) = A e^{-(r - r_c)/(2\\sigma^2)}$\n",
    "\n",
    "Relation between $\\sigma$ and FWHM (full-width and half-maximum):\n",
    "\n",
    "${FWHM}= 2\\sqrt{2\\ln{2}}\\sigma = 2.3548\\sigma$"
   ]
  },
  {
   "cell_type": "code",
<<<<<<< HEAD
   "execution_count": 109,
=======
   "execution_count": 10,
>>>>>>> 546726cb1fc7206ff62e3d8aa42fdb0a3964a039
   "metadata": {
    "collapsed": true
   },
   "outputs": [],
   "source": [
    "FWHM = 10.0 #Width of our \"star\""
   ]
  },
  {
   "cell_type": "code",
<<<<<<< HEAD
   "execution_count": 110,
=======
   "execution_count": 11,
>>>>>>> 546726cb1fc7206ff62e3d8aa42fdb0a3964a039
   "metadata": {
    "collapsed": true
   },
   "outputs": [],
   "source": [
    "sigma = FWHM/2.3548"
   ]
  },
  {
   "cell_type": "code",
<<<<<<< HEAD
   "execution_count": 111,
=======
   "execution_count": 12,
>>>>>>> 546726cb1fc7206ff62e3d8aa42fdb0a3964a039
   "metadata": {
    "collapsed": true
   },
   "outputs": [],
   "source": [
    "A = 100. # Amplitude of the star at its center"
   ]
  },
  {
   "cell_type": "code",
<<<<<<< HEAD
   "execution_count": 112,
=======
   "execution_count": 13,
>>>>>>> 546726cb1fc7206ff62e3d8aa42fdb0a3964a039
   "metadata": {
    "collapsed": true
   },
   "outputs": [],
   "source": [
    "r = sqrt((yVal - yc)**2 + (xVal - xc)**2) # an array of distances from the star center"
   ]
  },
  {
   "cell_type": "code",
<<<<<<< HEAD
   "execution_count": 113,
=======
   "execution_count": 14,
>>>>>>> 546726cb1fc7206ff62e3d8aa42fdb0a3964a039
   "metadata": {
    "collapsed": true
   },
   "outputs": [],
   "source": [
    "g = A * exp(-(r)**2/(2*sigma**2)) # Create a 10-pixel wide gaussian centered at xc,yc"
   ]
  },
  {
   "cell_type": "code",
<<<<<<< HEAD
   "execution_count": 114,
=======
   "execution_count": 15,
>>>>>>> 546726cb1fc7206ff62e3d8aa42fdb0a3964a039
   "metadata": {
    "collapsed": false
   },
   "outputs": [
    {
     "data": {
      "text/plain": [
<<<<<<< HEAD
       "<matplotlib.image.AxesImage at 0x111126950>"
      ]
     },
     "execution_count": 114,
=======
       "<matplotlib.image.AxesImage at 0x10a8a1510>"
      ]
     },
     "execution_count": 15,
>>>>>>> 546726cb1fc7206ff62e3d8aa42fdb0a3964a039
     "metadata": {},
     "output_type": "execute_result"
    }
   ],
   "source": [
    "imshow(g, interpolation=\"nearest\")"
   ]
  },
  {
   "cell_type": "code",
<<<<<<< HEAD
   "execution_count": 115,
=======
   "execution_count": 91,
>>>>>>> 546726cb1fc7206ff62e3d8aa42fdb0a3964a039
   "metadata": {
    "collapsed": false
   },
   "outputs": [
    {
     "data": {
      "text/plain": [
       "11331.093262003855"
      ]
     },
<<<<<<< HEAD
     "execution_count": 115,
=======
     "execution_count": 91,
>>>>>>> 546726cb1fc7206ff62e3d8aa42fdb0a3964a039
     "metadata": {},
     "output_type": "execute_result"
    }
   ],
   "source": [
    "sum(g) #Brightness of the star is the sum of all pixels"
   ]
  },
  {
   "cell_type": "markdown",
   "metadata": {},
   "source": [
    "###Now let's add some noise"
   ]
  },
  {
   "cell_type": "code",
<<<<<<< HEAD
   "execution_count": 116,
=======
   "execution_count": 92,
>>>>>>> 546726cb1fc7206ff62e3d8aa42fdb0a3964a039
   "metadata": {
    "collapsed": false
   },
   "outputs": [],
   "source": [
    "bias = 400.0"
   ]
  },
  {
   "cell_type": "code",
<<<<<<< HEAD
   "execution_count": 117,
=======
   "execution_count": 93,
>>>>>>> 546726cb1fc7206ff62e3d8aa42fdb0a3964a039
   "metadata": {
    "collapsed": true
   },
   "outputs": [],
   "source": [
    "sky_nz = 10.0"
   ]
  },
  {
   "cell_type": "code",
<<<<<<< HEAD
   "execution_count": 118,
=======
   "execution_count": 94,
>>>>>>> 546726cb1fc7206ff62e3d8aa42fdb0a3964a039
   "metadata": {
    "collapsed": false
   },
   "outputs": [],
   "source": [
    "nz = random.normal(bias, sky_nz, (npts,npts)) # Makes an array of normally distributed random noise"
   ]
  },
  {
   "cell_type": "markdown",
   "metadata": {},
   "source": [
    "###Call chzphot_v02 for robomad, then estimate the mean and sdev of the noise"
   ]
  },
  {
   "cell_type": "code",
<<<<<<< HEAD
   "execution_count": 119,
=======
   "execution_count": 95,
>>>>>>> 546726cb1fc7206ff62e3d8aa42fdb0a3964a039
   "metadata": {
    "collapsed": false
   },
   "outputs": [],
   "source": [
<<<<<<< HEAD
    "run /Users/aaronresnick/Desktop/CODERepository/ApPhot/chzphot_v02.py"
=======
    "run chzphot_v02.py"
>>>>>>> 546726cb1fc7206ff62e3d8aa42fdb0a3964a039
   ]
  },
  {
   "cell_type": "code",
<<<<<<< HEAD
   "execution_count": 120,
=======
   "execution_count": 96,
>>>>>>> 546726cb1fc7206ff62e3d8aa42fdb0a3964a039
   "metadata": {
    "collapsed": true
   },
   "outputs": [],
   "source": [
    "thresh = 5.0 # reject outliers at the 5-sigma level"
   ]
  },
  {
   "cell_type": "code",
<<<<<<< HEAD
   "execution_count": 121,
=======
   "execution_count": 97,
>>>>>>> 546726cb1fc7206ff62e3d8aa42fdb0a3964a039
   "metadata": {
    "collapsed": false
   },
   "outputs": [],
   "source": [
    "mn, sd = robomad(nz, thresh)"
   ]
  },
  {
   "cell_type": "code",
<<<<<<< HEAD
   "execution_count": 122,
=======
   "execution_count": 98,
>>>>>>> 546726cb1fc7206ff62e3d8aa42fdb0a3964a039
   "metadata": {
    "collapsed": false
   },
   "outputs": [
    {
     "data": {
      "text/plain": [
<<<<<<< HEAD
       "(400.04624267721249, 9.9729923045627924)"
      ]
     },
     "execution_count": 122,
=======
       "(399.99852068825993, 10.015159537105429)"
      ]
     },
     "execution_count": 98,
>>>>>>> 546726cb1fc7206ff62e3d8aa42fdb0a3964a039
     "metadata": {},
     "output_type": "execute_result"
    }
   ],
   "source": [
    "mn, sd # should be 400, 10"
   ]
  },
  {
   "cell_type": "code",
<<<<<<< HEAD
   "execution_count": 123,
=======
   "execution_count": 99,
>>>>>>> 546726cb1fc7206ff62e3d8aa42fdb0a3964a039
   "metadata": {
    "collapsed": true
   },
   "outputs": [],
   "source": [
    "d = g + nz # Make some fake noisy data"
   ]
  },
  {
   "cell_type": "code",
<<<<<<< HEAD
   "execution_count": 124,
=======
   "execution_count": 100,
>>>>>>> 546726cb1fc7206ff62e3d8aa42fdb0a3964a039
   "metadata": {
    "collapsed": false
   },
   "outputs": [
    {
     "data": {
      "text/plain": [
<<<<<<< HEAD
       "<matplotlib.figure.Figure at 0x111b9f9d0>"
      ]
     },
     "execution_count": 124,
=======
       "<matplotlib.figure.Figure at 0x110e05dd0>"
      ]
     },
     "execution_count": 100,
>>>>>>> 546726cb1fc7206ff62e3d8aa42fdb0a3964a039
     "metadata": {},
     "output_type": "execute_result"
    }
   ],
   "source": [
    "figure(2)"
   ]
  },
  {
   "cell_type": "code",
<<<<<<< HEAD
   "execution_count": 125,
=======
   "execution_count": 101,
>>>>>>> 546726cb1fc7206ff62e3d8aa42fdb0a3964a039
   "metadata": {
    "collapsed": false
   },
   "outputs": [
    {
     "data": {
      "text/plain": [
<<<<<<< HEAD
       "<matplotlib.image.AxesImage at 0x1122c0390>"
      ]
     },
     "execution_count": 125,
=======
       "<matplotlib.image.AxesImage at 0x11172b5d0>"
      ]
     },
     "execution_count": 101,
>>>>>>> 546726cb1fc7206ff62e3d8aa42fdb0a3964a039
     "metadata": {},
     "output_type": "execute_result"
    }
   ],
   "source": [
    "imshow(d, interpolation=\"nearest\")"
   ]
  },
  {
   "cell_type": "code",
<<<<<<< HEAD
   "execution_count": 126,
=======
   "execution_count": 102,
>>>>>>> 546726cb1fc7206ff62e3d8aa42fdb0a3964a039
   "metadata": {
    "collapsed": false
   },
   "outputs": [
    {
     "data": {
      "text/plain": [
<<<<<<< HEAD
       "(65.452740913439328, 122.9924601094049)"
      ]
     },
     "execution_count": 126,
=======
       "(65.401074401642333, 122.96658072073885)"
      ]
     },
     "execution_count": 102,
>>>>>>> 546726cb1fc7206ff62e3d8aa42fdb0a3964a039
     "metadata": {},
     "output_type": "execute_result"
    }
   ],
   "source": [
    "xg = 65 \n",
    "yg = 123\n",
    "radius = 8.5\n",
    "gcntrd(d, radius, xg, yg)"
   ]
  },
  {
   "cell_type": "code",
<<<<<<< HEAD
   "execution_count": 127,
=======
   "execution_count": 103,
>>>>>>> 546726cb1fc7206ff62e3d8aa42fdb0a3964a039
   "metadata": {
    "collapsed": false
   },
   "outputs": [
    {
     "data": {
      "text/plain": [
       "(65.200000000000003, 122.7)"
      ]
     },
<<<<<<< HEAD
     "execution_count": 127,
=======
     "execution_count": 103,
>>>>>>> 546726cb1fc7206ff62e3d8aa42fdb0a3964a039
     "metadata": {},
     "output_type": "execute_result"
    }
   ],
   "source": [
    "xg = 65 \n",
    "yg = 123\n",
    "radius = 10\n",
    "gcntrd(g, radius, xg, yg)"
   ]
  },
  {
   "cell_type": "code",
<<<<<<< HEAD
   "execution_count": 128,
=======
   "execution_count": 130,
>>>>>>> 546726cb1fc7206ff62e3d8aa42fdb0a3964a039
   "metadata": {
    "collapsed": true
   },
   "outputs": [],
   "source": [
    "bpix = where(d > (mn + 3*sd))\n"
   ]
  },
  {
   "cell_type": "code",
<<<<<<< HEAD
   "execution_count": 11,
   "metadata": {
    "collapsed": false
=======
   "execution_count": 131,
   "metadata": {
    "collapsed": true
>>>>>>> 546726cb1fc7206ff62e3d8aa42fdb0a3964a039
   },
   "outputs": [],
   "source": [
    "m1 = ones((npts,npts))"
   ]
  },
  {
   "cell_type": "code",
<<<<<<< HEAD
   "execution_count": 130,
=======
   "execution_count": 132,
>>>>>>> 546726cb1fc7206ff62e3d8aa42fdb0a3964a039
   "metadata": {
    "collapsed": true
   },
   "outputs": [],
   "source": [
    "z1 = zeros((npts,npts))"
   ]
  },
  {
   "cell_type": "code",
<<<<<<< HEAD
   "execution_count": 131,
=======
   "execution_count": 133,
>>>>>>> 546726cb1fc7206ff62e3d8aa42fdb0a3964a039
   "metadata": {
    "collapsed": true
   },
   "outputs": [],
   "source": [
    "z1[bpix] = 1"
   ]
  },
  {
   "cell_type": "code",
<<<<<<< HEAD
   "execution_count": 132,
=======
   "execution_count": 137,
>>>>>>> 546726cb1fc7206ff62e3d8aa42fdb0a3964a039
   "metadata": {
    "collapsed": false
   },
   "outputs": [
    {
     "data": {
      "text/plain": [
<<<<<<< HEAD
       "<matplotlib.image.AxesImage at 0x112a41390>"
      ]
     },
     "execution_count": 132,
=======
       "<matplotlib.image.AxesImage at 0x112c35ad0>"
      ]
     },
     "execution_count": 137,
>>>>>>> 546726cb1fc7206ff62e3d8aa42fdb0a3964a039
     "metadata": {},
     "output_type": "execute_result"
    }
   ],
   "source": [
    "figure(3)\n",
    "imshow(z1, interpolation='nearest')"
   ]
  },
  {
   "cell_type": "code",
<<<<<<< HEAD
   "execution_count": 133,
=======
   "execution_count": 138,
>>>>>>> 546726cb1fc7206ff62e3d8aa42fdb0a3964a039
   "metadata": {
    "collapsed": false
   },
   "outputs": [
    {
     "data": {
      "text/plain": [
<<<<<<< HEAD
       "220.0"
      ]
     },
     "execution_count": 133,
=======
       "237.0"
      ]
     },
     "execution_count": 138,
>>>>>>> 546726cb1fc7206ff62e3d8aa42fdb0a3964a039
     "metadata": {},
     "output_type": "execute_result"
    }
   ],
   "source": [
    "sum(z1) #approximation of area... use to find approximate radius"
   ]
  },
  {
   "cell_type": "code",
<<<<<<< HEAD
   "execution_count": 134,
=======
   "execution_count": 139,
>>>>>>> 546726cb1fc7206ff62e3d8aa42fdb0a3964a039
   "metadata": {
    "collapsed": false
   },
   "outputs": [
    {
     "data": {
      "text/plain": [
<<<<<<< HEAD
       "517.90894262235793"
      ]
     },
     "execution_count": 134,
=======
       "506.74696225572313"
      ]
     },
     "execution_count": 139,
>>>>>>> 546726cb1fc7206ff62e3d8aa42fdb0a3964a039
     "metadata": {},
     "output_type": "execute_result"
    }
   ],
   "source": [
    "d.max()"
   ]
  },
  {
   "cell_type": "code",
<<<<<<< HEAD
   "execution_count": 135,
=======
   "execution_count": 140,
>>>>>>> 546726cb1fc7206ff62e3d8aa42fdb0a3964a039
   "metadata": {
    "collapsed": false
   },
   "outputs": [
    {
     "data": {
      "text/plain": [
       "8.5440037453175304"
      ]
     },
<<<<<<< HEAD
     "execution_count": 135,
=======
     "execution_count": 140,
>>>>>>> 546726cb1fc7206ff62e3d8aa42fdb0a3964a039
     "metadata": {},
     "output_type": "execute_result"
    }
   ],
   "source": [
    "sqrt(73)"
   ]
  },
  {
   "cell_type": "code",
<<<<<<< HEAD
   "execution_count": null,
   "metadata": {
    "collapsed": true
   },
   "outputs": [],
   "source": []
  },
  {
   "cell_type": "code",
   "execution_count": 136,
=======
   "execution_count": 141,
>>>>>>> 546726cb1fc7206ff62e3d8aa42fdb0a3964a039
   "metadata": {
    "collapsed": true
   },
   "outputs": [],
   "source": [
    "subd = d[113:133,55:75]"
   ]
  },
  {
   "cell_type": "code",
<<<<<<< HEAD
   "execution_count": 157,
=======
   "execution_count": 142,
>>>>>>> 546726cb1fc7206ff62e3d8aa42fdb0a3964a039
   "metadata": {
    "collapsed": false
   },
   "outputs": [
    {
     "data": {
      "text/plain": [
<<<<<<< HEAD
       "(20, 20)"
      ]
     },
     "execution_count": 157,
=======
       "(133, 20)"
      ]
     },
     "execution_count": 142,
>>>>>>> 546726cb1fc7206ff62e3d8aa42fdb0a3964a039
     "metadata": {},
     "output_type": "execute_result"
    }
   ],
   "source": [
    "subd.shape"
   ]
  },
  {
   "cell_type": "code",
<<<<<<< HEAD
   "execution_count": 158,
   "metadata": {
    "collapsed": false
   },
   "outputs": [],
   "source": [
    "clf()\n",
    "imshow(subd,interpolation='nearest')\n",
    "resample?"
=======
   "execution_count": 143,
   "metadata": {
    "collapsed": false
   },
   "outputs": [
    {
     "data": {
      "text/plain": [
       "<matplotlib.image.AxesImage at 0x112a20f10>"
      ]
     },
     "execution_count": 143,
     "metadata": {},
     "output_type": "execute_result"
    }
   ],
   "source": [
    "clf()\n",
    "imshow(subd,interpolation='nearest')"
>>>>>>> 546726cb1fc7206ff62e3d8aa42fdb0a3964a039
   ]
  },
  {
   "cell_type": "code",
<<<<<<< HEAD
   "execution_count": 159,
=======
   "execution_count": 115,
>>>>>>> 546726cb1fc7206ff62e3d8aa42fdb0a3964a039
   "metadata": {
    "collapsed": false
   },
   "outputs": [],
   "source": [
<<<<<<< HEAD
    "#bigD = resample(resample(subd,200,axis=1),200,axis=0)"
=======
    "bigD = rebin1(subd,200,200)"
>>>>>>> 546726cb1fc7206ff62e3d8aa42fdb0a3964a039
   ]
  },
  {
   "cell_type": "code",
<<<<<<< HEAD
   "execution_count": 160,
=======
   "execution_count": 116,
>>>>>>> 546726cb1fc7206ff62e3d8aa42fdb0a3964a039
   "metadata": {
    "collapsed": false
   },
   "outputs": [
    {
     "data": {
      "text/plain": [
<<<<<<< HEAD
       "<matplotlib.image.AxesImage at 0x1133bd890>"
      ]
     },
     "execution_count": 160,
=======
       "<matplotlib.image.AxesImage at 0x112b64a10>"
      ]
     },
     "execution_count": 116,
>>>>>>> 546726cb1fc7206ff62e3d8aa42fdb0a3964a039
     "metadata": {},
     "output_type": "execute_result"
    }
   ],
   "source": [
    "clf()\n",
    "imshow(bigD, interpolation='nearest')"
   ]
  },
  {
   "cell_type": "code",
<<<<<<< HEAD
   "execution_count": 161,
=======
   "execution_count": 117,
>>>>>>> 546726cb1fc7206ff62e3d8aa42fdb0a3964a039
   "metadata": {
    "collapsed": false
   },
   "outputs": [
    {
     "data": {
      "text/plain": [
<<<<<<< HEAD
       "10784.461786340311"
      ]
     },
     "execution_count": 161,
=======
       "11341.506710753514"
      ]
     },
     "execution_count": 117,
>>>>>>> 546726cb1fc7206ff62e3d8aa42fdb0a3964a039
     "metadata": {},
     "output_type": "execute_result"
    }
   ],
   "source": [
    "#really cheezy exp\n",
    "sum(d[bpix])-sum(z1*mn)"
   ]
  },
  {
   "cell_type": "code",
<<<<<<< HEAD
=======
   "execution_count": 18,
   "metadata": {
    "collapsed": false
   },
   "outputs": [],
   "source": [
    "f = zeros((20,20))"
   ]
  },
  {
   "cell_type": "code",
   "execution_count": 19,
   "metadata": {
    "collapsed": false
   },
   "outputs": [],
   "source": []
  },
  {
   "cell_type": "code",
   "execution_count": 20,
   "metadata": {
    "collapsed": false
   },
   "outputs": [
    {
     "data": {
      "text/plain": [
       "array([[ 1.,  1.,  1.,  1.,  1.,  1.,  1.,  1.,  1.,  1.,  1.,  1.,  1.,\n",
       "         1.,  1.,  1.,  1.,  1.,  1.,  1.],\n",
       "       [ 1.,  1.,  1.,  1.,  1.,  1.,  1.,  1.,  1.,  1.,  1.,  1.,  1.,\n",
       "         1.,  1.,  1.,  1.,  1.,  1.,  1.],\n",
       "       [ 1.,  1.,  1.,  1.,  1.,  1.,  1.,  1.,  1.,  1.,  1.,  1.,  1.,\n",
       "         1.,  1.,  1.,  1.,  1.,  1.,  1.],\n",
       "       [ 1.,  1.,  1.,  1.,  1.,  1.,  1.,  1.,  1.,  1.,  1.,  1.,  1.,\n",
       "         1.,  1.,  1.,  1.,  1.,  1.,  1.],\n",
       "       [ 1.,  1.,  1.,  1.,  1.,  1.,  1.,  1.,  1.,  1.,  1.,  1.,  1.,\n",
       "         1.,  1.,  1.,  1.,  1.,  1.,  1.],\n",
       "       [ 1.,  1.,  1.,  1.,  1.,  1.,  1.,  1.,  1.,  1.,  1.,  1.,  1.,\n",
       "         1.,  1.,  1.,  1.,  1.,  1.,  1.],\n",
       "       [ 1.,  1.,  1.,  1.,  1.,  1.,  1.,  1.,  1.,  1.,  1.,  1.,  1.,\n",
       "         1.,  1.,  1.,  1.,  1.,  1.,  1.],\n",
       "       [ 1.,  1.,  1.,  1.,  1.,  1.,  1.,  1.,  1.,  1.,  1.,  1.,  1.,\n",
       "         1.,  1.,  1.,  1.,  1.,  1.,  1.],\n",
       "       [ 1.,  1.,  1.,  1.,  1.,  1.,  1.,  1.,  1.,  1.,  1.,  1.,  1.,\n",
       "         1.,  1.,  1.,  1.,  1.,  1.,  1.],\n",
       "       [ 1.,  1.,  1.,  1.,  1.,  1.,  1.,  1.,  1.,  1.,  1.,  1.,  1.,\n",
       "         1.,  1.,  1.,  1.,  1.,  1.,  1.],\n",
       "       [ 1.,  1.,  1.,  1.,  1.,  1.,  1.,  1.,  1.,  1.,  1.,  1.,  1.,\n",
       "         1.,  1.,  1.,  1.,  1.,  1.,  1.],\n",
       "       [ 1.,  1.,  1.,  1.,  1.,  1.,  1.,  1.,  1.,  1.,  1.,  1.,  1.,\n",
       "         1.,  1.,  1.,  1.,  1.,  1.,  1.],\n",
       "       [ 1.,  1.,  1.,  1.,  1.,  1.,  1.,  1.,  1.,  1.,  1.,  1.,  1.,\n",
       "         1.,  1.,  1.,  1.,  1.,  1.,  1.],\n",
       "       [ 1.,  1.,  1.,  1.,  1.,  1.,  1.,  1.,  1.,  1.,  1.,  1.,  1.,\n",
       "         1.,  1.,  1.,  1.,  1.,  1.,  1.],\n",
       "       [ 1.,  1.,  1.,  1.,  1.,  1.,  1.,  1.,  1.,  1.,  1.,  1.,  1.,\n",
       "         1.,  1.,  1.,  1.,  1.,  1.,  1.],\n",
       "       [ 1.,  1.,  1.,  1.,  1.,  1.,  1.,  1.,  1.,  1.,  1.,  1.,  1.,\n",
       "         1.,  1.,  1.,  1.,  1.,  1.,  1.],\n",
       "       [ 1.,  1.,  1.,  1.,  1.,  1.,  1.,  1.,  1.,  1.,  1.,  1.,  1.,\n",
       "         1.,  1.,  1.,  1.,  1.,  1.,  1.],\n",
       "       [ 1.,  1.,  1.,  1.,  1.,  1.,  1.,  1.,  1.,  1.,  1.,  1.,  1.,\n",
       "         1.,  1.,  1.,  1.,  1.,  1.,  1.],\n",
       "       [ 1.,  1.,  1.,  1.,  1.,  1.,  1.,  1.,  1.,  1.,  1.,  1.,  1.,\n",
       "         1.,  1.,  1.,  1.,  1.,  1.,  1.],\n",
       "       [ 1.,  1.,  1.,  1.,  1.,  1.,  1.,  1.,  1.,  1.,  1.,  1.,  1.,\n",
       "         1.,  1.,  1.,  1.,  1.,  1.,  1.]])"
      ]
     },
     "execution_count": 20,
     "metadata": {},
     "output_type": "execute_result"
    }
   ],
   "source": []
  },
  {
   "cell_type": "code",
>>>>>>> 546726cb1fc7206ff62e3d8aa42fdb0a3964a039
   "execution_count": null,
   "metadata": {
    "collapsed": true
   },
   "outputs": [],
   "source": []
  }
 ],
 "metadata": {
  "kernelspec": {
   "display_name": "Python 2",
   "language": "python",
   "name": "python2"
  },
  "language_info": {
   "codemirror_mode": {
    "name": "ipython",
    "version": 2
   },
   "file_extension": ".py",
   "mimetype": "text/x-python",
   "name": "python",
   "nbconvert_exporter": "python",
   "pygments_lexer": "ipython2",
   "version": "2.7.10"
  }
 },
 "nbformat": 4,
 "nbformat_minor": 0
}
