{
 "cells": [
  {
   "cell_type": "code",
   "execution_count": 33,
   "metadata": {
    "collapsed": false
   },
   "outputs": [
    {
     "name": "stdout",
     "output_type": "stream",
     "text": [
      "Using matplotlib backend: MacOSX\n",
      "Populating the interactive namespace from numpy and matplotlib\n"
     ]
    },
    {
     "name": "stderr",
     "output_type": "stream",
     "text": [
      "WARNING: pylab import has clobbered these variables: ['test']\n",
      "`%matplotlib` prevents importing * from pylab and numpy\n"
     ]
    }
   ],
   "source": [
    "%pylab\n",
    "import pyqtgraph as qt"
   ]
  },
  {
   "cell_type": "code",
   "execution_count": 34,
   "metadata": {
    "collapsed": false
   },
   "outputs": [],
   "source": [
    "run /Users/aaronresnick/Desktop/CODERepository/pteropractice/winview_v02.py"
   ]
  },
  {
   "cell_type": "code",
   "execution_count": 35,
   "metadata": {
    "collapsed": true
   },
   "outputs": [],
   "source": [
    "flist = loadtxt('/Users/aaronresnick/Desktop/CODERepository/Doc_calibrations/flist.txt',dtype='str')"
   ]
  },
  {
   "cell_type": "code",
   "execution_count": 36,
   "metadata": {
    "collapsed": false
   },
   "outputs": [
    {
     "name": "stdout",
     "output_type": "stream",
     "text": [
      "xs, ys, numFrames, pixType =  512 512 100 uint16\n"
     ]
    }
   ],
   "source": [
    "fiveK = load_spe('/Users/aaronresnick/Desktop/CODERepository/Doc_calibrations/'+'20150618_21.SPE')"
   ]
  },
  {
   "cell_type": "code",
   "execution_count": 37,
   "metadata": {
    "collapsed": false
   },
   "outputs": [
    {
     "name": "stdout",
     "output_type": "stream",
     "text": [
      "xs, ys, numFrames, pixType =  512 512 100 uint16\n"
     ]
    }
   ],
   "source": [
    "tenK = load_spe('/Users/aaronresnick/Desktop/CODERepository/Doc_calibrations/'+'20150618_20.SPE')"
   ]
  },
  {
   "cell_type": "code",
   "execution_count": 38,
   "metadata": {
    "collapsed": false
   },
   "outputs": [
    {
     "name": "stdout",
     "output_type": "stream",
     "text": [
      "xs, ys, numFrames, pixType =  512 512 100 uint16\n"
     ]
    }
   ],
   "source": [
    "twentyK = load_spe('/Users/aaronresnick/Desktop/CODERepository/Doc_calibrations/'+'20150618_18.SPE')"
   ]
  },
  {
   "cell_type": "code",
   "execution_count": 39,
   "metadata": {
    "collapsed": false,
    "scrolled": true
   },
   "outputs": [
    {
     "name": "stdout",
     "output_type": "stream",
     "text": [
      "xs, ys, numFrames, pixType =  512 512 100 uint16\n"
     ]
    }
   ],
   "source": [
    "twoSecDark = load_spe('/Users/aaronresnick/Desktop/CODERepository/Doc_calibrations/'+'20150618_5.SPE')"
   ]
  },
  {
   "cell_type": "code",
   "execution_count": 40,
   "metadata": {
    "collapsed": true
   },
   "outputs": [],
   "source": [
    "run chzphot_v02"
   ]
  },
  {
   "cell_type": "code",
   "execution_count": 41,
   "metadata": {
    "collapsed": false
   },
   "outputs": [],
   "source": [
    "mn, sd = robomad(twoSecDark, 3)"
   ]
  },
  {
   "cell_type": "code",
   "execution_count": 42,
   "metadata": {
    "collapsed": false
   },
   "outputs": [],
   "source": [
    "fiveK = fiveK - mn\n",
    "tenK = tenK - mn\n",
    "twentyK = twentyK - mn"
   ]
  },
  {
   "cell_type": "code",
   "execution_count": 43,
   "metadata": {
    "collapsed": true
   },
   "outputs": [],
   "source": [
    "fiveSTD = numpy.std(fiveK,axis = 0)\n",
    "tenSTD = numpy.std(tenK, axis = 0)\n",
    "twentySTD = numpy.std(twentyK, axis = 0)"
   ]
  },
  {
   "cell_type": "code",
   "execution_count": 44,
   "metadata": {
    "collapsed": false
   },
   "outputs": [],
   "source": [
    "fiveSTDcube = ones((100,512,512))\n",
    "tenSTDcube = ones((100,512,512))\n",
    "twentySTDcube = ones((100,512,512))"
   ]
  },
  {
   "cell_type": "code",
   "execution_count": 45,
   "metadata": {
    "collapsed": false
   },
   "outputs": [],
   "source": [
    "fiveSTDcube = fiveSTDcube * fiveSTD\n",
    "tenSTDcube = tenSTDcube * tenSTD\n",
    "twentySTDcube = twentySTDcube * twentySTD"
   ]
  },
  {
   "cell_type": "code",
   "execution_count": 46,
   "metadata": {
    "collapsed": false
   },
   "outputs": [],
   "source": [
    "gainFive = fiveK / fiveSTDcube**2\n",
    "gainTen = tenK / tenSTDcube**2\n",
    "gainTwenty = twentyK / twentySTDcube**2\n"
   ]
  },
  {
   "cell_type": "code",
   "execution_count": 47,
   "metadata": {
    "collapsed": false
   },
   "outputs": [
    {
     "data": {
      "text/plain": [
       "(0.015180586706843711, 2.2743806624667595, 1.7266600607479325)"
      ]
     },
     "execution_count": 47,
     "metadata": {},
     "output_type": "execute_result"
    }
   ],
   "source": [
    "gainFive.max(), gainTen.max(), gainTwenty.max()"
   ]
  },
  {
   "cell_type": "code",
   "execution_count": 48,
   "metadata": {
    "collapsed": false
   },
   "outputs": [
    {
     "data": {
      "text/plain": [
       "((100, 512, 512), (100, 512, 512))"
      ]
     },
     "execution_count": 48,
     "metadata": {},
     "output_type": "execute_result"
    }
   ],
   "source": [
    "fiveK.shape, fiveSTDcube.shape"
   ]
  },
  {
   "cell_type": "code",
   "execution_count": null,
   "metadata": {
    "collapsed": true
   },
   "outputs": [],
   "source": []
  }
 ],
 "metadata": {
  "kernelspec": {
   "display_name": "Python 2",
   "language": "python",
   "name": "python2"
  },
  "language_info": {
   "codemirror_mode": {
    "name": "ipython",
    "version": 2
   },
   "file_extension": ".py",
   "mimetype": "text/x-python",
   "name": "python",
   "nbconvert_exporter": "python",
   "pygments_lexer": "ipython2",
   "version": "2.7.10"
  }
 },
 "nbformat": 4,
 "nbformat_minor": 0
}
