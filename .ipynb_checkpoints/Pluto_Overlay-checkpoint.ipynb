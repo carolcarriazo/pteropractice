{
 "cells": [
  {
   "cell_type": "markdown",
   "metadata": {},
   "source": [
    "#Pluto Overlay on Occultation Star"
   ]
  },
  {
   "cell_type": "code",
   "execution_count": 1,
   "metadata": {
    "collapsed": false
   },
   "outputs": [
    {
     "name": "stdout",
     "output_type": "stream",
     "text": [
      "Using matplotlib backend: MacOSX\n",
      "Populating the interactive namespace from numpy and matplotlib\n"
     ]
    }
   ],
   "source": [
    "%pylab\n",
    "import astropy.io.fits as pf"
   ]
  },
  {
   "cell_type": "code",
   "execution_count": 2,
   "metadata": {
    "collapsed": false
   },
   "outputs": [
    {
     "ename": "SyntaxError",
     "evalue": "invalid token (<ipython-input-2-990e312e000b>, line 1)",
     "output_type": "error",
     "traceback": [
      "\u001b[0;36m  File \u001b[0;32m\"<ipython-input-2-990e312e000b>\"\u001b[0;36m, line \u001b[0;32m1\u001b[0m\n\u001b[0;31m    PlutoCoords = np.array([[19,02,39.65, -20,38,00.2],\u001b[0m\n\u001b[0m                                 ^\u001b[0m\n\u001b[0;31mSyntaxError\u001b[0m\u001b[0;31m:\u001b[0m invalid token\n"
     ]
    }
   ],
   "source": [
    "PlutoCoords = np.array([[19,2,39.65, -20,38,00.2],\n",
    "                       [19,2,36.68, -20,38,07.4],\n",
    "                       [19,2,33.61, -20,38,14.5],\n",
    "                       [19,2,30.62, -20,38,21.7],\n",
    "                       [19,2,27.53, -20,38,28.8],\n",
    "                       [19,2,24.53, -20,38,36.1],\n",
    "                       [19,2,21.42, -20,38,43.2],\n",
    "                       [19,2,18.40, -20,38,50.6],\n",
    "                       [19,2,15.28, -20,38,57.8],\n",
    "                       [19,2,12.25, -20,39,05.1],\n",
    "                       [19,2,09.12, -20,39,12.4],\n",
    "                       [19,2,06.07, -20,39,19.8],\n",
    "                       [19,2,02.93, -20,39,27.0],\n",
    "                       [19,1,59.87, -20,39,34.5],\n",
    "                       [19,1,56.73, -20,39,41.8],\n",
    "                       [19,1,53.66, -20,39,49.3],\n",
    "                       [19,1,50.50, -20,39,56.6],\n",
    "                       [19,1,47.43, -20,40,04.1],\n",
    "                       [19,1,44.26, -20,40,11.5],\n",
    "                       [19,1,41.18, -20,40,19.1],\n",
    "                       [19,1,38.01, -20,40,26.5],\n",
    "                       [19,1,34.92, -20,40,34.1],\n",
    "                       [19,1,31.75, -20,40,41.5]])"
   ]
  },
  {
   "cell_type": "code",
   "execution_count": null,
   "metadata": {
    "collapsed": true
   },
   "outputs": [],
   "source": [
    "PCra = PlutoCoords[:,:3]\n",
    "PCdec = PlutoCoords[:,3:]"
   ]
  },
  {
   "cell_type": "code",
   "execution_count": null,
   "metadata": {
    "collapsed": false
   },
   "outputs": [],
   "source": [
    "def ra2deg(h, m, s):\n",
    "    '''[RAdeg] = ra2deg(rAtuple)\n",
    "    Returns decimal degree form of right ascension RAdeg given rAtuple=(hour, minute, second)\n",
    "    KH, 6/8/15\n",
    "    '''\n",
    "    RAdeg = h*(360./24) + m*(360./(24.*60.)) + s*(360./(24.*60.*60.))\n",
    "    return (RAdeg)    \n",
    "\n",
    "def dec2deg(d, m, s):\n",
    "    '''[DECdeg] = dec2deg(dectuple)\n",
    "    Returns decimal degree form of declination DECdeg given dectuple=(degrees, minutes,\n",
    "    seconds).\n",
    "    KH, 6/8/15\n",
    "    '''\n",
    "    if d < 0:\n",
    "        DECdeg = d - (m/60.) - (s/(60.*60.))\n",
    "    else:\n",
    "        DECdeg = d + (m/60.) + (s/(60.*60.))\n",
    "    return(DECdeg)"
   ]
  },
  {
   "cell_type": "code",
   "execution_count": null,
   "metadata": {
    "collapsed": false
   },
   "outputs": [],
   "source": [
    "ralist = range(23)\n",
    "RAcoord = zeros((23,1))\n",
    "DECcoord = zeros((23,1))"
   ]
  },
  {
   "cell_type": "code",
   "execution_count": null,
   "metadata": {
    "collapsed": false
   },
   "outputs": [],
   "source": [
    "for i in ralist:\n",
    "    hr = PCra[i,0]\n",
    "    m = PCra[i,1]\n",
    "    s = PCra[i,2]\n",
    "    RAcoord[i] = ra2deg(hr,m,s)"
   ]
  },
  {
   "cell_type": "code",
   "execution_count": 3,
   "metadata": {
    "collapsed": false
   },
   "outputs": [
    {
     "ename": "NameError",
     "evalue": "name 'ralist' is not defined",
     "output_type": "error",
     "traceback": [
      "\u001b[0;31m---------------------------------------------------------------------------\u001b[0m",
      "\u001b[0;31mNameError\u001b[0m                                 Traceback (most recent call last)",
      "\u001b[0;32m<ipython-input-3-1e6d145e6efa>\u001b[0m in \u001b[0;36m<module>\u001b[0;34m()\u001b[0m\n\u001b[0;32m----> 1\u001b[0;31m \u001b[0;32mfor\u001b[0m \u001b[0mi\u001b[0m \u001b[0;32min\u001b[0m \u001b[0mralist\u001b[0m\u001b[0;34m:\u001b[0m\u001b[0;34m\u001b[0m\u001b[0m\n\u001b[0m\u001b[1;32m      2\u001b[0m     \u001b[0md\u001b[0m \u001b[0;34m=\u001b[0m \u001b[0mPCdec\u001b[0m\u001b[0;34m[\u001b[0m\u001b[0mi\u001b[0m\u001b[0;34m,\u001b[0m\u001b[0;36m0\u001b[0m\u001b[0;34m]\u001b[0m\u001b[0;34m\u001b[0m\u001b[0m\n\u001b[1;32m      3\u001b[0m     \u001b[0mm\u001b[0m \u001b[0;34m=\u001b[0m \u001b[0mPCdec\u001b[0m\u001b[0;34m[\u001b[0m\u001b[0mi\u001b[0m\u001b[0;34m,\u001b[0m\u001b[0;36m1\u001b[0m\u001b[0;34m]\u001b[0m\u001b[0;34m\u001b[0m\u001b[0m\n\u001b[1;32m      4\u001b[0m     \u001b[0ms\u001b[0m \u001b[0;34m=\u001b[0m \u001b[0mPCdec\u001b[0m\u001b[0;34m[\u001b[0m\u001b[0mi\u001b[0m\u001b[0;34m,\u001b[0m\u001b[0;36m2\u001b[0m\u001b[0;34m]\u001b[0m\u001b[0;34m\u001b[0m\u001b[0m\n\u001b[1;32m      5\u001b[0m     \u001b[0mDECcoord\u001b[0m\u001b[0;34m[\u001b[0m\u001b[0mi\u001b[0m\u001b[0;34m]\u001b[0m \u001b[0;34m=\u001b[0m \u001b[0mdec2deg\u001b[0m\u001b[0;34m(\u001b[0m\u001b[0md\u001b[0m\u001b[0;34m,\u001b[0m\u001b[0mm\u001b[0m\u001b[0;34m,\u001b[0m\u001b[0ms\u001b[0m\u001b[0;34m)\u001b[0m\u001b[0;34m\u001b[0m\u001b[0m\n",
      "\u001b[0;31mNameError\u001b[0m: name 'ralist' is not defined"
     ]
    }
   ],
   "source": [
    "for i in ralist:\n",
    "    d = PCdec[i,0]\n",
    "    m = PCdec[i,1]\n",
    "    s = PCdec[i,2]\n",
    "    DECcoord[i] = dec2deg(d,m,s)"
   ]
  },
  {
   "cell_type": "code",
   "execution_count": null,
   "metadata": {
    "collapsed": true
   },
   "outputs": [],
   "source": [
    "pVectorRA = []\n",
    "pVectorDEC = []\n",
    "for i in range(len(RAcoord)):\n",
    "    pVectorRA.append(RAcoord[i]-285.204)\n",
    "    "
   ]
  },
  {
   "cell_type": "code",
   "execution_count": null,
   "metadata": {
    "collapsed": true
   },
   "outputs": [],
   "source": []
  }
 ],
 "metadata": {
  "kernelspec": {
   "display_name": "Python 3",
   "language": "python",
   "name": "python3"
  },
  "language_info": {
   "codemirror_mode": {
    "name": "ipython",
    "version": 3
   },
   "file_extension": ".py",
   "mimetype": "text/x-python",
   "name": "python",
   "nbconvert_exporter": "python",
   "pygments_lexer": "ipython3",
   "version": "3.4.3"
  }
 },
 "nbformat": 4,
 "nbformat_minor": 0
}
