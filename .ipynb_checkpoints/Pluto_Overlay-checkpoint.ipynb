{
 "cells": [
  {
   "cell_type": "markdown",
   "metadata": {},
   "source": [
    "#Pluto Overlay on Occultation Star"
   ]
  },
  {
   "cell_type": "code",
   "execution_count": 3,
   "metadata": {
    "collapsed": false
   },
   "outputs": [
    {
     "name": "stdout",
     "output_type": "stream",
     "text": [
      "Using matplotlib backend: MacOSX\n",
      "Populating the interactive namespace from numpy and matplotlib\n"
     ]
    }
   ],
   "source": [
    "%pylab\n",
    "import astropy.io.fits as pf"
   ]
  },
  {
   "cell_type": "code",
   "execution_count": 4,
   "metadata": {
    "collapsed": false
   },
   "outputs": [],
   "source": [
    "PlutoCoords = np.array([[19,02,39.65, -20,38,00.2],\n",
    "                       [19,02,36.68, -20,38,07.4],\n",
    "                       [19,02,33.61, -20,38,14.5],\n",
    "                       [19,02,30.62, -20,38,21.7],\n",
    "                       [19,02,27.53, -20,38,28.8],\n",
    "                       [19,02,24.53, -20,38,36.1],\n",
    "                       [19,02,21.42, -20,38,43.2],\n",
    "                       [19,02,18.40, -20,38,50.6],\n",
    "                       [19,02,15.28, -20,38,57.8],\n",
    "                       [19,02,12.25, -20,39,05.1],\n",
    "                       [19,02,09.12, -20,39,12.4],\n",
    "                       [19,02,06.07, -20,39,19.8],\n",
    "                       [19,02,02.93, -20,39,27.0],\n",
    "                       [19,01,59.87, -20,39,34.5],\n",
    "                       [19,01,56.73, -20,39,41.8],\n",
    "                       [19,01,53.66, -20,39,49.3],\n",
    "                       [19,01,50.50, -20,39,56.6],\n",
    "                       [19,01,47.43, -20,40,04.1],\n",
    "                       [19,01,44.26, -20,40,11.5],\n",
    "                       [19,01,41.18, -20,40,19.1],\n",
    "                       [19,01,38.01, -20,40,26.5],\n",
    "                       [19,01,34.92, -20,40,34.1],\n",
    "                       [19,01,31.75, -20,40,41.5]])"
   ]
  },
  {
   "cell_type": "code",
   "execution_count": 5,
   "metadata": {
    "collapsed": true
   },
   "outputs": [],
   "source": [
    "PCra = PlutoCoords[:,:3]\n",
    "PCdec = PlutoCoords[:,3:]"
   ]
  },
  {
   "cell_type": "code",
   "execution_count": 6,
   "metadata": {
    "collapsed": false
   },
   "outputs": [],
   "source": [
    "def ra2deg(h, m, s):\n",
    "    '''[RAdeg] = ra2deg(rAtuple)\n",
    "    Returns decimal degree form of right ascension RAdeg given rAtuple=(hour, minute, second)\n",
    "    KH, 6/8/15\n",
    "    '''\n",
    "    RAdeg = h*(360./24) + m*(360./(24.*60.)) + s*(360./(24.*60.*60.))\n",
    "    return (RAdeg)    \n",
    "\n",
    "def dec2deg(d, m, s):\n",
    "    '''[DECdeg] = dec2deg(dectuple)\n",
    "    Returns decimal degree form of declination DECdeg given dectuple=(degrees, minutes,\n",
    "    seconds).\n",
    "    KH, 6/8/15\n",
    "    '''\n",
    "    if d < 0:\n",
    "        DECdeg = d - (m/60.) - (s/(60.*60.))\n",
    "    else:\n",
    "        DECdeg = d + (m/60.) + (s/(60.*60.))\n",
    "    return(DECdeg)"
   ]
  },
  {
   "cell_type": "code",
   "execution_count": 7,
   "metadata": {
    "collapsed": false
   },
   "outputs": [],
   "source": [
    "ralist = range(23)\n",
    "RAcoord = []\n",
    "DECcoord = []"
   ]
  },
  {
   "cell_type": "code",
   "execution_count": 8,
   "metadata": {
    "collapsed": false
   },
   "outputs": [],
   "source": [
    "for i in ralist:\n",
    "    hr = PCra[i,0]\n",
    "    m = PCra[i,1]\n",
    "    s = PCra[i,2]\n",
    "    RAcoord.append(ra2deg(hr,m,s))"
   ]
  },
  {
   "cell_type": "code",
   "execution_count": 9,
   "metadata": {
    "collapsed": false
   },
   "outputs": [],
   "source": [
    "for i in ralist:\n",
    "    d = PCdec[i,0]\n",
    "    m = PCdec[i,1]\n",
    "    s = PCdec[i,2]\n",
    "    DECcoord.append(dec2deg(d,m,s))"
   ]
  },
  {
   "cell_type": "code",
   "execution_count": 13,
   "metadata": {
    "collapsed": false
   },
   "outputs": [],
   "source": [
    "#pVectorRA = []\n",
    "#pVectorDEC = []\n",
    "#for i in range(len(RAcoord)):\n",
    "#    pVectorRA.append(RAcoord[i] - 285.204)\n",
    "#    pVectorDEC.append(DECcoord[i] - (-20.70))"
   ]
  },
  {
   "cell_type": "code",
   "execution_count": 15,
   "metadata": {
    "collapsed": true
   },
   "outputs": [],
   "source": [
    "# Converts degrees to pixels \n",
    "A1 = np.array([R1, 1], [R2, 1])\n",
    "b1 = np.array([x1],[x2])\n",
    "A2 = np.array([D1, 1], [D2, 1])\n",
    "b2 = np.array([y1], [y2])\n",
    "x1 = numpy.linalg.solve(A1, b1)\n",
    "x2 = numpy.linalg.solve(A2, b2)\n",
    "mx = x1[0]\n",
    "bx = x1[1]\n",
    "my = x2[0]\n",
    "by = x2[1]\n",
    "# returns conversion factor in the form: xp = mx*RA + bx ; yp = my*DEC + by "
   ]
  },
  {
   "cell_type": "code",
   "execution_count": 16,
   "metadata": {
    "collapsed": false
   },
   "outputs": [
    {
     "data": {
      "text/plain": [
       "[(0.01665277777777785, 0.11530208333333292),\n",
       " (0.016152777777778127, 0.11220833333332791),\n",
       " (0.015659722222221895, 0.10901041666666345),\n",
       " (0.015159722222222172, 0.10589583333333508),\n",
       " (0.014666666666666828, 0.10267708333333303),\n",
       " (0.014159722222221838, 0.099552083333335872),\n",
       " (0.013666666666666494, 0.096312499999996248),\n",
       " (0.013152777777778013, 0.093166666666661513),\n",
       " (0.012652777777777402, 0.089916666666667311),\n",
       " (0.0121458333333333, 0.086760416666663787),\n",
       " (0.011638888888889198, 0.083500000000000796),\n",
       " (0.011124999999999829, 0.080322916666659694),\n",
       " (0.010625000000000107, 0.077052083333327914),\n",
       " (0.010104166666667247, 0.073864583333332234),\n",
       " (0.009597222222222257, 0.070593750000000455),\n",
       " (0.0090763888888893973, 0.067395833333335986),\n",
       " (0.0085694444444444073, 0.064104166666666629),\n",
       " (0.0080486111111106595, 0.06090625000000216),\n",
       " (0.0075347222222221788, 0.057604166666664014),\n",
       " (0.0070069444444440521, 0.054395833333330756),\n",
       " (0.0064930555555546832, 0.05109374999999261),\n",
       " (0.0059652777777774446, 0.047875000000004775),\n",
       " (0.0054513888888880757, 0.044572916666666629)]"
      ]
     },
     "execution_count": 16,
     "metadata": {},
     "output_type": "execute_result"
    }
   ],
   "source": [
    "zip(pVectorDEC,pVectorRA)"
   ]
  },
  {
   "cell_type": "code",
   "execution_count": 22,
   "metadata": {
    "collapsed": false
   },
   "outputs": [],
   "source": [
    "d = pf.getdata('/Users/aaronresnick/Desktop/CODERepository/new-image.fits')"
   ]
  },
  {
   "cell_type": "code",
   "execution_count": 31,
   "metadata": {
    "collapsed": false
   },
   "outputs": [
    {
     "data": {
      "text/plain": [
       "238"
      ]
     },
     "execution_count": 31,
     "metadata": {},
     "output_type": "execute_result"
    }
   ],
   "source": [
    "xc,yc = d.shape\n",
    "xc = (xc//2) + 1\n",
    "yc = (yc//2) + 1"
   ]
  },
  {
   "cell_type": "code",
   "execution_count": null,
   "metadata": {
    "collapsed": false
   },
   "outputs": [],
   "source": []
  },
  {
   "cell_type": "code",
   "execution_count": null,
   "metadata": {
    "collapsed": true
   },
   "outputs": [],
   "source": []
  }
 ],
 "metadata": {
  "kernelspec": {
   "display_name": "Python 2",
   "language": "python",
   "name": "python2"
  },
  "language_info": {
   "codemirror_mode": {
    "name": "ipython",
    "version": 2
   },
   "file_extension": ".py",
   "mimetype": "text/x-python",
   "name": "python",
   "nbconvert_exporter": "python",
   "pygments_lexer": "ipython2",
   "version": "2.7.10"
  }
 },
 "nbformat": 4,
 "nbformat_minor": 0
}
