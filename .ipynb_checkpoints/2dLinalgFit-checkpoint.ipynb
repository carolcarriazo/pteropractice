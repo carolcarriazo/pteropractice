{
 "cells": [
  {
   "cell_type": "code",
   "execution_count": 1,
   "metadata": {
    "collapsed": false
   },
   "outputs": [
    {
     "name": "stdout",
     "output_type": "stream",
     "text": [
      "Using matplotlib backend: MacOSX\n",
      "Populating the interactive namespace from numpy and matplotlib\n"
     ]
    }
   ],
   "source": [
    "%pylab\n",
    "from scipy import linalg as LA"
   ]
  },
  {
   "cell_type": "code",
   "execution_count": 4,
   "metadata": {
    "collapsed": false
   },
   "outputs": [
    {
     "data": {
      "text/plain": [
       "array([[ 285.165   ,  -20.69863 ,  286.934   ,  135.282   ],\n",
       "       [ 285.18162 ,  -20.696447,  232.809   ,  143.181   ],\n",
       "       [ 285.1841  ,  -20.68973 ,  224.474   ,  167.354   ],\n",
       "       [ 285.18694 ,  -20.696377,  214.909   ,  143.427   ],\n",
       "       [ 285.17236 ,  -20.689634,  264.004   ,  167.697   ],\n",
       "       [ 285.16596 ,  -20.724907,  285.523   ,   40.711   ],\n",
       "       [ 285.2403  ,  -20.713037,   35.2     ,   93.251   ],\n",
       "       [ 285.24509 ,  -20.701719,   19.069   ,  124.165   ],\n",
       "       [ 285.23141 ,  -20.728224,   65.153   ,   28.76    ],\n",
       "       [ 285.23332 ,  -20.726501,   58.728   ,   34.962   ]])"
      ]
     },
     "execution_count": 4,
     "metadata": {},
     "output_type": "execute_result"
    }
   ],
   "source": [
    "# RA, DEC, x, and y of stars in 2mass_starfield.fits\n",
    "t = loadtxt('2mass_starfield_centroids.txt', dtype='float', skiprows=2)\n",
    "numstars = len(t)\n",
    "t"
   ]
  },
  {
   "cell_type": "code",
   "execution_count": 5,
   "metadata": {
    "collapsed": true
   },
   "outputs": [],
   "source": [
    "rMatrix = zeros((numstars,6))\n",
    "dMatrix = zeros((numstars,6))"
   ]
  },
  {
   "cell_type": "code",
   "execution_count": 6,
   "metadata": {
    "collapsed": true
   },
   "outputs": [],
   "source": [
    "for i in range(len(rMatrix)):\n",
    "    rMatrix[i,0] = 1\n",
    "    rMatrix[i,1] = t[i,2]\n",
    "    rMatrix[i,2] = t[i,3]\n",
    "    rMatrix[i,3] = t[i,2]**2\n",
    "    rMatrix[i,4] = t[i,3]**2\n",
    "    rMatrix[i,5] = t[i,2]*t[i,3]\n",
    "    \n",
    "for i in range(len(dMatrix)):\n",
    "    dMatrix[i,0] = 1\n",
    "    dMatrix[i,1] = t[i,2]\n",
    "    dMatrix[i,2] = t[i,3]\n",
    "    dMatrix[i,3] = t[i,2]**2\n",
    "    dMatrix[i,4] = t[i,3]**2\n",
    "    dMatrix[i,5] = t[i,2]*t[i,3]\n",
    "# or dMatrix = rMatrix.copy() ?"
   ]
  },
  {
   "cell_type": "code",
   "execution_count": 7,
   "metadata": {
    "collapsed": true
   },
   "outputs": [],
   "source": [
    "bRA = t[:,0]\n",
    "bDEC = t[:,1]"
   ]
  },
  {
   "cell_type": "code",
   "execution_count": 8,
   "metadata": {
    "collapsed": false
   },
   "outputs": [
    {
     "name": "stdout",
     "output_type": "stream",
     "text": [
      "(array([  2.85250575e+02,  -2.89431947e-04,  -6.16881980e-06,\n",
      "        -1.84505595e-08,   6.00731035e-08,  -2.97431500e-08]), array([ -2.07354299e+01,   3.61435044e-06,   2.30436320e-04,\n",
      "         2.57155602e-09,   2.70250100e-07,  -2.59286968e-08]))\n"
     ]
    }
   ],
   "source": [
    "rMatrixT = rMatrix.T\n",
    "rAlpha = rMatrixT.dot(rMatrix)\n",
    "rAinv = inv(rAlpha)\n",
    "rintermediate = rAinv.dot(rMatrixT)\n",
    "raConst = rintermediate.dot(bRA)\n",
    "\n",
    "dMatrixT = dMatrix.T\n",
    "dAlpha = dMatrixT.dot(dMatrix)\n",
    "dAinv = inv(dAlpha)\n",
    "dintermediate = dAinv.dot(dMatrixT)\n",
    "dConst = dintermediate.dot(bDEC)\n",
    "\n",
    "print(raConst, dConst)"
   ]
  },
  {
   "cell_type": "code",
   "execution_count": 9,
   "metadata": {
    "collapsed": true
   },
   "outputs": [],
   "source": [
    "def plateSoln(x, y, raConst, dConst):\n",
    "    ra = raConst[0] + x*raConst[1] + y*raConst[2] + (x**2)*raConst[3] + (y**2)*raConst[4] + x*y*raConst[5]\n",
    "    dec = dConst[0] + x*dConst[1] + y*dConst[2] + (x**2)*dConst[3] + (y**2)*dConst[4] + x*y*dConst[5]\n",
    "    return(ra, dec)"
   ]
  },
  {
   "cell_type": "code",
   "execution_count": 12,
   "metadata": {
    "collapsed": false
   },
   "outputs": [
    {
     "name": "stdout",
     "output_type": "stream",
     "text": [
      "(285.20642545276371, -20.694843925299573)\n"
     ]
    }
   ],
   "source": [
    "testra, testdec = plateSoln(150.25, 149.75, raConst, dConst)\n",
    "print(testra, testdec) #correct to 3 decimal places"
   ]
  },
  {
   "cell_type": "code",
   "execution_count": null,
   "metadata": {
    "collapsed": true
   },
   "outputs": [],
   "source": []
  }
 ],
 "metadata": {
  "kernelspec": {
   "display_name": "Python 2",
   "language": "python",
   "name": "python2"
  },
  "language_info": {
   "codemirror_mode": {
    "name": "ipython",
    "version": 2
   },
   "file_extension": ".py",
   "mimetype": "text/x-python",
   "name": "python",
   "nbconvert_exporter": "python",
   "pygments_lexer": "ipython2",
   "version": "2.7.9"
  }
 },
 "nbformat": 4,
 "nbformat_minor": 0
}
