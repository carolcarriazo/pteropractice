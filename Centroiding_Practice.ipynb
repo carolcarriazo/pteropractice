{
 "cells": [
  {
   "cell_type": "code",
   "execution_count": 1,
   "metadata": {
    "collapsed": false
   },
   "outputs": [
    {
     "name": "stdout",
     "output_type": "stream",
     "text": [
      "Using matplotlib backend: MacOSX\n",
      "Populating the interactive namespace from numpy and matplotlib\n"
     ]
    }
   ],
   "source": [
    "import chzphot_v02 as cp\n",
    "%pylab\n",
    "from scipy import *\n",
    "#from numpy import *\n",
    "import scipy.ndimage as ndi\n",
    "\n",
    "from scipy.signal import medfilt\n",
    "from scipy.optimize import leastsq\n",
    "\n",
    "# import pyfits as pf\n",
    "import astropy.io.fits as pf"
   ]
  },
  {
   "cell_type": "code",
   "execution_count": 2,
   "metadata": {
    "collapsed": false
   },
   "outputs": [],
   "source": [
    "RawStarMap = pf.getdata('150501.007.fits')"
   ]
  },
  {
   "cell_type": "code",
   "execution_count": 4,
   "metadata": {
    "collapsed": false
   },
   "outputs": [
    {
     "data": {
      "text/plain": [
       "<matplotlib.colorbar.Colorbar instance at 0x107b84290>"
      ]
     },
     "execution_count": 4,
     "metadata": {},
     "output_type": "execute_result"
    }
   ],
   "source": [
    "figure(1)\n",
    "imshow(RawStarMap)\n",
    "colorbar()"
   ]
  },
  {
   "cell_type": "code",
   "execution_count": 5,
   "metadata": {
    "collapsed": false
   },
   "outputs": [
    {
     "name": "stdout",
     "output_type": "stream",
     "text": [
      "400.216871065\n"
     ]
    }
   ],
   "source": [
    "#Do below with localized maps? split into subimages first?\n",
    "StarMapFilt = medfilt(RawStarMap, 3)\n",
    "m1 = median(StarMapFilt)  #filtered median\n",
    "dif1 = abs(StarMapFilt - m1)\n",
    "MAD1 = median(dif1)  #MAD of filtered\n",
    "sd1 = 1.4826 * MAD1  #standard dev from MAD\n",
    "\n",
    "thresh = 5.0\n",
    "GoodPix1 = where(abs(StarMapFilt - m1) < (thresh*sd1))\n",
    "m2 = mean(StarMapFilt[GoodPix1])\n",
    "sd2 = std(StarMapFilt[GoodPix1])\n",
    "\n",
    "GoodPix2 = where(abs(StarMapFilt - m2) < (thresh*sd2))\n",
    "m3 = mean(StarMapFilt[GoodPix2])\n",
    "sd3 = std(StarMapFilt[GoodPix2])\n",
    "\n",
    "print(m3)  #mean noise\n",
    "\n",
    "RedNoiseMap = 1.0 * StarMapFilt  # copy filtered star map\n",
    "RedNoiseMap[GoodPix2] = m3  # replace background with mean noise"
   ]
  },
  {
   "cell_type": "code",
   "execution_count": 6,
   "metadata": {
    "collapsed": false
   },
   "outputs": [
    {
     "data": {
      "text/plain": [
       "<matplotlib.image.AxesImage at 0x108de5890>"
      ]
     },
     "execution_count": 6,
     "metadata": {},
     "output_type": "execute_result"
    }
   ],
   "source": [
    "matshow(RedNoiseMap)"
   ]
  },
  {
   "cell_type": "code",
   "execution_count": 7,
   "metadata": {
    "collapsed": true
   },
   "outputs": [],
   "source": [
    "#Pick a few stars to centroid\n",
    "Star1 = RedNoiseMap[20:40,260:280] * 1.0\n",
    "Star2 = RedNoiseMap[320:335,855:870] * 1.0\n",
    "Star3 = RedNoiseMap[795:810,755:775] * 1.0\n",
    "Star4 = RedNoiseMap[475:495,600:615] * 1.0"
   ]
  },
  {
   "cell_type": "code",
   "execution_count": 8,
   "metadata": {
    "collapsed": false
   },
   "outputs": [],
   "source": [
    "#Guesses for y,x center, subR window radius\n",
    "yg1, xg1, subR1 = (30., 270., 15.)\n",
    "yg2, xg2, subR2 = (327.,857., 15.)\n",
    "yg3, xg3, subR3 = (803.,765., 15.)\n",
    "yg4, xg4, subR4 = (485.,608, 15.)"
   ]
  },
  {
   "cell_type": "code",
   "execution_count": 9,
   "metadata": {
    "collapsed": false
   },
   "outputs": [],
   "source": [
    "#Reduce background to zero\n",
    "NoNoiseMap = RedNoiseMap - m3"
   ]
  },
  {
   "cell_type": "code",
   "execution_count": 10,
   "metadata": {
    "collapsed": false
   },
   "outputs": [
    {
     "name": "stdout",
     "output_type": "stream",
     "text": [
      "(269.96924532244481, 28.841605862191717)\n",
      "(864.31580358739075, 328.52538114998856)\n",
      "(763.95418008472768, 801.80713476252402)\n",
      "(606.23227574332236, 484.93417352236105)\n"
     ]
    }
   ],
   "source": [
    "#Run Centroiding Function:\n",
    "x1c, y1c = cp.gcntrd(NoNoiseMap, subR1, xg1, yg1)\n",
    "x2c, y2c = cp.gcntrd(NoNoiseMap, subR2, xg2, yg2)\n",
    "x3c, y3c = cp.gcntrd(NoNoiseMap, subR3, xg3, yg3)\n",
    "x4c, y4c = cp.gcntrd(NoNoiseMap, subR4, xg4, yg4)\n",
    "\n",
    "print(x1c, y1c)\n",
    "print(x2c, y2c)\n",
    "print(x3c, y3c)\n",
    "print(x4c, y4c)"
   ]
  },
  {
   "cell_type": "code",
   "execution_count": 11,
   "metadata": {
    "collapsed": false
   },
   "outputs": [
    {
     "data": {
      "text/plain": [
       "<matplotlib.image.AxesImage at 0x119729f90>"
      ]
     },
     "execution_count": 11,
     "metadata": {},
     "output_type": "execute_result"
    }
   ],
   "source": [
    "#show graph of each star w/ Gaussian center marked\n",
    "\n",
    "Star1c = NoNoiseMap[20:40,260:280] * 1.0\n",
    "Star2c = NoNoiseMap[320:335,855:870] * 1.0\n",
    "Star3c = NoNoiseMap[795:810,755:775] * 1.0\n",
    "Star4c = NoNoiseMap[475:495,600:615] * 1.0\n",
    "\n",
    "close('all')\n",
    "\n",
    "matshow(Star1c)\n",
    "x1cscaled = x1c - 260.\n",
    "y1cscaled = y1c - 20.\n",
    "scatter([x1cscaled], [y1cscaled])\n",
    "imshow(Star1c)\n",
    "\n",
    "matshow(Star2c)\n",
    "x2cscaled = x2c - 855.\n",
    "y2cscaled = y2c - 320.\n",
    "scatter([x2cscaled], [y2cscaled])\n",
    "imshow(Star2c)\n",
    "\n",
    "matshow(Star3c)\n",
    "x3cscaled = x3c - 755.\n",
    "y3cscaled = y3c - 795.\n",
    "scatter([x3cscaled], [y3cscaled])\n",
    "imshow(Star3c)\n",
    "\n",
    "matshow(Star4c)\n",
    "x4cscaled = x4c - 600.\n",
    "y4cscaled = y4c - 475.\n",
    "scatter([x4cscaled], [y4cscaled])\n",
    "imshow(Star4c)"
   ]
  },
  {
   "cell_type": "code",
   "execution_count": null,
   "metadata": {
    "collapsed": true
   },
   "outputs": [],
   "source": []
  }
 ],
 "metadata": {
  "kernelspec": {
   "display_name": "Python 2",
   "language": "python",
   "name": "python2"
  },
  "language_info": {
   "codemirror_mode": {
    "name": "ipython",
    "version": 2
   },
   "file_extension": ".py",
   "mimetype": "text/x-python",
   "name": "python",
   "nbconvert_exporter": "python",
   "pygments_lexer": "ipython2",
   "version": "2.7.9"
  }
 },
 "nbformat": 4,
 "nbformat_minor": 0
}
