{
 "cells": [
  {
   "cell_type": "code",
   "execution_count": 34,
   "metadata": {
    "collapsed": false
   },
   "outputs": [
    {
     "name": "stdout",
     "output_type": "stream",
     "text": [
      "Using matplotlib backend: MacOSX\n",
      "Populating the interactive namespace from numpy and matplotlib\n"
     ]
    },
    {
     "name": "stderr",
     "output_type": "stream",
     "text": [
      "WARNING: pylab import has clobbered these variables: ['test']\n",
      "`%matplotlib` prevents importing * from pylab and numpy\n"
     ]
    }
   ],
   "source": [
    "% pylab\n",
    "import astropy.io.fits as pf\n",
    "import pyqtgraph as pq"
   ]
  },
  {
   "cell_type": "code",
   "execution_count": 35,
   "metadata": {
    "collapsed": false
   },
   "outputs": [],
   "source": [
    "files = loadtxt('/Users/aaronresnick/Desktop/CODERepository/FanMtnData/flist',dtype='str')"
   ]
  },
  {
   "cell_type": "code",
   "execution_count": 36,
   "metadata": {
    "collapsed": false
   },
   "outputs": [],
   "source": [
    "icube = zeros((20,995,1003))\n",
    "for i in range(len(files)):\n",
    "    icube[i,:,:] = pf.getdata('/Users/aaronresnick/Desktop/CODERepository/FanMtnData/'+files[i])"
   ]
  },
  {
   "cell_type": "code",
   "execution_count": 37,
   "metadata": {
    "collapsed": false
   },
   "outputs": [],
   "source": [
    "z,y,x = icube.shape"
   ]
  },
  {
   "cell_type": "code",
   "execution_count": 38,
   "metadata": {
    "collapsed": false
   },
   "outputs": [
    {
     "data": {
      "text/plain": [
       "[0, 1, 2, 3, 4, 5, 6, 7, 8, 9, 10, 11, 12, 13, 14, 15, 16, 17, 18, 19]"
      ]
     },
     "execution_count": 38,
     "metadata": {},
     "output_type": "execute_result"
    }
   ],
   "source": [
    "shifts = zeros((z))\n",
    "range(z)"
   ]
  },
  {
   "cell_type": "code",
   "execution_count": 39,
   "metadata": {
    "collapsed": false
   },
   "outputs": [],
   "source": [
    "for j in range(z):\n",
    "    cc = ifft2(fft2(icube[4,:,:])*conj(fft2(icube[j,:,:])))\n",
    "    shifts[j] = cc.argmax()\n",
    "    #figure(j)\n",
    "    #imshow(cc.real)"
   ]
  },
  {
   "cell_type": "code",
   "execution_count": 40,
   "metadata": {
    "collapsed": false,
    "scrolled": true
   },
   "outputs": [
    {
     "name": "stdout",
     "output_type": "stream",
     "text": [
      "[  9.54881000e+05   9.77949000e+05   2.20000000e+01   9.96983000e+05\n",
      "   0.00000000e+00   2.00500000e+03   2.00400000e+03   3.00700000e+03\n",
      "   4.00900000e+03   5.01300000e+03   6.01500000e+03   1.20330000e+04\n",
      "   1.40380000e+04   1.90540000e+04   1.80510000e+04   1.80500000e+04\n",
      "   1.50400000e+04   1.40590000e+04   1.40800000e+04   4.01580000e+04]\n"
     ]
    },
    {
     "data": {
      "text/plain": [
       "<matplotlib.image.AxesImage at 0x11842f6d0>"
      ]
     },
     "execution_count": 40,
     "metadata": {},
     "output_type": "execute_result"
    }
   ],
   "source": [
    "print(shifts)\n",
    "imshow(icube[0,:,:])\n",
    "figure(2)\n",
    "imshow(icube[1,:,:])"
   ]
  },
  {
   "cell_type": "code",
   "execution_count": 41,
   "metadata": {
    "collapsed": false
   },
   "outputs": [],
   "source": [
    "yshifts, xshifts = divmod(shifts,x)"
   ]
  },
  {
   "cell_type": "code",
   "execution_count": 42,
   "metadata": {
    "collapsed": false
   },
   "outputs": [],
   "source": [
    "coords = zip(yshifts,xshifts)"
   ]
  },
  {
   "cell_type": "code",
   "execution_count": 43,
   "metadata": {
    "collapsed": false
   },
   "outputs": [
    {
     "data": {
      "text/plain": [
       "[(952.0, 25.0),\n",
       " (975.0, 24.0),\n",
       " (0.0, 22.0),\n",
       " (994.0, 1.0),\n",
       " (0.0, 0.0),\n",
       " (1.0, 1002.0),\n",
       " (1.0, 1001.0),\n",
       " (2.0, 1001.0),\n",
       " (3.0, 1000.0),\n",
       " (4.0, 1001.0),\n",
       " (5.0, 1000.0),\n",
       " (11.0, 1000.0),\n",
       " (13.0, 999.0),\n",
       " (18.0, 1000.0),\n",
       " (17.0, 1000.0),\n",
       " (17.0, 999.0),\n",
       " (14.0, 998.0),\n",
       " (14.0, 17.0),\n",
       " (14.0, 38.0),\n",
       " (40.0, 38.0)]"
      ]
     },
     "execution_count": 43,
     "metadata": {},
     "output_type": "execute_result"
    }
   ],
   "source": [
    "coords"
   ]
  },
  {
   "cell_type": "code",
   "execution_count": 44,
   "metadata": {
    "collapsed": false
   },
   "outputs": [
    {
     "data": {
      "text/plain": [
       "24.0"
      ]
     },
     "execution_count": 44,
     "metadata": {},
     "output_type": "execute_result"
    }
   ],
   "source": [
    "apWidth = 3\n",
    "apHeight = 3\n",
    "coords[1][1]"
   ]
  },
  {
   "cell_type": "code",
   "execution_count": 45,
   "metadata": {
    "collapsed": false
   },
   "outputs": [],
   "source": [
    "#pq.image(icube)"
   ]
  },
  {
   "cell_type": "code",
   "execution_count": 46,
   "metadata": {
    "collapsed": false
   },
   "outputs": [],
   "source": [
    "#REMEMBER TO SUBTRACT MEAN FROM ROBOMAD\n",
    "for j in range(len(coords)):\n",
    "    icube[j,:,:] = roll(roll(icube[j,:,:],int(coords[j][0]),axis=0),int(coords[j][1]),axis=1)"
   ]
  },
  {
   "cell_type": "code",
   "execution_count": 47,
   "metadata": {
    "collapsed": false
   },
   "outputs": [],
   "source": [
    "#pq.image(icube)"
   ]
  },
  {
   "cell_type": "code",
   "execution_count": 48,
   "metadata": {
    "collapsed": false
   },
   "outputs": [],
   "source": [
    "run chzphot_v02"
   ]
  },
  {
   "cell_type": "code",
   "execution_count": 49,
   "metadata": {
    "collapsed": false
   },
   "outputs": [],
   "source": [
    "for i in range(z):\n",
    "    mn,sd = robomad(icube[i,:,:])\n",
    "    icube[i,:,:] -= mn"
   ]
  },
  {
   "cell_type": "code",
   "execution_count": 50,
   "metadata": {
    "collapsed": false
   },
   "outputs": [
    {
     "name": "stdout",
     "output_type": "stream",
     "text": [
      "(20, 995, 1003)\n"
     ]
    }
   ],
   "source": [
    "print(z,y,x)\n",
    "imshow(icube[2,:,:])\n",
    "sigSlice = icube[:,480:497,595:613]\n",
    "#pq.image(sigSlice)"
   ]
  },
  {
   "cell_type": "code",
   "execution_count": 51,
   "metadata": {
    "collapsed": false
   },
   "outputs": [],
   "source": [
    "zs,ys,xs = sigSlice.shape"
   ]
  },
  {
   "cell_type": "code",
   "execution_count": 52,
   "metadata": {
    "collapsed": false
   },
   "outputs": [],
   "source": [
    "sigma = zeros((17,18))\n",
    "for i in range(ys):\n",
    "    for j in range(xs):\n",
    "        m,s = robomad(sigSlice[:,i,j],5.0)\n",
    "        sigma[i,j] = s\n",
    "        "
   ]
  },
  {
   "cell_type": "code",
   "execution_count": 53,
   "metadata": {
    "collapsed": false
   },
   "outputs": [
    {
     "data": {
      "text/plain": [
       "<matplotlib.image.AxesImage at 0x118475c10>"
      ]
     },
     "execution_count": 53,
     "metadata": {},
     "output_type": "execute_result"
    }
   ],
   "source": [
    "imshow(sigma, interpolation = 'nearest')"
   ]
  },
  {
   "cell_type": "code",
   "execution_count": 54,
   "metadata": {
    "collapsed": false
   },
   "outputs": [
    {
     "data": {
      "text/plain": [
       "899.0720222586765"
      ]
     },
     "execution_count": 54,
     "metadata": {},
     "output_type": "execute_result"
    }
   ],
   "source": [
    "sigma.max()"
   ]
  },
  {
   "cell_type": "code",
   "execution_count": 55,
   "metadata": {
    "collapsed": false
   },
   "outputs": [
    {
     "data": {
      "text/plain": [
       "5292.5359120055546"
      ]
     },
     "execution_count": 55,
     "metadata": {},
     "output_type": "execute_result"
    }
   ],
   "source": [
    "sigSlice.max()"
   ]
  },
  {
   "cell_type": "code",
   "execution_count": null,
   "metadata": {
    "collapsed": true
   },
   "outputs": [],
   "source": []
  }
 ],
 "metadata": {
  "kernelspec": {
   "display_name": "Python 2",
   "language": "python",
   "name": "python2"
  },
  "language_info": {
   "codemirror_mode": {
    "name": "ipython",
    "version": 2
   },
   "file_extension": ".py",
   "mimetype": "text/x-python",
   "name": "python",
   "nbconvert_exporter": "python",
   "pygments_lexer": "ipython2",
   "version": "2.7.10"
  }
 },
 "nbformat": 4,
 "nbformat_minor": 0
}
