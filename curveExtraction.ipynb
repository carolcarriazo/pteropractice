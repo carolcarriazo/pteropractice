{
 "cells": [
  {
   "cell_type": "code",
   "execution_count": 184,
   "metadata": {
    "collapsed": false
   },
   "outputs": [
    {
     "name": "stdout",
     "output_type": "stream",
     "text": [
      "Using matplotlib backend: MacOSX\n",
      "Populating the interactive namespace from numpy and matplotlib\n"
     ]
    },
    {
     "name": "stderr",
     "output_type": "stream",
     "text": [
      "WARNING: pylab import has clobbered these variables: ['test']\n",
      "`%matplotlib` prevents importing * from pylab and numpy\n"
     ]
    }
   ],
   "source": [
    "%pylab"
   ]
  },
  {
   "cell_type": "code",
   "execution_count": 185,
   "metadata": {
    "collapsed": false
   },
   "outputs": [],
   "source": [
    "from scipy.signal import medfilt"
   ]
  },
  {
   "cell_type": "code",
   "execution_count": 186,
   "metadata": {
    "collapsed": false
   },
   "outputs": [],
   "source": [
    "run /Users/charliewatson/Gdrive/SWRI/pteropractice/winview_v02.py"
   ]
  },
  {
   "cell_type": "code",
   "execution_count": 187,
   "metadata": {
    "collapsed": true
   },
   "outputs": [],
   "source": [
    "run /Users/charliewatson/Gdrive/SWRI/pteropractice/chzphot_v02.py"
   ]
  },
  {
   "cell_type": "code",
   "execution_count": 188,
   "metadata": {
    "collapsed": false
   },
   "outputs": [
    {
     "name": "stdout",
     "output_type": "stream",
     "text": [
      "xs, ys, numFrames, pixType =  256 256 3800 uint16\n"
     ]
    }
   ],
   "source": [
    "# Loading full set of darks\n",
    "darks = load_spe('/Users/charliewatson/Gdrive/SWRI/occData/20150629UT/20150629UT_35.SPE')"
   ]
  },
  {
   "cell_type": "code",
   "execution_count": 189,
   "metadata": {
    "collapsed": false
   },
   "outputs": [],
   "source": [
    "# Excluding the first frame of the darks, and taking the mean over the z-axis\n",
    "darkM = mean(darks[1:,:,:], axis=0)"
   ]
  },
  {
   "cell_type": "code",
   "execution_count": 190,
   "metadata": {
    "collapsed": false,
    "scrolled": false
   },
   "outputs": [
    {
     "name": "stdout",
     "output_type": "stream",
     "text": [
      "xs, ys, numFrames, pixType =  256 256 3800 uint16\n"
     ]
    }
   ],
   "source": [
    "# Loading occultation data\n",
    "roo = load_spe('/Users/charliewatson/Gdrive/SWRI/occData/20150629UT/20150629UT_34.SPE')"
   ]
  },
  {
   "cell_type": "code",
   "execution_count": 191,
   "metadata": {
    "collapsed": false
   },
   "outputs": [
    {
     "data": {
      "text/plain": [
       "<matplotlib.image.AxesImage at 0x10bcf0850>"
      ]
     },
     "execution_count": 191,
     "metadata": {},
     "output_type": "execute_result"
    }
   ],
   "source": [
    "# Subtracting the darks from the occ data\n",
    "roo = roo - darkM\n",
    "imshow(roo[1,:,:],interpolation='nearest')"
   ]
  },
  {
   "cell_type": "code",
   "execution_count": 192,
   "metadata": {
    "collapsed": false
   },
   "outputs": [
    {
     "name": "stdout",
     "output_type": "stream",
     "text": [
      "xs, ys, numFrames, pixType =  512 512 100 uint16\n"
     ]
    }
   ],
   "source": [
    "# Loading flats\n",
    "flat = load_spe('/Users/charliewatson/Gdrive/SWRI/occData/20150629UT/20150629UT_3.SPE')"
   ]
  },
  {
   "cell_type": "code",
   "execution_count": 193,
   "metadata": {
    "collapsed": false
   },
   "outputs": [],
   "source": [
    "# Taking a subframe of the flats (they were taken at 512x512 originally) and subtracting the darks\n",
    "flat = flat[:,:256,:256] - darkM"
   ]
  },
  {
   "cell_type": "code",
   "execution_count": 194,
   "metadata": {
    "collapsed": true
   },
   "outputs": [],
   "source": [
    "# Taking the mean of the flats along the z-axis\n",
    "flatM = mean(flat, axis=0)"
   ]
  },
  {
   "cell_type": "code",
   "execution_count": 195,
   "metadata": {
    "collapsed": false
   },
   "outputs": [
    {
     "data": {
      "text/plain": [
       "<matplotlib.colorbar.Colorbar instance at 0x10bb8e560>"
      ]
     },
     "execution_count": 195,
     "metadata": {},
     "output_type": "execute_result"
    }
   ],
   "source": [
    "# Normalize the flat using wizardry\n",
    "flat = flatM/median(flatM)\n",
    "imshow(flat,interpolation='nearest')\n",
    "colorbar()"
   ]
  },
  {
   "cell_type": "code",
   "execution_count": 196,
   "metadata": {
    "collapsed": true
   },
   "outputs": [],
   "source": [
    "# Taking the normalized flat out of the data\n",
    "roo = roo/flat"
   ]
  },
  {
   "cell_type": "code",
   "execution_count": 197,
   "metadata": {
    "collapsed": false
   },
   "outputs": [
    {
     "data": {
      "text/plain": [
       "<matplotlib.image.AxesImage at 0x10d68bed0>"
      ]
     },
     "execution_count": 197,
     "metadata": {},
     "output_type": "execute_result"
    }
   ],
   "source": [
    "clf()\n",
    "#imshow(roo[1,:,:], interpolation='nearest')\n",
    "imshow(mean(roo,axis=0), interpolation='nearest')"
   ]
  },
  {
   "cell_type": "code",
   "execution_count": 198,
   "metadata": {
    "collapsed": false
   },
   "outputs": [],
   "source": [
    "xShift = zeros(len(roo))\n",
    "yShift = zeros(len(roo))\n",
    "#for i in range (len(roo)-1):\n",
    "    # use a fast fourier transform to find the cross correlation function for each subsequent frame\n",
    "    #cc_fast = ifft2(fft2(roo[2000,:,:]) * conj(fft2(roo[i])))\n",
    "    # find max indices of cc_fast and add those indices to the shift arrays\n",
    "    #aaron = cc_fast.argmax()\n",
    "    #yShift[i] = aaron // 256\n",
    "    #xShift[i] = aaron % 256"
   ]
  },
  {
   "cell_type": "code",
   "execution_count": 217,
   "metadata": {
    "collapsed": true
   },
   "outputs": [],
   "source": [
    "xg,yg = 49,118\n",
    "xc1,yc1 = zeros(len(roo)),zeros(len(roo))"
   ]
  },
  {
   "cell_type": "code",
   "execution_count": 218,
   "metadata": {
    "collapsed": true
   },
   "outputs": [],
   "source": [
    "for i in range(len(roo)):\n",
    "    x,y = cntrd(roo[i,:,:],10,xg,yg)\n",
    "    xc1[i],yc1[i] = x,y \n",
    "    "
   ]
  },
  {
   "cell_type": "code",
   "execution_count": 219,
   "metadata": {
    "collapsed": false
   },
   "outputs": [],
   "source": [
    "for i in range(len(roo)-1):\n",
    "    xShift[i] = xc1[i+1] - xc1[i]\n",
    "    yShift[i] = yc1[i+1] - yc1[i]"
   ]
  },
  {
   "cell_type": "code",
   "execution_count": 220,
   "metadata": {
    "collapsed": false
   },
   "outputs": [
    {
     "name": "stdout",
     "output_type": "stream",
     "text": [
      "[-0.52539436  0.44631752 -0.25729975 ...,  1.92052524 -1.72979463  0.        ]\n",
      "[-1.83133427  0.03203067 -0.34421095 ...,  1.2933866  -1.43742182  0.        ]\n"
     ]
    }
   ],
   "source": [
    "print(xShift)\n",
    "print(yShift)\n",
    "#print xShift\n",
    "#for i in range (len(roo)-1):\n",
    "    #roo[i+1,:,:] = roll(roo[i+1,:,:],int64(yShift[i]),axis=0)\n",
    "    #roo[i+1,:,:] = roll(roo[i+1,:,:],int64(xShift[i]),axis=1)"
   ]
  },
  {
   "cell_type": "code",
   "execution_count": 221,
   "metadata": {
    "collapsed": false
   },
   "outputs": [],
   "source": [
    "#clf()\n",
    "#imshow(mean(roo,axis=0),interpolation='nearest')"
   ]
  },
  {
   "cell_type": "code",
   "execution_count": 222,
   "metadata": {
    "collapsed": false
   },
   "outputs": [],
   "source": [
    "xc = zeros(len(roo))\n",
    "yc = zeros(len(roo))\n",
    "xg1 = 49\n",
    "yg1 = 118\n",
    "for i in range(len(xShift)):\n",
    "    xc[i] = xg1 + sum(xShift[:i+1])\n",
    "    yc[i] = yg1 + sum(yShift[:i+1])"
   ]
  },
  {
   "cell_type": "code",
   "execution_count": 223,
   "metadata": {
    "collapsed": false
   },
   "outputs": [
    {
     "ename": "SyntaxError",
     "evalue": "EOF while scanning triple-quoted string literal (<ipython-input-223-5cb0fb04f479>, line 14)",
     "output_type": "error",
     "traceback": [
      "\u001b[0;36m  File \u001b[0;32m\"<ipython-input-223-5cb0fb04f479>\"\u001b[0;36m, line \u001b[0;32m14\u001b[0m\n\u001b[0;31m    yc[i+1]=y\u001b[0m\n\u001b[0m              \n^\u001b[0m\n\u001b[0;31mSyntaxError\u001b[0m\u001b[0;31m:\u001b[0m EOF while scanning triple-quoted string literal\n"
     ]
    }
   ],
   "source": [
    "# Use cen\n",
    "# 119,50 first guess\n",
    "#xc[0]=49\n",
    "#yc[0]=118\n",
    "'''\n",
    "for i in range (len(roo)-1):\n",
    "    if i == 0:\n",
    "        x,y=cntrd(roo[i,:,:], 10, xc[0], yc[0])\n",
    "        xc[i+1]=x\n",
    "        yc[i+1]=y\n",
    "    else:\n",
    "        x,y=cntrd(roo[i,:,:], 10, xc[0]+xShift[i], yc[0]+xShift[i])\n",
    "        xc[i+1]=x\n",
    "        yc[i+1]=y "
   ]
  },
  {
   "cell_type": "code",
   "execution_count": 224,
   "metadata": {
    "collapsed": false
   },
   "outputs": [],
   "source": [
    "flux = zeros(len(roo))\n",
    "bgflux = zeros(len(roo))\n",
    "\n",
    "# Use apPhot and some parameters to compute flux and bgflux\n",
    "for i in range (len(roo)):\n",
    "    fx,bfx = apPhot(roo[i,:,:],xc[i],yc[i],10.,14.,18.,28.)\n",
    "    flux[i]=fx\n",
    "    bgflux[i]=bfx"
   ]
  },
  {
   "cell_type": "code",
   "execution_count": 225,
   "metadata": {
    "collapsed": false
   },
   "outputs": [
    {
     "data": {
      "text/plain": [
       "[<matplotlib.lines.Line2D at 0x10dc216d0>]"
      ]
     },
     "execution_count": 225,
     "metadata": {},
     "output_type": "execute_result"
    }
   ],
   "source": [
    "# The light curve! The holy grail\n",
    "clf()\n",
    "figure(2)\n",
    "plot(flux)"
   ]
  },
  {
   "cell_type": "code",
   "execution_count": 227,
   "metadata": {
    "collapsed": false
   },
   "outputs": [
    {
     "data": {
      "text/plain": [
       "[<matplotlib.lines.Line2D at 0x10de8c1d0>]"
      ]
     },
     "execution_count": 227,
     "metadata": {},
     "output_type": "execute_result"
    }
   ],
   "source": [
    "figure(3)\n",
    "clf()\n",
    "plot(yShift)"
   ]
  },
  {
   "cell_type": "code",
   "execution_count": null,
   "metadata": {
    "collapsed": true
   },
   "outputs": [],
   "source": []
  }
 ],
 "metadata": {
  "kernelspec": {
   "display_name": "Python 2",
   "language": "python",
   "name": "python2"
  },
  "language_info": {
   "codemirror_mode": {
    "name": "ipython",
    "version": 2
   },
   "file_extension": ".py",
   "mimetype": "text/x-python",
   "name": "python",
   "nbconvert_exporter": "python",
   "pygments_lexer": "ipython2",
   "version": "2.7.10"
  }
 },
 "nbformat": 4,
 "nbformat_minor": 0
}
