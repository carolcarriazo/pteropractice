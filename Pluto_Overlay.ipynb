{
 "cells": [
  {
   "cell_type": "markdown",
   "metadata": {},
   "source": [
    "#Pluto Overlay on Occultation Star"
   ]
  },
  {
   "cell_type": "code",
   "execution_count": 21,
   "metadata": {
    "collapsed": false
   },
   "outputs": [
    {
     "name": "stdout",
     "output_type": "stream",
     "text": [
      "Using matplotlib backend: MacOSX\n",
      "Populating the interactive namespace from numpy and matplotlib\n"
     ]
    }
   ],
   "source": [
    "%pylab\n",
    "import astropy.io.fits as pf"
   ]
  },
  {
   "cell_type": "code",
   "execution_count": 22,
   "metadata": {
    "collapsed": true
   },
   "outputs": [],
   "source": [
    "PlutoCoords = np.array([[19,2,39.65, -20,38,00.2],\n",
    "                       [19,2,36.68, -20,38,07.4],\n",
    "                       [19,2,33.61, -20,38,14.5],\n",
    "                       [19,2,30.62, -20,38,21.7],\n",
    "                       [19,2,27.53, -20,38,28.8],\n",
    "                       [19,2,24.53, -20,38,36.1],\n",
    "                       [19,2,21.42, -20,38,43.2],\n",
    "                       [19,2,18.40, -20,38,50.6],\n",
    "                       [19,2,15.28, -20,38,57.8],\n",
    "                       [19,2,12.25, -20,39,05.1],\n",
    "                       [19,2,09.12, -20,39,12.4],\n",
    "                       [19,2,06.07, -20,39,19.8],\n",
    "                       [19,2,02.93, -20,39,27.0],\n",
    "                       [19,1,59.87, -20,39,34.5],\n",
    "                       [19,1,56.73, -20,39,41.8],\n",
    "                       [19,1,53.66, -20,39,49.3],\n",
    "                       [19,1,50.50, -20,39,56.6],\n",
    "                       [19,1,47.43, -20,40,04.1],\n",
    "                       [19,1,44.26, -20,40,11.5],\n",
    "                       [19,1,41.18, -20,40,19.1],\n",
    "                       [19,1,38.01, -20,40,26.5],\n",
    "                       [19,1,34.92, -20,40,34.1],\n",
    "                       [19,1,31.75, -20,40,41.5]])"
   ]
  },
  {
   "cell_type": "code",
   "execution_count": 23,
   "metadata": {
    "collapsed": true
   },
   "outputs": [],
   "source": [
    "PCra = PlutoCoords[:,:3]\n",
    "PCdec = PlutoCoords[:,3:]"
   ]
  },
  {
   "cell_type": "code",
   "execution_count": 24,
   "metadata": {
    "collapsed": false
   },
   "outputs": [],
   "source": [
    "def ra2deg(h, m, s):\n",
    "    '''[RAdeg] = ra2deg(rAtuple)\n",
    "    Returns decimal degree form of right ascension RAdeg given rAtuple=(hour, minute, second)\n",
    "    KH, 6/8/15\n",
    "    '''\n",
    "    RAdeg = h*(360./24) + m*(360./(24.*60.)) + s*(360./(24.*60.*60.))\n",
    "    return (RAdeg)    \n",
    "\n",
    "def dec2deg(d, m, s):\n",
    "    '''[DECdeg] = dec2deg(dectuple)\n",
    "    Returns decimal degree form of declination DECdeg given dectuple=(degrees, minutes,\n",
    "    seconds).\n",
    "    KH, 6/8/15\n",
    "    '''\n",
    "    if d < 0:\n",
    "        DECdeg = d - (m/60.) - (s/(60.*60.))\n",
    "    else:\n",
    "        DECdeg = d + (m/60.) + (s/(60.*60.))\n",
    "    return(DECdeg)"
   ]
  },
  {
   "cell_type": "code",
   "execution_count": 25,
   "metadata": {
    "collapsed": false
   },
   "outputs": [],
   "source": [
    "ralist = range(23)\n",
    "RAcoord = []\n",
    "DECcoord = []"
   ]
  },
  {
   "cell_type": "code",
   "execution_count": 26,
   "metadata": {
    "collapsed": false
   },
   "outputs": [
    {
     "name": "stdout",
     "output_type": "stream",
     "text": [
      "[285.66520833333334, 285.65283333333332, 285.64004166666666, 285.62758333333335, 285.61470833333334, 285.60220833333335, 285.58924999999999, 285.57666666666665, 285.56366666666668, 285.55104166666666, 285.53800000000001, 285.52529166666665, 285.51220833333332, 285.49945833333334, 285.48637500000001, 285.47358333333335, 285.46041666666667, 285.44762500000002, 285.43441666666666, 285.42158333333333, 285.40837499999998, 285.39550000000003, 285.38229166666667]\n"
     ]
    }
   ],
   "source": [
    "for i in ralist:\n",
    "    hr = PCra[i,0]\n",
    "    m = PCra[i,1]\n",
    "    s = PCra[i,2]\n",
    "    RAcoord.append(ra2deg(hr,m,s))\n",
    "print (RAcoord)"
   ]
  },
  {
   "cell_type": "code",
   "execution_count": 27,
   "metadata": {
    "collapsed": false
   },
   "outputs": [
    {
     "name": "stdout",
     "output_type": "stream",
     "text": [
      "[-20.633388888888888, -20.635388888888887, -20.637361111111112, -20.639361111111111, -20.641333333333332, -20.643361111111112, -20.645333333333333, -20.647388888888887, -20.64938888888889, -20.651416666666666, -20.653444444444442, -20.6555, -20.657499999999999, -20.65958333333333, -20.66161111111111, -20.663694444444442, -20.665722222222222, -20.667805555555557, -20.669861111111111, -20.671972222222223, -20.674027777777781, -20.67613888888889, -20.678194444444447]\n"
     ]
    }
   ],
   "source": [
    "for i in ralist:\n",
    "    d = PCdec[i,0]\n",
    "    m = PCdec[i,1]\n",
    "    s = PCdec[i,2]\n",
    "    DECcoord.append(dec2deg(d,m,s))\n",
    "print (DECcoord)"
   ]
  },
  {
   "cell_type": "code",
   "execution_count": 28,
   "metadata": {
    "collapsed": false
   },
   "outputs": [
    {
     "name": "stdout",
     "output_type": "stream",
     "text": [
      "[0.46120833333333167, 0.44883333333331166, 0.43604166666665378, 0.42358333333334031, 0.41070833333333212, 0.39820833333334349, 0.38524999999998499, 0.37266666666664605, 0.35966666666666924, 0.34704166666665515, 0.33400000000000318, 0.32129166666663878, 0.30820833333331166, 0.29545833333332894, 0.28237500000000182, 0.26958333333334394, 0.25641666666666652, 0.24362500000000864, 0.23041666666665606, 0.21758333333332303, 0.20437499999997044, 0.1915000000000191, 0.17829166666666652]\n",
      "[0.066611111111111398, 0.064611111111112507, 0.062638888888887578, 0.060638888888888687, 0.058666666666667311, 0.056638888888887351, 0.054666666666665975, 0.052611111111112052, 0.050611111111109608, 0.048583333333333201, 0.046555555555556793, 0.044499999999999318, 0.042500000000000426, 0.040416666666668988, 0.038388888888889028, 0.036305555555557589, 0.034277777777777629, 0.032194444444442638, 0.030138888888888715, 0.028027777777776208, 0.025972222222218733, 0.023861111111109778, 0.021805555555552303]\n"
     ]
    }
   ],
   "source": [
    "pVectorRA = []\n",
    "pVectorDEC = []\n",
    "for i in range(len(RAcoord)):\n",
    "    pVectorRA.append(RAcoord[i]-285.204)\n",
    "    pVectorDEC.append(DECcoord[i]-(-20.70))\n",
    "print (pVectorRA)\n",
    "print (pVectorDEC)"
   ]
  },
  {
   "cell_type": "code",
   "execution_count": null,
   "metadata": {
    "collapsed": true
   },
   "outputs": [],
   "source": []
  }
 ],
 "metadata": {
  "kernelspec": {
   "display_name": "Python 3",
   "language": "python",
   "name": "python3"
  },
  "language_info": {
   "codemirror_mode": {
    "name": "ipython",
    "version": 3
   },
   "file_extension": ".py",
   "mimetype": "text/x-python",
   "name": "python",
   "nbconvert_exporter": "python",
   "pygments_lexer": "ipython3",
   "version": "3.4.3"
  }
 },
 "nbformat": 4,
 "nbformat_minor": 0
}
