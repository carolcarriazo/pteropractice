{
 "cells": [
  {
   "cell_type": "markdown",
   "metadata": {},
   "source": [
    "#Pluto Overlay on Occultation Star"
   ]
  },
  {
   "cell_type": "code",
   "execution_count": 2,
   "metadata": {
    "collapsed": false
   },
   "outputs": [
    {
     "name": "stdout",
     "output_type": "stream",
     "text": [
      "Using matplotlib backend: MacOSX\n",
      "Populating the interactive namespace from numpy and matplotlib\n"
     ]
    }
   ],
   "source": [
    "%pylab\n",
    "import astropy.io.fits as pf"
   ]
  },
  {
   "cell_type": "code",
   "execution_count": 3,
   "metadata": {
    "collapsed": false
   },
   "outputs": [],
   "source": [
    "PlutoCoords = np.array([[19,02,39.65, -20,38,00.2],\n",
    "                       [19,02,36.68, -20,38,07.4],\n",
    "                       [19,02,33.61, -20,38,14.5],\n",
    "                       [19,02,30.62, -20,38,21.7],\n",
    "                       [19,02,27.53, -20,38,28.8],\n",
    "                       [19,02,24.53, -20,38,36.1],\n",
    "                       [19,02,21.42, -20,38,43.2],\n",
    "                       [19,02,18.40, -20,38,50.6],\n",
    "                       [19,02,15.28, -20,38,57.8],\n",
    "                       [19,02,12.25, -20,39,05.1],\n",
    "                       [19,02,09.12, -20,39,12.4],\n",
    "                       [19,02,06.07, -20,39,19.8],\n",
    "                       [19,02,02.93, -20,39,27.0],\n",
    "                       [19,01,59.87, -20,39,34.5],\n",
    "                       [19,01,56.73, -20,39,41.8],\n",
    "                       [19,01,53.66, -20,39,49.3],\n",
    "                       [19,01,50.50, -20,39,56.6],\n",
    "                       [19,01,47.43, -20,40,04.1],\n",
    "                       [19,01,44.26, -20,40,11.5],\n",
    "                       [19,01,41.18, -20,40,19.1],\n",
    "                       [19,01,38.01, -20,40,26.5],\n",
    "                       [19,01,34.92, -20,40,34.1],\n",
    "                       [19,01,31.75, -20,40,41.5]])"
   ]
  },
  {
   "cell_type": "code",
   "execution_count": 41,
   "metadata": {
    "collapsed": true
   },
   "outputs": [],
   "source": [
    "PCra = PlutoCoords[:,:3]\n",
    "PCdec = PlutoCoords[:,3:]"
   ]
  },
  {
   "cell_type": "code",
   "execution_count": 42,
   "metadata": {
    "collapsed": false
   },
   "outputs": [],
   "source": [
    "def ra2deg(h, m, s):\n",
    "    '''[RAdeg] = ra2deg(rAtuple)\n",
    "    Returns decimal degree form of right ascension RAdeg given rAtuple=(hour, minute, second)\n",
    "    KH, 6/8/15\n",
    "    '''\n",
    "    RAdeg = h*(360./24) + m*(360./(24.*60.)) + s*(360./(24.*60.*60.))\n",
    "    return (RAdeg)    \n",
    "\n",
    "def dec2deg(d, m, s):\n",
    "    '''[DECdeg] = dec2deg(dectuple)\n",
    "    Returns decimal degree form of declination DECdeg given dectuple=(degrees, minutes,\n",
    "    seconds).\n",
    "    KH, 6/8/15\n",
    "    '''\n",
    "    if d < 0:\n",
    "        DECdeg = d - (m/60.) - (s/(60.*60.))\n",
    "    else:\n",
    "        DECdeg = d + (m/60.) + (s/(60.*60.))\n",
    "    return(DECdeg)"
   ]
  },
  {
   "cell_type": "code",
   "execution_count": 43,
   "metadata": {
    "collapsed": false
   },
   "outputs": [],
   "source": [
    "ralist = range(23)\n",
    "RAcoord = []\n",
    "DECcoord = []"
   ]
  },
  {
   "cell_type": "code",
   "execution_count": 44,
   "metadata": {
    "collapsed": false
   },
   "outputs": [],
   "source": [
    "for i in ralist:\n",
    "    hr = PCra[i,0]\n",
    "    m = PCra[i,1]\n",
    "    s = PCra[i,2]\n",
    "    RAcoord.append(ra2deg(hr,m,s))"
   ]
  },
  {
   "cell_type": "code",
   "execution_count": 45,
   "metadata": {
    "collapsed": false
   },
   "outputs": [],
   "source": [
    "for i in ralist:\n",
    "    d = PCdec[i,0]\n",
    "    m = PCdec[i,1]\n",
    "    s = PCdec[i,2]\n",
    "    DECcoord.append(dec2deg(d,m,s))"
   ]
  },
  {
   "cell_type": "code",
   "execution_count": 46,
   "metadata": {
    "collapsed": false
   },
   "outputs": [],
   "source": [
    "pVectorRA = []\n",
    "pVectorDEC = []\n",
    "for i in range(len(RAcoord)):\n",
    "    pVectorRA.append(RAcoord[i] - 285.204)\n",
    "    pVectorDEC.append(DECcoord[i] - (-20.70))"
   ]
  },
  {
   "cell_type": "code",
   "execution_count": 57,
   "metadata": {
    "collapsed": false
   },
   "outputs": [
    {
     "data": {
      "text/plain": [
       "[(0.066611111111111398, 0.46120833333333167),\n",
       " (0.064611111111112507, 0.44883333333331166),\n",
       " (0.062638888888887578, 0.43604166666665378),\n",
       " (0.060638888888888687, 0.42358333333334031),\n",
       " (0.058666666666667311, 0.41070833333333212),\n",
       " (0.056638888888887351, 0.39820833333334349),\n",
       " (0.054666666666665975, 0.38524999999998499),\n",
       " (0.052611111111112052, 0.37266666666664605),\n",
       " (0.050611111111109608, 0.35966666666666924),\n",
       " (0.048583333333333201, 0.34704166666665515),\n",
       " (0.046555555555556793, 0.33400000000000318),\n",
       " (0.044499999999999318, 0.32129166666663878),\n",
       " (0.042500000000000426, 0.30820833333331166),\n",
       " (0.040416666666668988, 0.29545833333332894),\n",
       " (0.038388888888889028, 0.28237500000000182),\n",
       " (0.036305555555557589, 0.26958333333334394),\n",
       " (0.034277777777777629, 0.25641666666666652),\n",
       " (0.032194444444442638, 0.24362500000000864),\n",
       " (0.030138888888888715, 0.23041666666665606),\n",
       " (0.028027777777776208, 0.21758333333332303),\n",
       " (0.025972222222218733, 0.20437499999997044),\n",
       " (0.023861111111109778, 0.1915000000000191),\n",
       " (0.021805555555552303, 0.17829166666666652)]"
      ]
     },
     "execution_count": 57,
     "metadata": {},
     "output_type": "execute_result"
    }
   ],
   "source": [
    "zip(pVectorDEC,pVectorRA)"
   ]
  },
  {
   "cell_type": "code",
   "execution_count": 47,
   "metadata": {
    "collapsed": true
   },
   "outputs": [],
   "source": [
    "d = pf.getdata('new-image.fits')"
   ]
  },
  {
   "cell_type": "code",
   "execution_count": 58,
   "metadata": {
    "collapsed": false
   },
   "outputs": [
    {
     "name": "stdout",
     "output_type": "stream",
     "text": [
      "[[13 13 12 ..., 14 13 11]\n",
      " [15 13 13 ..., 13 14 13]\n",
      " [13 11 12 ..., 12 13 13]\n",
      " ..., \n",
      " [12 11 12 ..., 12 12 13]\n",
      " [12 12 13 ..., 13 12 11]\n",
      " [11 13 13 ..., 13 13 14]]\n"
     ]
    }
   ],
   "source": []
  },
  {
   "cell_type": "code",
   "execution_count": null,
   "metadata": {
    "collapsed": true
   },
   "outputs": [],
   "source": []
  }
 ],
 "metadata": {
  "kernelspec": {
   "display_name": "Python 2",
   "language": "python",
   "name": "python2"
  },
  "language_info": {
   "codemirror_mode": {
    "name": "ipython",
    "version": 2
   },
   "file_extension": ".py",
   "mimetype": "text/x-python",
   "name": "python",
   "nbconvert_exporter": "python",
   "pygments_lexer": "ipython2",
   "version": "2.7.10"
  }
 },
 "nbformat": 4,
 "nbformat_minor": 0
}
