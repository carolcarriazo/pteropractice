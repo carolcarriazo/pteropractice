{
 "cells": [
  {
   "cell_type": "markdown",
   "metadata": {},
   "source": [
    "#Pluto Overlay on Occultation Star"
   ]
  },
  {
   "cell_type": "code",
   "execution_count": 9,
   "metadata": {
    "collapsed": false
   },
   "outputs": [
    {
     "name": "stdout",
     "output_type": "stream",
     "text": [
      "Using matplotlib backend: MacOSX\n",
      "Populating the interactive namespace from numpy and matplotlib\n"
     ]
    }
   ],
   "source": [
    "%pylab\n",
    "import astropy.io.fits as pf"
   ]
  },
  {
   "cell_type": "code",
   "execution_count": 10,
   "metadata": {
    "collapsed": false
   },
   "outputs": [],
   "source": [
    "# June 21st to July 2nd, every 12 hours\n",
    "PlutoCoords = np.array([[19,02,39.65, -20,38,00.2],\n",
    "                       [19,02,36.68, -20,38,07.4],\n",
    "                       [19,02,33.61, -20,38,14.5],\n",
    "                       [19,02,30.62, -20,38,21.7],\n",
    "                       [19,02,27.53, -20,38,28.8],\n",
    "                       [19,02,24.53, -20,38,36.1],\n",
    "                       [19,02,21.42, -20,38,43.2],\n",
    "                       [19,02,18.40, -20,38,50.6],\n",
    "                       [19,02,15.28, -20,38,57.8],\n",
    "                       [19,02,12.25, -20,39,05.1],\n",
    "                       [19,02,09.12, -20,39,12.4],\n",
    "                       [19,02,06.07, -20,39,19.8],\n",
    "                       [19,02,02.93, -20,39,27.0],\n",
    "                       [19,01,59.87, -20,39,34.5],\n",
    "                       [19,01,56.73, -20,39,41.8],\n",
    "                       [19,01,53.66, -20,39,49.3],\n",
    "                       [19,01,50.50, -20,39,56.6],\n",
    "                       [19,01,47.43, -20,40,04.1],\n",
    "                       [19,01,44.26, -20,40,11.5],\n",
    "                       [19,01,41.18, -20,40,19.1],\n",
    "                       [19,01,38.01, -20,40,26.5],\n",
    "                       [19,01,34.92, -20,40,34.1],\n",
    "                       [19,01,31.75, -20,40,41.5]]) "
   ]
  },
  {
   "cell_type": "code",
   "execution_count": 11,
   "metadata": {
    "collapsed": true
   },
   "outputs": [],
   "source": [
    "PCra = PlutoCoords[:,:3]\n",
    "PCdec = PlutoCoords[:,3:]"
   ]
  },
  {
   "cell_type": "code",
   "execution_count": 12,
   "metadata": {
    "collapsed": false
   },
   "outputs": [],
   "source": [
    "def ra2deg(h, m, s):\n",
    "    '''[RAdeg] = ra2deg(rAtuple)\n",
    "    Returns decimal degree form of right ascension RAdeg given rAtuple=(hour, minute, second)\n",
    "    KH, 6/8/15\n",
    "    '''\n",
    "    RAdeg = h*(360./24) + m*(360./(24.*60.)) + s*(360./(24.*60.*60.))\n",
    "    return (RAdeg)    \n",
    "\n",
    "def dec2deg(d, m, s):\n",
    "    '''[DECdeg] = dec2deg(dectuple)\n",
    "    Returns decimal degree form of declination DECdeg given dectuple=(degrees, minutes,\n",
    "    seconds).\n",
    "    KH, 6/8/15\n",
    "    '''\n",
    "    if d < 0:\n",
    "        DECdeg = d - (m/60.) - (s/(60.*60.))\n",
    "    else:\n",
    "        DECdeg = d + (m/60.) + (s/(60.*60.))\n",
    "    return(DECdeg)"
   ]
  },
  {
   "cell_type": "code",
   "execution_count": 13,
   "metadata": {
    "collapsed": false
   },
   "outputs": [],
   "source": [
    "ralist = range(23)\n",
    "RAcoord = []\n",
    "DECcoord = []"
   ]
  },
  {
   "cell_type": "code",
   "execution_count": 14,
   "metadata": {
    "collapsed": false
   },
   "outputs": [],
   "source": [
    "for i in ralist:\n",
    "    hr = PCra[i,0]\n",
    "    m = PCra[i,1]\n",
    "    s = PCra[i,2]\n",
    "    RAcoord.append(ra2deg(hr,m,s))"
   ]
  },
  {
   "cell_type": "code",
   "execution_count": 15,
   "metadata": {
    "collapsed": false
   },
   "outputs": [],
   "source": [
    "for i in ralist:\n",
    "    d = PCdec[i,0]\n",
    "    m = PCdec[i,1]\n",
    "    s = PCdec[i,2]\n",
    "    DECcoord.append(dec2deg(d,m,s))"
   ]
  },
  {
   "cell_type": "code",
   "execution_count": 16,
   "metadata": {
    "collapsed": false
   },
   "outputs": [
    {
     "name": "stdout",
     "output_type": "stream",
     "text": [
      "(285.66520833333334, -20.633388888888888)\n"
     ]
    }
   ],
   "source": [
    "print(RAcoord[0], DECcoord[0]) #\n",
    "#pVectorRA = []\n",
    "#pVectorDEC = []\n",
    "#for i in range(len(RAcoord)):\n",
    "#    pVectorRA.append(RAcoord[i] - 285.204)\n",
    "#    pVectorDEC.append(DECcoord[i] - (-20.70))"
   ]
  },
  {
   "cell_type": "code",
   "execution_count": 21,
   "metadata": {
    "collapsed": false
   },
   "outputs": [],
   "source": [
    "# Converts degrees to pixels \n",
    "def convert(R1, R2, D1, D2, x1, x2, y1, y2):\n",
    "    A1 = np.array([[R1, 1.], [R2, 1.]])\n",
    "    b1 = np.array([[x1],[x2]])\n",
    "    A2 = np.array([[D1, 1.], [D2, 1.]])\n",
    "    b2 = np.array([[y1], [y2]])\n",
    "    x1 = numpy.linalg.solve(A1, b1)\n",
    "    x2 = numpy.linalg.solve(A2, b2)    \n",
    "    mx = x1[0]\n",
    "    bx = x1[1]\n",
    "    my = x2[0]\n",
    "    by = x2[1]\n",
    "    return(mx, bx, my, by)\n",
    "\n",
    "def getxy(RA, DEC, (mx, bx, my, by)):\n",
    "    xp = float(mx*RA + bx)\n",
    "    yp = float(my*DEC + by)\n",
    "    return xp, yp"
   ]
  },
  {
   "cell_type": "code",
   "execution_count": 22,
   "metadata": {
    "collapsed": false
   },
   "outputs": [],
   "source": [
    "#d = pf.getdata('/Users/aaronresnick/Desktop/CODERepository/new-image.fits')"
   ]
  },
  {
   "cell_type": "code",
   "execution_count": 23,
   "metadata": {
    "collapsed": false
   },
   "outputs": [],
   "source": [
    "#xc,yc = d.shape\n",
    "#xc = (xc//2) + 1\n",
    "#yc = (yc//2) + 1"
   ]
  },
  {
   "cell_type": "code",
   "execution_count": 24,
   "metadata": {
    "collapsed": false
   },
   "outputs": [],
   "source": [
    "pPixels = []\n",
    "convFactors = convert(285.206161, -20.694613, 285.257704, -20.679752, 181.173, 181.774, 7.579, 235.230)\n",
    "for i in range(len(RAcoord)):\n",
    "    pPixels.append(getxy(RAcoord[i],DECcoord[i],convFactors))\n",
    "    "
   ]
  },
  {
   "cell_type": "code",
   "execution_count": 25,
   "metadata": {
    "collapsed": false
   },
   "outputs": [
    {
     "name": "stdout",
     "output_type": "stream",
     "text": [
      "[(181.1720981145823, 235.19550076363464), (181.1721224276133, 235.19698898284767), (181.17214755926486, 235.19845653234938), (181.17217203602, 235.1999447515624), (181.17219733139567, 235.20141230106412), (181.17222189001282, 235.20292118998844), (181.17224734911264, 235.20438873949016), (181.1722720714539, 235.20591829812577), (181.17229761241578, 235.20740651733877), (181.1723224166191, 235.2089154062631), (181.17234803944302, 235.21042429518738), (181.17237300737048, 235.211953853823), (181.17239871205643, 235.213442073036), (181.17242376184595, 235.2149923013829), (181.17244946653193, 235.21650119030718), (181.1724745981835, 235.21805141865408), (181.17250046659356, 235.21956030757838), (181.17252559824513, 235.22111053592528), (181.17255154851728, 235.2226400945609), (181.1725767620309, 235.22421099261905), (181.17260271230305, 235.22574055125466), (181.17262800767872, 235.22731144931285), (181.17265395795087, 235.22884100794843)]\n"
     ]
    }
   ],
   "source": [
    "print pPixels"
   ]
  },
  {
   "cell_type": "code",
   "execution_count": null,
   "metadata": {
    "collapsed": true
   },
   "outputs": [],
   "source": []
  }
 ],
 "metadata": {
  "kernelspec": {
   "display_name": "Python 2",
   "language": "python",
   "name": "python2"
  },
  "language_info": {
   "codemirror_mode": {
    "name": "ipython",
    "version": 2
   },
   "file_extension": ".py",
   "mimetype": "text/x-python",
   "name": "python",
   "nbconvert_exporter": "python",
   "pygments_lexer": "ipython2",
   "version": "2.7.9"
  }
 },
 "nbformat": 4,
 "nbformat_minor": 0
}
