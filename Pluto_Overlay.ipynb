{
 "cells": [
  {
   "cell_type": "markdown",
   "metadata": {},
   "source": [
    "#Pluto Overlay on Occultation Star"
   ]
  },
  {
   "cell_type": "code",
   "execution_count": 9,
   "metadata": {
    "collapsed": false
   },
   "outputs": [
    {
     "name": "stdout",
     "output_type": "stream",
     "text": [
      "Using matplotlib backend: MacOSX\n",
      "Populating the interactive namespace from numpy and matplotlib\n"
     ]
    }
   ],
   "source": [
    "%pylab\n",
    "import astropy.io.fits as pf"
   ]
  },
  {
   "cell_type": "code",
   "execution_count": 42,
   "metadata": {
    "collapsed": false
   },
   "outputs": [],
   "source": [
    "# June 21st to July 2nd, every 12 hours\n",
    "PlutoCoords = loadtxt('pluto_positions.txt', dtype='float', skiprows=2)"
   ]
  },
  {
   "cell_type": "code",
   "execution_count": 43,
   "metadata": {
    "collapsed": false
   },
   "outputs": [
    {
     "data": {
      "text/plain": [
       "array([[ 19.  ,   1.  ,  43.15, -20.  ,  39.  ,  34.8 ],\n",
       "       [ 19.  ,   1.  ,  40.14, -20.  ,  39.  ,  42.  ],\n",
       "       [ 19.  ,   1.  ,  37.09, -20.  ,  39.  ,  48.9 ],\n",
       "       [ 19.  ,   1.  ,  34.06, -20.  ,  39.  ,  56.2 ],\n",
       "       [ 19.  ,   1.  ,  31.  , -20.  ,  40.  ,   3.2 ],\n",
       "       [ 19.  ,   1.  ,  27.96, -20.  ,  40.  ,  10.5 ],\n",
       "       [ 19.  ,   1.  ,  24.88, -20.  ,  40.  ,  17.5 ],\n",
       "       [ 19.  ,   1.  ,  21.82, -20.  ,  40.  ,  24.8 ],\n",
       "       [ 19.  ,   1.  ,  18.73, -20.  ,  40.  ,  31.9 ],\n",
       "       [ 19.  ,   1.  ,  15.65, -20.  ,  40.  ,  39.3 ],\n",
       "       [ 19.  ,   1.  ,  12.55, -20.  ,  40.  ,  46.4 ],\n",
       "       [ 19.  ,   1.  ,   9.46, -20.  ,  40.  ,  53.8 ],\n",
       "       [ 19.  ,   1.  ,   6.35, -20.  ,  41.  ,   1.  ],\n",
       "       [ 19.  ,   1.  ,   3.25, -20.  ,  41.  ,   8.4 ],\n",
       "       [ 19.  ,   1.  ,   0.13, -20.  ,  41.  ,  15.6 ],\n",
       "       [ 19.  ,   0.  ,  57.01, -20.  ,  41.  ,  23.2 ],\n",
       "       [ 19.  ,   0.  ,  53.88, -20.  ,  41.  ,  30.4 ],\n",
       "       [ 19.  ,   0.  ,  50.76, -20.  ,  41.  ,  37.9 ],\n",
       "       [ 19.  ,   0.  ,  47.62, -20.  ,  41.  ,  45.2 ],\n",
       "       [ 19.  ,   0.  ,  44.5 , -20.  ,  41.  ,  52.8 ],\n",
       "       [ 19.  ,   0.  ,  41.35, -20.  ,  42.  ,   0.1 ],\n",
       "       [ 19.  ,   0.  ,  38.21, -20.  ,  42.  ,   7.7 ],\n",
       "       [ 19.  ,   0.  ,  35.06, -20.  ,  42.  ,  15.1 ]])"
      ]
     },
     "execution_count": 43,
     "metadata": {},
     "output_type": "execute_result"
    }
   ],
   "source": [
    "PlutoCoords"
   ]
  },
  {
   "cell_type": "code",
   "execution_count": 29,
   "metadata": {
    "collapsed": true
   },
   "outputs": [],
   "source": [
    "PCra = PlutoCoords[:,:3]\n",
    "PCdec = PlutoCoords[:,3:]"
   ]
  },
  {
   "cell_type": "code",
   "execution_count": 30,
   "metadata": {
    "collapsed": false
   },
   "outputs": [],
   "source": [
    "def ra2deg(h, m, s):\n",
    "    '''[RAdeg] = ra2deg(rAtuple)\n",
    "    Returns decimal degree form of right ascension RAdeg given rAtuple=(hour, minute, second)\n",
    "    KH, 6/8/15\n",
    "    '''\n",
    "    RAdeg = h*(360./24) + m*(360./(24.*60.)) + s*(360./(24.*60.*60.))\n",
    "    return (RAdeg)    \n",
    "\n",
    "def dec2deg(d, m, s):\n",
    "    '''[DECdeg] = dec2deg(dectuple)\n",
    "    Returns decimal degree form of declination DECdeg given dectuple=(degrees, minutes,\n",
    "    seconds).\n",
    "    KH, 6/8/15\n",
    "    '''\n",
    "    if d < 0:\n",
    "        DECdeg = d - (m/60.) - (s/(60.*60.))\n",
    "    else:\n",
    "        DECdeg = d + (m/60.) + (s/(60.*60.))\n",
    "    return(DECdeg)"
   ]
  },
  {
   "cell_type": "code",
   "execution_count": 31,
   "metadata": {
    "collapsed": false
   },
   "outputs": [],
   "source": [
    "ralist = range(23)\n",
    "RAcoord = []\n",
    "DECcoord = []"
   ]
  },
  {
   "cell_type": "code",
   "execution_count": 32,
   "metadata": {
    "collapsed": false
   },
   "outputs": [],
   "source": [
    "for i in ralist:\n",
    "    hr = PCra[i,0]\n",
    "    m = PCra[i,1]\n",
    "    s = PCra[i,2]\n",
    "    RAcoord.append(ra2deg(hr,m,s))"
   ]
  },
  {
   "cell_type": "code",
   "execution_count": 33,
   "metadata": {
    "collapsed": false
   },
   "outputs": [],
   "source": [
    "for i in ralist:\n",
    "    d = PCdec[i,0]\n",
    "    m = PCdec[i,1]\n",
    "    s = PCdec[i,2]\n",
    "    DECcoord.append(dec2deg(d,m,s))"
   ]
  },
  {
   "cell_type": "code",
   "execution_count": 34,
   "metadata": {
    "collapsed": false
   },
   "outputs": [
    {
     "name": "stdout",
     "output_type": "stream",
     "text": [
      "(285.42979166666669, -20.659666666666666)\n"
     ]
    }
   ],
   "source": [
    "print(RAcoord[0], DECcoord[0]) #\n",
    "#pVectorRA = []\n",
    "#pVectorDEC = []\n",
    "#for i in range(len(RAcoord)):\n",
    "#    pVectorRA.append(RAcoord[i] - 285.204)\n",
    "#    pVectorDEC.append(DECcoord[i] - (-20.70))"
   ]
  },
  {
   "cell_type": "code",
   "execution_count": 35,
   "metadata": {
    "collapsed": false
   },
   "outputs": [],
   "source": [
    "# Converts degrees to pixels \n",
    "def convert(R1, R2, D1, D2, x1, x2, y1, y2):\n",
    "    A1 = np.array([[R1, 1.], [R2, 1.]])\n",
    "    b1 = np.array([[x1],[x2]])\n",
    "    A2 = np.array([[D1, 1.], [D2, 1.]])\n",
    "    b2 = np.array([[y1], [y2]])\n",
    "    x1 = numpy.linalg.solve(A1, b1)\n",
    "    x2 = numpy.linalg.solve(A2, b2)    \n",
    "    mx = x1[0]\n",
    "    bx = x1[1]\n",
    "    my = x2[0]\n",
    "    by = x2[1]\n",
    "    return(mx, bx, my, by)\n",
    "\n",
    "def getxy(RA, DEC, (mx, bx, my, by)):\n",
    "    xp = float(mx*RA + bx)\n",
    "    yp = float(my*DEC + by)\n",
    "    return xp, yp"
   ]
  },
  {
   "cell_type": "code",
   "execution_count": 36,
   "metadata": {
    "collapsed": false
   },
   "outputs": [],
   "source": [
    "#d = pf.getdata('/Users/aaronresnick/Desktop/CODERepository/new-image.fits')"
   ]
  },
  {
   "cell_type": "code",
   "execution_count": 37,
   "metadata": {
    "collapsed": false
   },
   "outputs": [],
   "source": [
    "#xc,yc = d.shape\n",
    "#xc = (xc//2) + 1\n",
    "#yc = (yc//2) + 1"
   ]
  },
  {
   "cell_type": "code",
   "execution_count": 40,
   "metadata": {
    "collapsed": false
   },
   "outputs": [],
   "source": [
    "pPixels = []\n",
    "convFactors = convert(285.206161, 285.257704, -20.694613, -20.679752, 181.173, 7.579, 181.774, 235.230)\n",
    "for i in range(len(RAcoord)):\n",
    "    pPixels.append(getxy(RAcoord[i],DECcoord[i],convFactors))\n",
    "    "
   ]
  },
  {
   "cell_type": "code",
   "execution_count": 41,
   "metadata": {
    "collapsed": false
   },
   "outputs": [
    {
     "name": "stdout",
     "output_type": "stream",
     "text": [
      "[(-572.0028327871114, 307.478272570268), (-529.7631866016891, 300.28414027768304), (-486.96221621439327, 293.3897634973109), (-444.4419079280924, 286.09571270066954), (-401.50060649053194, 279.1014174162119), (-358.8399671536172, 271.807366619556), (-315.61800361506175, 264.8130713351129), (-272.6767021775013, 257.5190205384715), (-229.31440758844838, 250.42480674994295), (-186.09244404989295, 243.03083744924515), (-142.5898184105754, 235.93662366074568), (-99.2275238216389, 228.54265436003334), (-55.58456713159103, 221.34852206744836), (-12.081941492040642, 213.95455276675057), (31.70134624815546, 206.76042047416558), (75.48463398846798, 199.16661416534043), (119.40825277939439, 191.97248187277), (163.1915405197069, 184.47859406800126), (207.25549036089797, 177.18454327135987), (251.0387781013269, 169.59073696252017), (295.243058992899, 162.29668616589333), (339.3070088343229, 154.70287985705363), (383.51128972601146, 147.30891055635584)]\n"
     ]
    }
   ],
   "source": [
    "print pPixels"
   ]
  },
  {
   "cell_type": "code",
   "execution_count": null,
   "metadata": {
    "collapsed": true
   },
   "outputs": [],
   "source": []
  }
 ],
 "metadata": {
  "kernelspec": {
   "display_name": "Python 2",
   "language": "python",
   "name": "python2"
  },
  "language_info": {
   "codemirror_mode": {
    "name": "ipython",
    "version": 2
   },
   "file_extension": ".py",
   "mimetype": "text/x-python",
   "name": "python",
   "nbconvert_exporter": "python",
   "pygments_lexer": "ipython2",
   "version": "2.7.9"
  }
 },
 "nbformat": 4,
 "nbformat_minor": 0
}
