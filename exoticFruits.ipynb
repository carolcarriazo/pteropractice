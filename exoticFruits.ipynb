{
 "cells": [
  {
   "cell_type": "code",
   "execution_count": 152,
   "metadata": {
    "collapsed": false
   },
   "outputs": [
    {
     "name": "stdout",
     "output_type": "stream",
     "text": [
      "Using matplotlib backend: MacOSX\n",
      "Populating the interactive namespace from numpy and matplotlib\n"
     ]
    },
    {
     "name": "stderr",
     "output_type": "stream",
     "text": [
      "WARNING: pylab import has clobbered these variables: ['f']\n",
      "`%matplotlib` prevents importing * from pylab and numpy\n"
     ]
    }
   ],
   "source": [
    "%pylab"
   ]
  },
  {
   "cell_type": "code",
   "execution_count": 153,
   "metadata": {
    "collapsed": false
   },
   "outputs": [],
   "source": [
    "import astropy.io.fits as pf"
   ]
  },
  {
   "cell_type": "code",
   "execution_count": 154,
   "metadata": {
    "collapsed": true
   },
   "outputs": [],
   "source": [
    "import pyqtgraph as pq"
   ]
  },
  {
   "cell_type": "code",
   "execution_count": 155,
   "metadata": {
    "collapsed": true
   },
   "outputs": [],
   "source": [
    "run /Users/aaronresnick/Desktop/CODERepository/pteropractice/CHZPHOTNINOX.py"
   ]
  },
  {
   "cell_type": "code",
   "execution_count": 156,
   "metadata": {
    "collapsed": false
   },
   "outputs": [],
   "source": [
    "run /Users/aaronresnick/Desktop/CODERepository/stats.py"
   ]
  },
  {
   "cell_type": "markdown",
   "metadata": {
    "collapsed": false
   },
   "source": [
    "#load in selected darks\n",
    "dlist = ((28,112,144,171,248,354,393,468,585,704,806))\n",
    "dks = zeros((11,512,640))\n",
    "for i in range(len(dlist)):\n",
    "    num = str(dlist[i])\n",
    "    dks[i,:,:] = pf.getdata('/Users/aaronresnick/Desktop/Ninox/Ninox/NinoxOccultation'+str(num.zfill(4))+'.fits')"
   ]
  },
  {
   "cell_type": "markdown",
   "metadata": {
    "collapsed": false
   },
   "source": [
    "#load in flats\n",
    "flats = zeros((150,512,640))\n",
    "for i in range(len(flats)):\n",
    "    num = str(i)\n",
    "    flats[i,:,:] = pf.getdata('/Users/aaronresnick/Desktop/Ninox/Ninox/NinoxFlatOneSecond'+str(num.zfill(3))+'.fits')"
   ]
  },
  {
   "cell_type": "markdown",
   "metadata": {
    "collapsed": true
   },
   "source": [
    "#load in flats\n",
    "rawd = zeros((850,512,640))\n",
    "for i in range(len(rawd)):\n",
    "    num = str(i)\n",
    "    rawd[i,:,:] = pf.getdata('/Users/aaronresnick/Desktop/Ninox/Ninox/NinoxOccultation'+str(num.zfill(4))+'.fits')"
   ]
  },
  {
   "cell_type": "markdown",
   "metadata": {},
   "source": [
    "rawd = rawd[:,40:,:590]\n",
    "flats = flats[:,40:,:590]\n",
    "dks = dks[:,40:,:590]"
   ]
  },
  {
   "cell_type": "markdown",
   "metadata": {},
   "source": [
    "#compare = median(flats[90:150,:,:],axis = 0) - median(flats[20:80,:,:],axis = 0)\n",
    "#print(mean(compare,axis = 0))"
   ]
  },
  {
   "cell_type": "markdown",
   "metadata": {},
   "source": [
    "masterflat = mean(flats[20:80,:,:],3,axis = 0) - mean(flats[90:150,:,:],3,axis = 0)"
   ]
  },
  {
   "cell_type": "markdown",
   "metadata": {},
   "source": [
    "masterflatb = copy(masterflat)"
   ]
  },
  {
   "cell_type": "markdown",
   "metadata": {},
   "source": [
    "masterflatb.shape"
   ]
  },
  {
   "cell_type": "markdown",
   "metadata": {},
   "source": [
    "masterflatb = masterflatb[1:471,1:589]"
   ]
  },
  {
   "cell_type": "markdown",
   "metadata": {},
   "source": [
    "masterflatb.shape"
   ]
  },
  {
   "cell_type": "markdown",
   "metadata": {},
   "source": [
    "masterflatb"
   ]
  },
  {
   "cell_type": "markdown",
   "metadata": {},
   "source": [
    "masterflatb = 1.0*masterflatb/(1.0*mean(masterflatb,3))"
   ]
  },
  {
   "cell_type": "markdown",
   "metadata": {},
   "source": [
    "pf.writeto('masterflatb.fits',masterflatb,clobber=True)\n",
    "masterflatb"
   ]
  },
  {
   "cell_type": "markdown",
   "metadata": {
    "collapsed": false
   },
   "source": [
    "meds = []\n",
    "for i in range(len(dks)):\n",
    "    meds.append(median(dks[i,:,:]))\n",
    "    dks[i,:,:] = dks[i,:,:] - median(dks[i,:,:])\n",
    "dks = median(dks,axis = 0) + median(meds)      \n",
    "pf.writeto('dks.fits',dks,clobber=True)"
   ]
  },
  {
   "cell_type": "markdown",
   "metadata": {
    "collapsed": false
   },
   "source": [
    "data = 1.0*rawd - 1.0*dks\n",
    "#data = 1.0*data/(1.0*masterflat)\n",
    "data = data[600:,:,:]\n",
    "#for i in range(len(data)):\n",
    "#    for j in range(len(data[1,1,:])):\n",
    "#         print(median(data[i,:,j]))"
   ]
  },
  {
   "cell_type": "markdown",
   "metadata": {
    "collapsed": false
   },
   "source": [
    "dkmn,dkstd,rmn,rstd,dmn,dstd"
   ]
  },
  {
   "cell_type": "code",
   "execution_count": 157,
   "metadata": {
    "collapsed": true
   },
   "outputs": [],
   "source": [
    "#for i in range(len(data)):\n",
    "#    for j in range(len(data[1,1,:])):\n",
    "#        if 1.0*mean(data[i,:,j],5) == 0:\n",
    "#            print('zero')\n",
    "#        data[i,:,j] = (1.0*data[i,:,j])/(1.0*mean(data[i,:,j],5))"
   ]
  },
  {
   "cell_type": "code",
   "execution_count": 158,
   "metadata": {
    "collapsed": false
   },
   "outputs": [],
   "source": [
    "#pf.writeto('data_w_flat.fits',data,clobber=True)"
   ]
  },
  {
   "cell_type": "code",
   "execution_count": 159,
   "metadata": {
    "collapsed": false
   },
   "outputs": [],
   "source": [
    "#flats = median(flats,axis = 0)"
   ]
  },
  {
   "cell_type": "code",
   "execution_count": 160,
   "metadata": {
    "collapsed": false
   },
   "outputs": [],
   "source": [
    "#flats = (1.0*flats)/(1.0*median(flats))"
   ]
  },
  {
   "cell_type": "code",
   "execution_count": 161,
   "metadata": {
    "collapsed": true
   },
   "outputs": [],
   "source": [
    "#rawd = rawd - dks\n",
    "#data = rawd[600:,:,:]"
   ]
  },
  {
   "cell_type": "code",
   "execution_count": 162,
   "metadata": {
    "collapsed": true
   },
   "outputs": [],
   "source": [
    "#pf.writeto('data.fits',rawd)"
   ]
  },
  {
   "cell_type": "code",
   "execution_count": 163,
   "metadata": {
    "collapsed": true
   },
   "outputs": [],
   "source": [
    "data = pf.getdata('data_w_flat.fits')"
   ]
  },
  {
   "cell_type": "code",
   "execution_count": 164,
   "metadata": {
    "collapsed": false
   },
   "outputs": [],
   "source": [
    "#rawd = (1.0*rawd)/(1.0*flats)"
   ]
  },
  {
   "cell_type": "markdown",
   "metadata": {},
   "source": [
    "#Geometry"
   ]
  },
  {
   "cell_type": "code",
   "execution_count": 165,
   "metadata": {
    "collapsed": false
   },
   "outputs": [],
   "source": [
    "occstar = data[:,245:305,305:345]\n",
    "compa = data[:,50:88,518:561]\n",
    "compb = data[:,74:134,269:329]\n",
    "compc = data[:,280:315,90:140]\n",
    "compd = data[:,100:140,40:80]"
   ]
  },
  {
   "cell_type": "code",
   "execution_count": 166,
   "metadata": {
    "collapsed": false
   },
   "outputs": [],
   "source": [
    "#Hot pixel shit\n",
    "ccdata = (copy(data)**2)\n",
    "dlist = ((occstar,compa,compb,compc,compd))\n",
    "xStorage = zeros((len(dlist),len(data)))\n",
    "yStorage = zeros((len(dlist),len(data)))\n",
    "for h in range(len(dlist)): \n",
    "    for i in range(len(dlist[h])):\n",
    "        hotpix = dlist[h][i,:,:].argmax()\n",
    "        x = hotpix % dlist[h][1,1,:].shape\n",
    "        y = hotpix // dlist[h][1,1,:].shape\n",
    "        if h == 1:\n",
    "            xStorage[h,i] = x + 518\n",
    "            yStorage[h,i] = y + 50\n",
    "            #compa[i,y,x] = 2000000\n",
    "            #ccdata[i,yStorage[h,i]-5:yStorage[h,i]+5,xStorage[h,i]-5:xStorage[h,i]+5] = 100000 #-> use to check if hotpix = center of stars\n",
    "        if h == 2:\n",
    "            xStorage[h,i] = x + 269\n",
    "            yStorage[h,i] = y + 74\n",
    "            #ccdata[i,yStorage[h,i],xStorage[h,i]] = 5000#ccdata[i,yStorage[h,i]-0:yStorage[h,i]+0,xStorage[h,i]-0:xStorage[h,i]+0] = 100000 #-> use to check if hotpix = center of stars\n",
    "        if h == 3:\n",
    "            xStorage[h,i] = x + 90\n",
    "            yStorage[h,i] = y + 280\n",
    "            #ccdata[i,yStorage[h,i],xStorage[h,i]] = 5000**2#-0:yStorage[h,i]+0,xStorage[h,i]-0:xStorage[h,i]+0] = 100000 #-> use to check if hotpix = center of stars\n",
    "        if h == 4:\n",
    "            xStorage[h,i] = x + 40\n",
    "            yStorage[h,i] = y + 100\n",
    "            #ccdata[i,yStorage[h,i],xStorage[h,i]] = 5000#-0:yStorage[h,i]+0,xStorage[h,i]-0:xStorage[h,i]+0] = 100000 #-> use to check if hotpix = center of stars"
   ]
  },
  {
   "cell_type": "code",
   "execution_count": 167,
   "metadata": {
    "collapsed": false
   },
   "outputs": [],
   "source": [
    "#clf()\n",
    "#pq.show(ccdata[:,100:140,40:80])"
   ]
  },
  {
   "cell_type": "code",
   "execution_count": 168,
   "metadata": {
    "collapsed": false
   },
   "outputs": [],
   "source": [
    "def banana(denom,axis,std):\n",
    "    global yStorage\n",
    "    global xStorage\n",
    "    xmn,xstd = robomad(xStorage[axis],std)\n",
    "    ymn,ystd = robomad(yStorage[axis],std)\n",
    "\n",
    "    for i in range(1,len(xStorage[axis])-1):\n",
    "        if xStorage[axis,i] > xStorage[axis,i-1]+(xstd/denom) or xStorage[axis,i] < (xStorage[axis,i-1]-(xstd/denom)):\n",
    "            xStorage[axis,i] = ((xStorage[axis,i-1]+xStorage[axis,i+1])/2)\n",
    "        if yStorage[axis,i] > yStorage[axis,i-1]+(ystd/denom) or yStorage[axis,i] < yStorage[axis,i-1]-(xstd/denom):\n",
    "            yStorage[axis,i] = ((yStorage[axis,i-1]+yStorage[axis,i+1])/2)"
   ]
  },
  {
   "cell_type": "code",
   "execution_count": 169,
   "metadata": {
    "collapsed": false
   },
   "outputs": [],
   "source": [
    "def rutabaga(ccdata,r1,r2,r3,axis):\n",
    "    global xStorage\n",
    "    global yStorage\n",
    "    \n",
    "    for j in range(4):\n",
    "        #print(j)\n",
    "        for i in range(len(ccdata[:,:,:])):\n",
    "            x,y = cntrd(ccdata[i,:,:],r1,xStorage[axis,i],yStorage[axis,i])\n",
    "            #ccdata[i,y,x] = 2500\n",
    "            xStorage[axis,i] = x\n",
    "            yStorage[axis,i] = y\n",
    "            #print i\n",
    "    for j in range(4):\n",
    "        #print(j)\n",
    "        for i in range(len(ccdata[:,:,:])):\n",
    "            x,y = cntrd(ccdata[i,:,:],r2,xStorage[axis,i],yStorage[axis,i])\n",
    "            #ccdata[i,y,x] = 2500\n",
    "            xStorage[axis,i] = x\n",
    "            yStorage[axis,i] = y\n",
    "            #print i\n",
    "    for j in range(4):\n",
    "        #print(j)\n",
    "        for i in range(len(ccdata[:,:,:])):\n",
    "            x,y = cntrd(ccdata[i,:,:],r3,xStorage[axis,i],yStorage[axis,i])\n",
    "            #ccdata[i,y,x] = 2500\n",
    "            xStorage[axis,i] = x\n",
    "            yStorage[axis,i] = y\n",
    "            #print i\n",
    "    for i in range(len(ccdata[:,:,:])):\n",
    "        x,y = cntrd(ccdata[i,:,:],r3,xStorage[axis,i],yStorage[axis,i])\n",
    "        #ccdata[i,y,x] = 100000\n",
    "        xStorage[axis,i] = x\n",
    "        yStorage[axis,i] = y\n",
    "        #print i"
   ]
  },
  {
   "cell_type": "code",
   "execution_count": 170,
   "metadata": {
    "collapsed": false
   },
   "outputs": [],
   "source": [
    "def pineapple(denom,axis,std): #IF THE PROBLEM COMES LATER IN THE DATASET\n",
    "    global yStorage\n",
    "    global xStorage\n",
    "    xmn,xstd = robomad(xStorage[axis],std)\n",
    "    ymn,ystd = robomad(yStorage[axis],std)\n",
    "\n",
    "    for i in range(len(xStorage[axis])):\n",
    "        if xStorage[axis,i] > xStorage[axis,i-1]+(xstd/denom) or xStorage[axis,i] < (xStorage[axis,i-1]-(xstd/denom)):\n",
    "            xStorage[axis,i] = xStorage[axis,i-1]\n",
    "        if yStorage[axis,i] > yStorage[axis,i-1]+(ystd/denom) or yStorage[axis,i] < yStorage[axis,i-1]-(xstd/denom):\n",
    "            yStorage[axis,i] = (yStorage[axis,i-1])"
   ]
  },
  {
   "cell_type": "code",
   "execution_count": 171,
   "metadata": {
    "collapsed": false
   },
   "outputs": [],
   "source": [
    "def mangosteen(denom,axis,std): #IF THE PROBLEM COMES EARLIER IN THE DATASET\n",
    "    global yStorage\n",
    "    global xStorage\n",
    "    xmn,xstd = robomad(xStorage[axis],std)\n",
    "    ymn,ystd = robomad(yStorage[axis],std)\n",
    "\n",
    "    for i in range(len(xStorage[axis])-2,-1,-1):\n",
    "        if (xStorage[axis,i] > (xStorage[axis,i+1]+(xstd/denom))) or xStorage[axis,i] < (xStorage[axis,i+1]-(xstd/denom)):                    \n",
    "            xStorage[axis,i] = (xStorage[axis,i+1])\n",
    "            #print('mangosteen!')\n",
    "        if yStorage[axis,i] > (yStorage[axis,i+1]+(ystd/denom)) or yStorage[axis,i] < (yStorage[axis,i+1]-(xstd/denom)):\n",
    "            yStorage[axis,i] = (yStorage[axis,i+1])"
   ]
  },
  {
   "cell_type": "code",
   "execution_count": 172,
   "metadata": {
    "collapsed": false
   },
   "outputs": [],
   "source": [
    "banana(5,1,3)\n",
    "rutabaga(ccdata,15,10,5,1)\n",
    "banana(5,1,3)\n",
    "rutabaga(ccdata,6,6,6,1)\n",
    "banana(5,1,3)\n",
    "rutabaga(ccdata,6,6,6,1)"
   ]
  },
  {
   "cell_type": "code",
   "execution_count": 173,
   "metadata": {
    "collapsed": false
   },
   "outputs": [],
   "source": [
    "banana(5,2,3)\n",
    "rutabaga(ccdata,15,10,10,2)\n",
    "banana(5,2,3)\n",
    "rutabaga(ccdata,10,6,6,2)\n",
    "banana(5,2,3)\n",
    "rutabaga(ccdata,10,6,6,2)\n",
    "banana(5,2,3)\n",
    "rutabaga(ccdata,10,6,6,2)\n",
    "banana(5,2,3)\n",
    "rutabaga(ccdata,10,6,6,2)\n",
    "banana(6,2,3)\n",
    "rutabaga(ccdata,10,6,6,2)\n",
    "banana(6,2,3)\n",
    "pineapple(2,2,3)\n",
    "rutabaga(ccdata,6,6,6,2)\n",
    "banana(7,2,3)\n",
    "mangosteen(2,2,3)\n",
    "rutabaga(ccdata,6,6,4,2)\n",
    "banana(10,2,3)\n",
    "rutabaga(ccdata,4,4,4,2)\n",
    "banana(10,2,3)"
   ]
  },
  {
   "cell_type": "code",
   "execution_count": 174,
   "metadata": {
    "collapsed": false
   },
   "outputs": [],
   "source": [
    "banana(5,3,3)\n",
    "rutabaga(ccdata,6,6,6,3)\n",
    "banana(5,3,3)\n",
    "rutabaga(ccdata,6,6,6,3)\n",
    "banana(5,3,3)\n",
    "pineapple(3,3,3)\n",
    "rutabaga(ccdata,6,6,6,3)\n",
    "banana(6,3,3)\n",
    "mangosteen(3,3,3)\n",
    "rutabaga(ccdata,6,6,6,3)\n",
    "banana(6,3,3)\n",
    "pineapple(3,3,2)\n",
    "rutabaga(ccdata,6,6,6,3)\n",
    "banana(5,3,3)\n",
    "mangosteen(3,3,2)\n",
    "rutabaga(ccdata,6,6,6,3)\n",
    "banana(6,3,3)\n",
    "rutabaga(ccdata,6,6,6,3)\n",
    "banana(6,3,3)\n",
    "rutabaga(ccdata,6,6,6,3)\n",
    "banana(6,3,3)\n",
    "rutabaga(ccdata,6,6,6,3)\n",
    "banana(6,3,3)\n",
    "mangosteen(3,3,2)\n",
    "rutabaga(ccdata,6,6,6,3)"
   ]
  },
  {
   "cell_type": "code",
   "execution_count": 175,
   "metadata": {
    "collapsed": false
   },
   "outputs": [],
   "source": [
    "banana(5,4,3)\n",
    "rutabaga(ccdata,10,10,6,4)\n",
    "banana(5,4,3)\n",
    "rutabaga(ccdata,8,8,8,4)\n",
    "banana(5,4,3)\n",
    "rutabaga(ccdata,8,6,6,4)\n",
    "banana(7,4,3)\n",
    "rutabaga(ccdata,8,6,6,4)\n",
    "banana(7,4,3)\n",
    "rutabaga(ccdata,8,6,6,4)\n",
    "banana(7,4,3)"
   ]
  },
  {
   "cell_type": "code",
   "execution_count": 176,
   "metadata": {
    "collapsed": false
   },
   "outputs": [],
   "source": [
    "#for i in range(len(xStorage[1])):\n",
    "#    ccdata[i,yStorage[1,i],xStorage[1,i]] = 10000**2\n",
    "#for i in range(len(xStorage[1])):\n",
    "#    ccdata[i,yStorage[2,i],xStorage[2,i]] = 10000**2\n",
    "#for i in range(len(xStorage[1])):\n",
    "#    ccdata[i,yStorage[3,i],xStorage[3,i]] = 10000**2\n",
    "#for i in range(len(xStorage[1])):\n",
    "#    ccdata[i,yStorage[4,i],xStorage[4,i]] = 10000**2"
   ]
  },
  {
   "cell_type": "code",
   "execution_count": 177,
   "metadata": {
    "collapsed": false
   },
   "outputs": [],
   "source": [
    "#clf()\n",
    "#pq.show(ccdata[:,50:88,510:571])\n",
    "#matshow(sum(data[0:10,:,:],axis = 0))"
   ]
  },
  {
   "cell_type": "code",
   "execution_count": 178,
   "metadata": {
    "collapsed": true
   },
   "outputs": [],
   "source": [
    "Pfrm1 = 5\n",
    "Pxc1,Pyc1 = cntrd(sum(ccdata[5:10,:,:],axis=0),5,333,275)"
   ]
  },
  {
   "cell_type": "code",
   "execution_count": 179,
   "metadata": {
    "collapsed": true
   },
   "outputs": [],
   "source": [
    "xDist1 = Pxc1 - xStorage[1,0]\n",
    "yDist1 = Pyc1 - yStorage[1,0]"
   ]
  },
  {
   "cell_type": "code",
   "execution_count": 180,
   "metadata": {
    "collapsed": false
   },
   "outputs": [],
   "source": [
    "for i in range(len(data)):\n",
    "    #x,y = cntrd(data[i,:,:],4,mgx*i+bs[h][0],mgy*i+bs[h][1])\n",
    "    #xd = Pmgy*i+bs[h][0]\n",
    "    #yd = Pmgx*i+bs[h][1]\n",
    "    xStorage[0,i] = xDist1 + xStorage[1,i]\n",
    "    yStorage[0,i] = yDist1 + yStorage[1,i]\n",
    "    #ccdata[i,yDist1 + yStorage[1,i], xDist1 + xStorage[1,i]] = 100000# -0:yDist1 + yStorage[0,i] +0,xDist1 + xStorage[0,i]-0:xDist1 + xStorage[0,i]+0] = 100000"
   ]
  },
  {
   "cell_type": "code",
   "execution_count": 181,
   "metadata": {
    "collapsed": false
   },
   "outputs": [],
   "source": [
    "banana(5,0,3)"
   ]
  },
  {
   "cell_type": "code",
   "execution_count": 182,
   "metadata": {
    "collapsed": false
   },
   "outputs": [],
   "source": [
    "#for i in range(len(xStorage[0])):\n",
    "#    ccdata[i,yStorage[0,i],xStorage[0,i]] = 100000"
   ]
  },
  {
   "cell_type": "code",
   "execution_count": 183,
   "metadata": {
    "collapsed": false
   },
   "outputs": [],
   "source": [
    "#clf()\n",
    "#pq.show(data[:,245:305,305:345])"
   ]
  },
  {
   "cell_type": "code",
   "execution_count": 184,
   "metadata": {
    "collapsed": true
   },
   "outputs": [],
   "source": [
    "#data = data [55:65,:,:]"
   ]
  },
  {
   "cell_type": "code",
   "execution_count": 185,
   "metadata": {
    "collapsed": false
   },
   "outputs": [],
   "source": [
    "# NEED BETTER NUMBERS FOR FWHM, APR, INR, OUTR\n",
    "# FOR REFERENCE: dlist = ((occdata,compa,compb,compd))\n",
    "dlist = ((data,data,data,data,data))#,compa,compb,compd))\n",
    "fluxStorage = zeros((len(dlist),len(data)))\n",
    "bgFluxStorage = zeros((len(dlist),len(data)))\n",
    "apsets = [[None,8.,17.,28.],[8.,8.,17.,28.],[8.,8,14.,28.],[4,8,14.,28.],[4,8,14.,28.]]#[6.,6.,7.,14.]]\n",
    "for h in range(len(dlist)):\n",
    "    #print(h)\n",
    "    for i in range(len(data)):\n",
    "        flux,bgflux = apPhot(h,data[i,:,:],xStorage[h,i],yStorage[h,i],apsets[h][0],apsets[h][1],apsets[h][2],apsets[h][3])\n",
    "        fluxStorage[h,i] = flux\n",
    "        bgFluxStorage[h,i] = bgflux"
   ]
  },
  {
   "cell_type": "code",
   "execution_count": 186,
   "metadata": {
    "collapsed": true
   },
   "outputs": [],
   "source": [
    "pf.writeto('makedupdata.fits',data,clobber=True)"
   ]
  },
  {
   "cell_type": "code",
   "execution_count": null,
   "metadata": {
    "collapsed": true
   },
   "outputs": [],
   "source": []
  },
  {
   "cell_type": "code",
   "execution_count": 187,
   "metadata": {
    "collapsed": false
   },
   "outputs": [],
   "source": [
    "occflux = fluxStorage[0,:]\n",
    "compa = fluxStorage[1,:]\n",
    "compb = fluxStorage[2,:]\n",
    "compc = fluxStorage[3,:]"
   ]
  },
  {
   "cell_type": "code",
   "execution_count": 188,
   "metadata": {
    "collapsed": false
   },
   "outputs": [],
   "source": [
    "master = compa+compb+compb"
   ]
  },
  {
   "cell_type": "code",
   "execution_count": 189,
   "metadata": {
    "collapsed": false
   },
   "outputs": [
    {
     "data": {
      "text/plain": [
       "(7665.122638171205, 3140.0410803029645)"
      ]
     },
     "execution_count": 189,
     "metadata": {},
     "output_type": "execute_result"
    }
   ],
   "source": [
    "std(master[:50]),std(occflux[:50])"
   ]
  },
  {
   "cell_type": "code",
   "execution_count": 190,
   "metadata": {
    "collapsed": false
   },
   "outputs": [
    {
     "data": {
      "text/plain": [
       "[<matplotlib.lines.Line2D at 0x138141190>]"
      ]
     },
     "execution_count": 190,
     "metadata": {},
     "output_type": "execute_result"
    }
   ],
   "source": [
    "clf()\n",
    "plot(occflux)\n",
    "plot(compa)\n",
    "#plot(compb)\n",
    "#plot(compc)\n",
    "#plot(compd)"
   ]
  },
  {
   "cell_type": "code",
   "execution_count": 191,
   "metadata": {
    "collapsed": false
   },
   "outputs": [],
   "source": [
    "occflux = occflux/occflux[0]\n",
    "compa = compa/compa[0]\n",
    "compb = compb/compb[0]\n",
    "compc = compc/compc[0]\n",
    "master = master/master[0]"
   ]
  },
  {
   "cell_type": "code",
   "execution_count": 192,
   "metadata": {
    "collapsed": false
   },
   "outputs": [
    {
     "data": {
      "text/plain": [
       "[<matplotlib.lines.Line2D at 0x13747f950>]"
      ]
     },
     "execution_count": 192,
     "metadata": {},
     "output_type": "execute_result"
    }
   ],
   "source": [
    "clf()\n",
    "plot(occflux/master)#+compb[50:])/2))"
   ]
  },
  {
   "cell_type": "code",
   "execution_count": 193,
   "metadata": {
    "collapsed": false
   },
   "outputs": [],
   "source": [
    "#clf()\n",
    "#pq.show(data)\n",
    "f = occflux/master"
   ]
  },
  {
   "cell_type": "code",
   "execution_count": 194,
   "metadata": {
    "collapsed": false
   },
   "outputs": [
    {
     "data": {
      "text/plain": [
       "(array([-0.04640036,  1.03349983]), array([ 0.04690023,  0.10356241]))"
      ]
     },
     "execution_count": 194,
     "metadata": {},
     "output_type": "execute_result"
    }
   ],
   "source": [
    "numpy.polyfit(range(18),f[152:170],1),numpy.polyfit(range(18),f[205:223],1)"
   ]
  },
  {
   "cell_type": "code",
   "execution_count": 195,
   "metadata": {
    "collapsed": false
   },
   "outputs": [],
   "source": [
    "x = array(range(250))\n",
    "xf = array(range(250))"
   ]
  },
  {
   "cell_type": "code",
   "execution_count": 196,
   "metadata": {
    "collapsed": false
   },
   "outputs": [],
   "source": [
    "y = (-0.04640074)*(x-152)+1.03350681\n",
    "yf = (0.04690044)*(x-205)+0.10356409"
   ]
  },
  {
   "cell_type": "code",
   "execution_count": 197,
   "metadata": {
    "collapsed": false
   },
   "outputs": [],
   "source": [
    "h = ones((len(y)))"
   ]
  },
  {
   "cell_type": "code",
   "execution_count": 198,
   "metadata": {
    "collapsed": true
   },
   "outputs": [],
   "source": [
    "h = h*0.55"
   ]
  },
  {
   "cell_type": "code",
   "execution_count": null,
   "metadata": {
    "collapsed": false
   },
   "outputs": [],
   "source": []
  },
  {
   "cell_type": "code",
   "execution_count": 231,
   "metadata": {
    "collapsed": false
   },
   "outputs": [
    {
     "data": {
      "text/plain": [
       "<matplotlib.text.Text at 0x110253ad0>"
      ]
     },
     "execution_count": 231,
     "metadata": {},
     "output_type": "execute_result"
    }
   ],
   "source": [
    "clf()\n",
    "plot(y)\n",
    "plot(f)\n",
    "plot(h)\n",
    "plot(yf)\n",
    "plt.text(-10,11.5,'Plot starts at frame 600; halflight at: Ingress: x = 162.419 ; Egress: x = 214.521')\n",
    "plt.text(-13,10.5,'Ninox cadence was 0.5 hz, so halflight to halflight (214.521-162.419)*2 = 104.204s')"
   ]
  },
  {
   "cell_type": "code",
   "execution_count": 232,
   "metadata": {
    "collapsed": true
   },
   "outputs": [],
   "source": [
    "savefig('halflight.png')"
   ]
  },
  {
   "cell_type": "code",
   "execution_count": 200,
   "metadata": {
    "collapsed": false
   },
   "outputs": [
    {
     "data": {
      "text/plain": [
       "52.101999999999975"
      ]
     },
     "execution_count": 200,
     "metadata": {},
     "output_type": "execute_result"
    }
   ],
   "source": [
    "214.521-162.419"
   ]
  },
  {
   "cell_type": "code",
   "execution_count": 202,
   "metadata": {
    "collapsed": false
   },
   "outputs": [
    {
     "data": {
      "text/plain": [
       "104.20399999999995"
      ]
     },
     "execution_count": 202,
     "metadata": {},
     "output_type": "execute_result"
    }
   ],
   "source": [
    "52.101999999999975*2"
   ]
  },
  {
   "cell_type": "code",
   "execution_count": null,
   "metadata": {
    "collapsed": true
   },
   "outputs": [],
   "source": []
  }
 ],
 "metadata": {
  "kernelspec": {
   "display_name": "Python 2",
   "language": "python",
   "name": "python2"
  },
  "language_info": {
   "codemirror_mode": {
    "name": "ipython",
    "version": 2
   },
   "file_extension": ".py",
   "mimetype": "text/x-python",
   "name": "python",
   "nbconvert_exporter": "python",
   "pygments_lexer": "ipython2",
   "version": "2.7.10"
  }
 },
 "nbformat": 4,
 "nbformat_minor": 0
}
