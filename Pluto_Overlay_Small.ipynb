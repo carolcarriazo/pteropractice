{
 "cells": [
  {
   "cell_type": "markdown",
   "metadata": {},
   "source": [
    "#Pluto Overlay on Occultation Star"
   ]
  },
  {
   "cell_type": "code",
   "execution_count": 16,
   "metadata": {
    "collapsed": false
   },
   "outputs": [
    {
     "name": "stdout",
     "output_type": "stream",
     "text": [
      "Using matplotlib backend: MacOSX\n",
      "Populating the interactive namespace from numpy and matplotlib\n"
     ]
    }
   ],
   "source": [
    "%pylab\n",
    "import astropy.io.fits as pf"
   ]
  },
  {
   "cell_type": "code",
   "execution_count": 17,
   "metadata": {
    "collapsed": false
   },
   "outputs": [
    {
     "data": {
      "text/plain": [
       "<matplotlib.image.AxesImage at 0x10aeda910>"
      ]
     },
     "execution_count": 17,
     "metadata": {},
     "output_type": "execute_result"
    }
   ],
   "source": [
    "R1 = 285.20616\n",
    "R2 = 285.20115\n",
    "D1 = -20.694613\n",
    "D2 = -20.709536\n",
    "x1 = 61.173\n",
    "x2 = 78.054\n",
    "y1 = 61.774\n",
    "y2 = 8.052\n",
    "\n",
    "d = pf.getdata('2mass_starfield_smaller.fits')\n",
    "imshow(d)"
   ]
  },
  {
   "cell_type": "code",
   "execution_count": 18,
   "metadata": {
    "collapsed": false
   },
   "outputs": [
    {
     "name": "stdout",
     "output_type": "stream",
     "text": [
      "[[ 19.     0.    53.88 -20.    41.    30.4 ]\n",
      " [ 19.     0.    53.63 -20.    41.    31.  ]\n",
      " [ 19.     0.    53.37 -20.    41.    31.6 ]\n",
      " [ 19.     0.    53.11 -20.    41.    32.2 ]\n",
      " [ 19.     0.    52.86 -20.    41.    32.9 ]\n",
      " [ 19.     0.    52.6  -20.    41.    33.5 ]\n",
      " [ 19.     0.    52.34 -20.    41.    34.1 ]\n",
      " [ 19.     0.    52.08 -20.    41.    34.8 ]\n",
      " [ 19.     0.    51.82 -20.    41.    35.4 ]\n",
      " [ 19.     0.    51.55 -20.    41.    36.1 ]\n",
      " [ 19.     0.    51.29 -20.    41.    36.7 ]\n",
      " [ 19.     0.    51.03 -20.    41.    37.3 ]\n",
      " [ 19.     0.    50.76 -20.    41.    37.9 ]\n",
      " [ 19.     0.    50.5  -20.    41.    38.6 ]\n",
      " [ 19.     0.    50.23 -20.    41.    39.2 ]\n",
      " [ 19.     0.    49.97 -20.    41.    39.8 ]\n",
      " [ 19.     0.    49.7  -20.    41.    40.4 ]\n",
      " [ 19.     0.    49.44 -20.    41.    41.  ]\n",
      " [ 19.     0.    49.18 -20.    41.    41.6 ]\n",
      " [ 19.     0.    48.92 -20.    41.    42.2 ]\n",
      " [ 19.     0.    48.66 -20.    41.    42.8 ]\n",
      " [ 19.     0.    48.4  -20.    41.    43.4 ]\n",
      " [ 19.     0.    48.14 -20.    41.    44.  ]\n",
      " [ 19.     0.    47.88 -20.    41.    44.6 ]\n",
      " [ 19.     0.    47.62 -20.    41.    45.2 ]\n",
      " [ 19.     0.    47.37 -20.    41.    45.8 ]\n",
      " [ 19.     0.    47.11 -20.    41.    46.5 ]\n",
      " [ 19.     0.    46.85 -20.    41.    47.1 ]\n",
      " [ 19.     0.    46.59 -20.    41.    47.7 ]\n",
      " [ 19.     0.    46.34 -20.    41.    48.4 ]\n",
      " [ 19.     0.    46.08 -20.    41.    49.  ]\n",
      " [ 19.     0.    45.81 -20.    41.    49.6 ]\n",
      " [ 19.     0.    45.55 -20.    41.    50.3 ]\n",
      " [ 19.     0.    45.29 -20.    41.    50.9 ]\n",
      " [ 19.     0.    45.03 -20.    41.    51.5 ]\n",
      " [ 19.     0.    44.76 -20.    41.    52.2 ]\n",
      " [ 19.     0.    44.5  -20.    41.    52.8 ]\n",
      " [ 19.     0.    44.23 -20.    41.    53.4 ]\n",
      " [ 19.     0.    43.96 -20.    41.    54.  ]\n",
      " [ 19.     0.    43.7  -20.    41.    54.7 ]\n",
      " [ 19.     0.    43.43 -20.    41.    55.3 ]\n",
      " [ 19.     0.    43.17 -20.    41.    55.9 ]\n",
      " [ 19.     0.    42.91 -20.    41.    56.5 ]\n",
      " [ 19.     0.    42.65 -20.    41.    57.1 ]\n",
      " [ 19.     0.    42.38 -20.    41.    57.7 ]\n",
      " [ 19.     0.    42.12 -20.    41.    58.3 ]\n",
      " [ 19.     0.    41.87 -20.    41.    58.9 ]\n",
      " [ 19.     0.    41.61 -20.    41.    59.5 ]\n",
      " [ 19.     0.    41.35 -20.    42.     0.1 ]]\n"
     ]
    }
   ],
   "source": [
    "PlutoCoords = loadtxt('pluto_positions_smaller.txt', dtype='float', skiprows =2)\n",
    "print PlutoCoords"
   ]
  },
  {
   "cell_type": "code",
   "execution_count": 19,
   "metadata": {
    "collapsed": false
   },
   "outputs": [
    {
     "data": {
      "text/plain": [
       "49"
      ]
     },
     "execution_count": 19,
     "metadata": {},
     "output_type": "execute_result"
    }
   ],
   "source": [
    "PCra = PlutoCoords[:,:3]\n",
    "PCdec = PlutoCoords[:,3:]\n",
    "PlutoCoords.shape[0]"
   ]
  },
  {
   "cell_type": "code",
   "execution_count": 20,
   "metadata": {
    "collapsed": false
   },
   "outputs": [],
   "source": [
    "def ra2deg(h, m, s):\n",
    "    '''[RAdeg] = ra2deg(rAtuple)\n",
    "    Returns decimal degree form of right ascension RAdeg given rAtuple=(hour, minute, second)\n",
    "    KH, 6/8/15\n",
    "    '''\n",
    "    RAdeg = h*(360./24) + m*(360./(24.*60.)) + s*(360./(24.*60.*60.))\n",
    "    return (RAdeg)    \n",
    "\n",
    "def dec2deg(d, m, s):\n",
    "    '''[DECdeg] = dec2deg(dectuple)\n",
    "    Returns decimal degree form of declination DECdeg given dectuple=(degrees, minutes,\n",
    "    seconds).\n",
    "    KH, 6/8/15\n",
    "    '''\n",
    "    if d < 0:\n",
    "        DECdeg = d - (m/60.) - (s/(60.*60.))\n",
    "    else:\n",
    "        DECdeg = d + (m/60.) + (s/(60.*60.))\n",
    "    return(DECdeg)"
   ]
  },
  {
   "cell_type": "code",
   "execution_count": 21,
   "metadata": {
    "collapsed": false
   },
   "outputs": [],
   "source": [
    "ralist = range(49)\n",
    "RAcoord = []\n",
    "DECcoord = []"
   ]
  },
  {
   "cell_type": "code",
   "execution_count": 22,
   "metadata": {
    "collapsed": false
   },
   "outputs": [],
   "source": [
    "for i in ralist:\n",
    "    hr = PCra[i,0]\n",
    "    m = PCra[i,1]\n",
    "    s = PCra[i,2]\n",
    "    RAcoord.append(ra2deg(hr,m,s))"
   ]
  },
  {
   "cell_type": "code",
   "execution_count": 23,
   "metadata": {
    "collapsed": false
   },
   "outputs": [],
   "source": [
    "for i in ralist:\n",
    "    d = PCdec[i,0]\n",
    "    m = PCdec[i,1]\n",
    "    s = PCdec[i,2]\n",
    "    DECcoord.append(dec2deg(d,m,s))"
   ]
  },
  {
   "cell_type": "code",
   "execution_count": 24,
   "metadata": {
    "collapsed": false
   },
   "outputs": [
    {
     "name": "stdout",
     "output_type": "stream",
     "text": [
      "(285.22449999999998, -20.691777777777776)\n"
     ]
    }
   ],
   "source": [
    "print (RAcoord[0], DECcoord[0])"
   ]
  },
  {
   "cell_type": "code",
   "execution_count": 25,
   "metadata": {
    "collapsed": false
   },
   "outputs": [],
   "source": [
    "# Converts degrees to pixels \n",
    "def convert(R1, R2, D1, D2, x1, x2, y1, y2):\n",
    "    A1 = np.array([[R1, 1.], [R2, 1.]])\n",
    "    b1 = np.array([[x1],[x2]])\n",
    "    A2 = np.array([[D1, 1.], [D2, 1.]])\n",
    "    b2 = np.array([[y1], [y2]])\n",
    "    x1 = numpy.linalg.solve(A1, b1)\n",
    "    x2 = numpy.linalg.solve(A2, b2)    \n",
    "    mx = x1[0]\n",
    "    bx = x1[1]\n",
    "    my = x2[0]\n",
    "    by = x2[1]\n",
    "    return(mx, bx, my, by)\n",
    "\n",
    "def getxy(RA, DEC, (mx, bx, my, by)):\n",
    "    xp = float(mx*RA + bx)\n",
    "    yp = float(my*DEC + by)\n",
    "    return xp, yp"
   ]
  },
  {
   "cell_type": "code",
   "execution_count": 26,
   "metadata": {
    "collapsed": false
   },
   "outputs": [],
   "source": [
    "pPixels = []\n",
    "convFactors = convert(R1, R2, D1, D2, x1, x2, y1, y2)\n",
    "for i in range(len(RAcoord)):\n",
    "    pPixels.append(getxy(RAcoord[i],DECcoord[i],convFactors))\n",
    "    "
   ]
  },
  {
   "cell_type": "code",
   "execution_count": 27,
   "metadata": {
    "collapsed": false
   },
   "outputs": [
    {
     "ename": "TypeError",
     "evalue": "Invalid dimensions for image data",
     "output_type": "error",
     "traceback": [
      "\u001b[0;31m---------------------------------------------------------------------------\u001b[0m",
      "\u001b[0;31mTypeError\u001b[0m                                 Traceback (most recent call last)",
      "\u001b[0;32m<ipython-input-27-d7864e15a76c>\u001b[0m in \u001b[0;36m<module>\u001b[0;34m()\u001b[0m\n\u001b[1;32m      5\u001b[0m     \u001b[0mys\u001b[0m\u001b[0;34m.\u001b[0m\u001b[0mappend\u001b[0m\u001b[0;34m(\u001b[0m\u001b[0mpPixels\u001b[0m\u001b[0;34m[\u001b[0m\u001b[0mi\u001b[0m\u001b[0;34m]\u001b[0m\u001b[0;34m[\u001b[0m\u001b[0;36m1\u001b[0m\u001b[0;34m]\u001b[0m\u001b[0;34m)\u001b[0m\u001b[0;34m\u001b[0m\u001b[0m\n\u001b[1;32m      6\u001b[0m \u001b[0mscatter\u001b[0m\u001b[0;34m(\u001b[0m\u001b[0mxs\u001b[0m\u001b[0;34m,\u001b[0m \u001b[0mys\u001b[0m\u001b[0;34m,\u001b[0m \u001b[0mcolor\u001b[0m\u001b[0;34m=\u001b[0m\u001b[0;34m'red'\u001b[0m\u001b[0;34m,\u001b[0m \u001b[0ms\u001b[0m\u001b[0;34m=\u001b[0m\u001b[0;36m3\u001b[0m\u001b[0;34m,\u001b[0m \u001b[0mmarker\u001b[0m\u001b[0;34m=\u001b[0m\u001b[0;34m'o'\u001b[0m\u001b[0;34m)\u001b[0m\u001b[0;34m\u001b[0m\u001b[0m\n\u001b[0;32m----> 7\u001b[0;31m \u001b[0mimshow\u001b[0m\u001b[0;34m(\u001b[0m\u001b[0md\u001b[0m\u001b[0;34m)\u001b[0m\u001b[0;34m\u001b[0m\u001b[0m\n\u001b[0m",
      "\u001b[0;32m/Users/phot/anaconda/lib/python2.7/site-packages/matplotlib/pyplot.pyc\u001b[0m in \u001b[0;36mimshow\u001b[0;34m(X, cmap, norm, aspect, interpolation, alpha, vmin, vmax, origin, extent, shape, filternorm, filterrad, imlim, resample, url, hold, **kwargs)\u001b[0m\n\u001b[1;32m   2959\u001b[0m                         \u001b[0mvmax\u001b[0m\u001b[0;34m=\u001b[0m\u001b[0mvmax\u001b[0m\u001b[0;34m,\u001b[0m \u001b[0morigin\u001b[0m\u001b[0;34m=\u001b[0m\u001b[0morigin\u001b[0m\u001b[0;34m,\u001b[0m \u001b[0mextent\u001b[0m\u001b[0;34m=\u001b[0m\u001b[0mextent\u001b[0m\u001b[0;34m,\u001b[0m \u001b[0mshape\u001b[0m\u001b[0;34m=\u001b[0m\u001b[0mshape\u001b[0m\u001b[0;34m,\u001b[0m\u001b[0;34m\u001b[0m\u001b[0m\n\u001b[1;32m   2960\u001b[0m                         \u001b[0mfilternorm\u001b[0m\u001b[0;34m=\u001b[0m\u001b[0mfilternorm\u001b[0m\u001b[0;34m,\u001b[0m \u001b[0mfilterrad\u001b[0m\u001b[0;34m=\u001b[0m\u001b[0mfilterrad\u001b[0m\u001b[0;34m,\u001b[0m\u001b[0;34m\u001b[0m\u001b[0m\n\u001b[0;32m-> 2961\u001b[0;31m                         imlim=imlim, resample=resample, url=url, **kwargs)\n\u001b[0m\u001b[1;32m   2962\u001b[0m         \u001b[0mdraw_if_interactive\u001b[0m\u001b[0;34m(\u001b[0m\u001b[0;34m)\u001b[0m\u001b[0;34m\u001b[0m\u001b[0m\n\u001b[1;32m   2963\u001b[0m     \u001b[0;32mfinally\u001b[0m\u001b[0;34m:\u001b[0m\u001b[0;34m\u001b[0m\u001b[0m\n",
      "\u001b[0;32m/Users/phot/anaconda/lib/python2.7/site-packages/matplotlib/axes/_axes.pyc\u001b[0m in \u001b[0;36mimshow\u001b[0;34m(self, X, cmap, norm, aspect, interpolation, alpha, vmin, vmax, origin, extent, shape, filternorm, filterrad, imlim, resample, url, **kwargs)\u001b[0m\n\u001b[1;32m   4642\u001b[0m                        filterrad=filterrad, resample=resample, **kwargs)\n\u001b[1;32m   4643\u001b[0m \u001b[0;34m\u001b[0m\u001b[0m\n\u001b[0;32m-> 4644\u001b[0;31m         \u001b[0mim\u001b[0m\u001b[0;34m.\u001b[0m\u001b[0mset_data\u001b[0m\u001b[0;34m(\u001b[0m\u001b[0mX\u001b[0m\u001b[0;34m)\u001b[0m\u001b[0;34m\u001b[0m\u001b[0m\n\u001b[0m\u001b[1;32m   4645\u001b[0m         \u001b[0mim\u001b[0m\u001b[0;34m.\u001b[0m\u001b[0mset_alpha\u001b[0m\u001b[0;34m(\u001b[0m\u001b[0malpha\u001b[0m\u001b[0;34m)\u001b[0m\u001b[0;34m\u001b[0m\u001b[0m\n\u001b[1;32m   4646\u001b[0m         \u001b[0;32mif\u001b[0m \u001b[0mim\u001b[0m\u001b[0;34m.\u001b[0m\u001b[0mget_clip_path\u001b[0m\u001b[0;34m(\u001b[0m\u001b[0;34m)\u001b[0m \u001b[0;32mis\u001b[0m \u001b[0mNone\u001b[0m\u001b[0;34m:\u001b[0m\u001b[0;34m\u001b[0m\u001b[0m\n",
      "\u001b[0;32m/Users/phot/anaconda/lib/python2.7/site-packages/matplotlib/image.pyc\u001b[0m in \u001b[0;36mset_data\u001b[0;34m(self, A)\u001b[0m\n\u001b[1;32m    436\u001b[0m         if (self._A.ndim not in (2, 3) or\n\u001b[1;32m    437\u001b[0m             (self._A.ndim == 3 and self._A.shape[-1] not in (3, 4))):\n\u001b[0;32m--> 438\u001b[0;31m             \u001b[0;32mraise\u001b[0m \u001b[0mTypeError\u001b[0m\u001b[0;34m(\u001b[0m\u001b[0;34m\"Invalid dimensions for image data\"\u001b[0m\u001b[0;34m)\u001b[0m\u001b[0;34m\u001b[0m\u001b[0m\n\u001b[0m\u001b[1;32m    439\u001b[0m \u001b[0;34m\u001b[0m\u001b[0m\n\u001b[1;32m    440\u001b[0m         \u001b[0mself\u001b[0m\u001b[0;34m.\u001b[0m\u001b[0m_imcache\u001b[0m \u001b[0;34m=\u001b[0m \u001b[0mNone\u001b[0m\u001b[0;34m\u001b[0m\u001b[0m\n",
      "\u001b[0;31mTypeError\u001b[0m: Invalid dimensions for image data"
     ]
    }
   ],
   "source": [
    "xs = []\n",
    "ys = []\n",
    "for i in range(len(pPixels)):\n",
    "    xs.append(pPixels[i][0])\n",
    "    ys.append(pPixels[i][1])\n",
    "scatter(xs, ys, color='red', s=3, marker='o')\n",
    "imshow(d)"
   ]
  },
  {
   "cell_type": "code",
   "execution_count": null,
   "metadata": {
    "collapsed": true
   },
   "outputs": [],
   "source": []
  }
 ],
 "metadata": {
  "kernelspec": {
   "display_name": "Python 2",
   "language": "python",
   "name": "python2"
  },
  "language_info": {
   "codemirror_mode": {
    "name": "ipython",
    "version": 2
   },
   "file_extension": ".py",
   "mimetype": "text/x-python",
   "name": "python",
   "nbconvert_exporter": "python",
   "pygments_lexer": "ipython2",
   "version": "2.7.9"
  }
 },
 "nbformat": 4,
 "nbformat_minor": 0
}
